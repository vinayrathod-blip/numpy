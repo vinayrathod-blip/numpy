{
 "cells": [
  {
   "cell_type": "code",
   "execution_count": 24,
   "id": "10eff8f6-eac6-47b5-ab6f-e21987f9525e",
   "metadata": {},
   "outputs": [],
   "source": [
    "# 1.Create a NumPy array 'arr' of integers from 0 to 5 and print its data type.\n",
    "import numpy as np\n",
    "arr = np.arange(0,5)\n",
    "print(arr.dtype)"
   ]
  },
  {
   "cell_type": "code",
   "execution_count": 28,
   "id": "5727ea7d-3d10-4153-8e9d-1379887e7e5a",
   "metadata": {},
   "outputs": [],
   "source": [
    "# 2.Given a NumPy array 'arr', check if its data type is float64.\n",
    "import numpy as np\n",
    "arr = np.array([1.5, 2.6, 3.7])\n",
    "if arr.dtype == float:\n",
    "    print(arr,' is float64 data type')\n",
    "else:\n",
    "    print(arr,'is not float64 data type')"
   ]
  },
  {
   "cell_type": "code",
   "execution_count": 39,
   "id": "037e60cf-0140-4243-9c56-1824bea8509e",
   "metadata": {},
   "outputs": [],
   "source": [
    "# 3. Create a NumPy array 'arr' with a data type of complex128 containing three complex numbers.\n",
    "import numpy as np\n",
    "arr = np.array([1+2j, 3+4j, 5+6j], dtype= np.complex128)\n",
    "print('arr=',arr,' and','data type =', arr.dtype)"
   ]
  },
  {
   "cell_type": "code",
   "execution_count": 47,
   "id": "1da1597c-151a-407a-81ef-4263ddc32766",
   "metadata": {},
   "outputs": [],
   "source": [
    "#4.Convert an existing NumPy array 'arr' of integers to float32 data type.\n",
    "import numpy as np\n",
    "arr = np.arange(0,6,dtype = 'float32')\n",
    "print(arr.dtype)"
   ]
  },
  {
   "cell_type": "code",
   "execution_count": 68,
   "id": "12cb4d9a-5fe4-43e7-84e7-1457db467f42",
   "metadata": {},
   "outputs": [],
   "source": [
    "# 5.Given a NumPy array 'arr' with float64 data type, convert it to float32 to reduce decimal precision.\n",
    "import numpy as np\n",
    "arr= np.array([1.123456789, 2.987654321, 3.1415926535],dtype='float64')\n",
    "arr.astype('float32')\n",
    "print(arr)"
   ]
  },
  {
   "cell_type": "code",
   "execution_count": 70,
   "id": "df225e3c-01b6-486e-9206-8daabc8e0b0c",
   "metadata": {},
   "outputs": [],
   "source": [
    "#6. Write a function array_attributes that takes a NumPy array as input and returns its shape, size, and data type.\n",
    "import numpy as np\n",
    "def array_attributes(arr):\n",
    "    return arr.shape,arr.size,arr.dtype\n",
    "\n",
    "arr = np.array([[1, 2, 3], [4, 5, 6]])\n",
    "arr_1 = array_attributes(arr)\n",
    "print(\"Shape:\", arr_1[0])\n",
    "print(\"Size:\", arr_1[1])\n",
    "print(\"Data type:\", arr_1[2])"
   ]
  },
  {
   "cell_type": "code",
   "execution_count": 72,
   "id": "1c9cc4c5-cf27-4fe6-8da9-8c77fd53b3a9",
   "metadata": {},
   "outputs": [],
   "source": [
    "#7.Create a function array_dimension that takes a NumPy array as input and returns its dimensionality.\n",
    "import numpy as np\n",
    "def array_dimension(arr):\n",
    "    return arr.ndim\n",
    "    \n",
    "arr = np.array([[1, 2, 3], [4, 5, 6]])\n",
    "arr_1 = array_dimension(arr)\n",
    "print(arr_1)"
   ]
  },
  {
   "cell_type": "code",
   "execution_count": 75,
   "id": "2ef0d102-39ca-4afa-8af4-b38cf43b5442",
   "metadata": {},
   "outputs": [],
   "source": [
    "#8.Design a function item_size_info that takes a NumPy array as input and returns the item size and the total size in bytes.\n",
    "import numpy as np\n",
    "def item_size_info(arr):\n",
    "    return  arr.itemsize,arr.nbytes\n",
    "arr = np.array([[1, 2, 3], [4, 5, 6]])\n",
    "arr_1 = item_size_info(arr)\n",
    "print(arr_1)"
   ]
  },
  {
   "cell_type": "code",
   "execution_count": 78,
   "id": "0e4c4b71-93ad-481a-889b-7bb390591f5a",
   "metadata": {},
   "outputs": [],
   "source": [
    "#9.Create a function array_strides that takes a NumPy array as input and returns the strides of the array.\n",
    "import numpy as np\n",
    "def array_strides(arr):\n",
    "    return arr.strides\n",
    "arr = np.array([[1, 2, 3], [4, 5, 6]])\n",
    "arr_1 = array_strides(arr)\n",
    "print(arr_1)"
   ]
  },
  {
   "cell_type": "code",
   "execution_count": 80,
   "id": "3f8d13e2-25fc-4b0f-859f-8a834f61309e",
   "metadata": {},
   "outputs": [],
   "source": [
    "#10. Design a function shape_stride_relationship that takes a NumPy array as input and returns the shape and strides of the array.\n",
    "import numpy as np\n",
    "def shape_stride_relationship(arr):\n",
    "    return arr.shape, arr.strides\n",
    "arr = np.array([[1, 2, 3], [4, 5, 6]])\n",
    "arr_1 = shape_stride_relationship(arr)\n",
    "print(arr_1)"
   ]
  },
  {
   "cell_type": "code",
   "execution_count": 83,
   "id": "a8de1620-7760-4f7c-b17e-b3b1da4c7401",
   "metadata": {},
   "outputs": [],
   "source": [
    "#11. Create a function `create_zeros_array` that takes an integer `n` as input and returns a NumPy array of zeros with `n` elements.\n",
    "import numpy as np\n",
    "def create_zeros_array(n):\n",
    "    return np.zeros(n)\n",
    "\n",
    "arr_1 = create_zeros_array(5)\n",
    "print(arr_1)"
   ]
  },
  {
   "cell_type": "code",
   "execution_count": 87,
   "id": "35553f5d-e9fd-4a88-bc80-cf33d215ddb6",
   "metadata": {},
   "outputs": [],
   "source": [
    "#12. Write a function `create_ones_matrix` that takes integers `rows` and `cols` as inputs and generates a 2D NumPy array filled with ones of size `rows x cols`.\n",
    "import numpy as np\n",
    "def create_ones_matrix(rows, cols):\n",
    "    return np.ones((rows, cols))\n",
    "print(create_ones_matrix(3, 3))"
   ]
  },
  {
   "cell_type": "code",
   "execution_count": 89,
   "id": "faa829e7-cb3e-463c-adfc-815ae263fe54",
   "metadata": {},
   "outputs": [],
   "source": [
    "#13. Write a function `generate_range_array` that takes three integers start, stop, and step as arguments and creates a NumPy array with a range starting from `start`, ending at stop (exclusive), and with the specified `step`.\n",
    "import numpy as np\n",
    "\n",
    "def generate_range_array(start, stop, step):\n",
    "    return np.arange(start, stop, step)\n",
    "print(generate_range_array(1, 10, 2))"
   ]
  },
  {
   "cell_type": "code",
   "execution_count": 91,
   "id": "95fb7c48-c992-4e82-9262-2409bd5e20de",
   "metadata": {},
   "outputs": [],
   "source": [
    "#14. Design a function `generate_linear_space` that takes two floats `start`, `stop`, and an integer `num` as arguments and generates a NumPy array with num equally spaced values between `start` and `stop` (inclusive).\n",
    "import numpy as np\n",
    "\n",
    "def generate_linear_space(start, stop, num):\n",
    "    return np.linspace(start, stop, num)\n",
    "print(generate_linear_space(0, 1, 5))"
   ]
  },
  {
   "cell_type": "code",
   "execution_count": 93,
   "id": "90a21c2e-a65e-4fe9-acb3-697e8278993d",
   "metadata": {},
   "outputs": [],
   "source": [
    "#15. Create a function `create_identity_matrix` that takes an integer `n` as input and generates a square identity matrix of size `n x n` using `numpy.eye`.\n",
    "import numpy as np\n",
    "def create_identity_matrix(n):\n",
    "    return np.eye(n)\n",
    "print(create_identity_matrix(3))"
   ]
  },
  {
   "cell_type": "code",
   "execution_count": 97,
   "id": "3c7a0af3-b362-4a23-ac84-153536a49733",
   "metadata": {},
   "outputs": [],
   "source": [
    "#16. Write a function that takes a Python list and converts it into a NumPy array.\n",
    "import numpy as np\n",
    "def function(lst):\n",
    "    return np.array(lst)\n",
    "print(function([1, 2, 3, 4]))"
   ]
  },
  {
   "cell_type": "code",
   "execution_count": 114,
   "id": "e14d6013-f6c5-4795-a96e-ed8dddc962e4",
   "metadata": {},
   "outputs": [],
   "source": [
    "#17. Create a NumPy array and demonstrate the use of `numpy.view` to create a new array object with the same data.\n",
    "\n",
    "import numpy as np\n",
    "def demonstrate():\n",
    "    arr = np.array([1.5, 2.6, 3.7])\n",
    "    view_arr = arr.view()\n",
    "    print(\"Original array:\", arr)\n",
    "    print(\"View array:\", view_arr)\n",
    "    view_arr[1] = 10.0\n",
    "    print(\"Modified view:\", view_arr)\n",
    "    print(\"Original after modifying view:\", arr)\n",
    "print(demonstrate())"
   ]
  },
  {
   "cell_type": "code",
   "execution_count": 118,
   "id": "da81b969-5724-4add-9e84-21ddb18ff406",
   "metadata": {},
   "outputs": [],
   "source": [
    "#18. Write a function that takes two NumPy arrays and concatenates them along a specified axis.\n",
    "import numpy as np\n",
    "\n",
    "def concatenates_arrays(arr_1,arr_2,axis = 0):\n",
    "    return np.concatenate((arr_1,arr_2),axis = axis)\n",
    "arr_1 = np.array([[1, 2], [3, 4]])\n",
    "arr_2 = np.array([[5, 6], [7, 8]])\n",
    "print(concatenates_arrays(arr_1,arr_2, axis=0))"
   ]
  },
  {
   "cell_type": "code",
   "execution_count": 11,
   "id": "b2254730-d475-4f98-9167-c5bcba310d3c",
   "metadata": {},
   "outputs": [],
   "source": [
    "#19. Create two NumPy arrays with different shapes and concatenate them horizontally using `numpy concatenate`.\n",
    "import numpy as np\n",
    "\n",
    "a = np.array([[1, 2], [3, 4]])   \n",
    "b = np.array([[5], [6]])  \n",
    "\n",
    "numpy_concatenate = np.concatenate((a,b),axis=1)\n",
    "print(numpy_concatenate)"
   ]
  },
  {
   "cell_type": "code",
   "execution_count": 19,
   "id": "42fc584d-f6b6-45ab-a3de-f42829cee7ec",
   "metadata": {},
   "outputs": [],
   "source": [
    "#20. Write a function that vertically stacks multiple NumPy arrays given as a list.\n",
    "import numpy as np\n",
    "def vertical_stack(arr_list):\n",
    "    return np.vstack(arr_list)\n",
    "\n",
    "a = np.array([[1, 2], [3, 4]])\n",
    "b = np.array([[5, 6]])\n",
    "result = vertical_stack([a, b])\n",
    "print(result)"
   ]
  },
  {
   "cell_type": "code",
   "execution_count": 21,
   "id": "6df440a8-b1be-4de2-b5ad-ed5098933879",
   "metadata": {},
   "outputs": [],
   "source": [
    "#21. Write a Python function using NumPy to create an array of integers within a specified range (inclusive) with a given step size.\n",
    "import numpy as np\n",
    "\n",
    "def create_an_array(start, end, step):\n",
    "    return np.arange(start, end +1 , step)\n",
    "\n",
    "array_1 = create_an_array(1, 10, 2)\n",
    "print(array_1)"
   ]
  },
  {
   "cell_type": "code",
   "execution_count": 28,
   "id": "b1a08f32-acb4-4708-8469-e06015b6b58b",
   "metadata": {},
   "outputs": [],
   "source": [
    "#22. Write a Python function using NumPy to generate an array of 10 equally spaced values between 0 and 1 (inclusive).\n",
    "import numpy as np\n",
    "\n",
    "def generate_an_array():\n",
    "    return np.linspace(0,1,10)\n",
    "\n",
    "print(generate_an_array())"
   ]
  },
  {
   "cell_type": "code",
   "execution_count": 8,
   "id": "e3a393f3-6776-4536-a2f8-a0fac6f9d488",
   "metadata": {},
   "outputs": [],
   "source": [
    "# 23. Write a Python function using NumPy to create an array of 5 logarithmically spaced values between 1 and 1000 (inclusive).\n",
    "import numpy as np\n",
    "\n",
    "def create_an_array():\n",
    "    return np.logspace(1,1000,5)"
   ]
  },
  {
   "cell_type": "code",
   "execution_count": 11,
   "id": "4e67d9f6-1398-4c58-8cd3-78055ce7a804",
   "metadata": {},
   "outputs": [],
   "source": [
    "#24. Create a Pandas DataFrame using a NumPy array that contains 5 rows and 3 columns, where the values are random integers between 1 and 100.\n",
    "import pandas as pd\n",
    "import numpy as np\n",
    "data = np.random.randint(1, 101, size=(5, 3))\n",
    "\n",
    "df = pd.DataFrame(data,columns=['integers_1', 'integers_2', 'integers_3'])"
   ]
  },
  {
   "cell_type": "code",
   "execution_count": 13,
   "id": "2e6ebf3f-6551-4d2c-820d-6cc00ce4a7f8",
   "metadata": {},
   "outputs": [],
   "source": [
    "#25. Write a function that takes a Pandas DataFrame and replaces all negative values in a specific column with zeros. Use NumPy operations within the Pandas DataFrame.\n",
    "import pandas as pd\n",
    "import numpy as np\n",
    "\n",
    "def replaces_all_negative_values(df, column_name):\n",
    "    df[column_name] = np.where(df[column_name] < 0, 0, df[column_name])\n",
    "    return df"
   ]
  },
  {
   "cell_type": "code",
   "execution_count": 15,
   "id": "b44f1daf-2f4c-456e-aa77-a94e41613b33",
   "metadata": {},
   "outputs": [],
   "source": [
    "#26. Access the 3rd element from the given NumPy array. \n",
    "import numpy as np \n",
    "arr = np.array([10, 20, 30, 40, 50])\n",
    "arr[2]"
   ]
  },
  {
   "cell_type": "code",
   "execution_count": 17,
   "id": "f2b8f33f-7ee5-4fe2-a792-a9a82df3b697",
   "metadata": {},
   "outputs": [],
   "source": [
    "#27. Retrieve the element at index (1, 2) from the 2D NumPy array.\n",
    "import numpy as np\n",
    "\n",
    "arr_2d = np.array([[1, 2, 3],[4, 5, 6],[7, 8, 9]])\n",
    "\n",
    "arr_2d[1,2]"
   ]
  },
  {
   "cell_type": "code",
   "execution_count": 19,
   "id": "f13d9618-f592-4e32-be7b-749c28553e91",
   "metadata": {},
   "outputs": [
    {
     "data": {
      "text/plain": [
       "array([ 8, 10,  7])"
      ]
     },
     "execution_count": 19,
     "metadata": {},
     "output_type": "execute_result"
    }
   ],
   "source": [
    "#28. Using boolean indexing, extract elements greater than 5 from the given NumPy array.\n",
    "import numpy as np\n",
    "arr = np.array([3, 8, 2, 10, 5, 7])\n",
    "arr[arr>5]"
   ]
  },
  {
   "cell_type": "code",
   "execution_count": null,
   "id": "e1bbac08-4bcc-40d0-8763-8a21cc5f2a96",
   "metadata": {},
   "outputs": [],
   "source": [
    "#29. Perform basic slicing to extract elements from index 2 to 5 (inclusive) from the given NumPy array. \n",
    "import numpy as np\n",
    "arr = np.array([1, 2, 3, 4, 5, 6, 7, 8, 9])\n",
    "slicing_arr = arr[2:6]\n",
    "print(slicing_arr)"
   ]
  },
  {
   "cell_type": "code",
   "execution_count": 5,
   "id": "843c73a8-b604-4a68-9ba1-0c1174e3dbf6",
   "metadata": {},
   "outputs": [],
   "source": [
    "#30. Slice the 2D NumPy array to extract the sub-array `[[2, 3], [5, 6]]` from the given array.\n",
    "import numpy as np\n",
    "arr_2d = np.array([[1, 2, 3],[4, 5, 6],[7, 8, 9]])\n",
    "arr_2d[0:2,1:3]"
   ]
  },
  {
   "cell_type": "code",
   "execution_count": 8,
   "id": "62b48348-55e9-4767-ba57-29349184ea13",
   "metadata": {},
   "outputs": [],
   "source": [
    "#31.Write a NumPy function to extract elements in specific order from a given 2D array based on indices provided in another array.\n",
    "import numpy as np\n",
    "def extract_elements_2d(arr_2d, indices):\n",
    "    return arr_2d[indices[:, 0], indices[:, 1]]\n"
   ]
  },
  {
   "cell_type": "code",
   "execution_count": 15,
   "id": "a8ff7498-3bcf-4f12-a181-bce1a38becb5",
   "metadata": {},
   "outputs": [],
   "source": [
    "#32. Create a NumPy function that filters elements greater than a threshold from a given 1D array using boolean indexing.\n",
    "import numpy as np\n",
    "def filters_elements(arr,threshold):\n",
    "    arr_1 = arr[arr>threshold]\n",
    "    return arr_1"
   ]
  },
  {
   "cell_type": "code",
   "execution_count": 56,
   "id": "ac9bd679-5666-4173-82c1-ada5c020a220",
   "metadata": {},
   "outputs": [],
   "source": [
    "#33. Develop a NumPy function that extracts specific elements from a 3D array using indices provided in three separate arrays for each dimension.\n",
    "import numpy as np\n",
    "def extracts_specific_elements(arr_3d,first_arr,second_arr,third_arr):\n",
    "    return arr_3d[first_arr,second_arr,third_arr]\n",
    "\n",
    "arr = np.array([\n",
    "    [[ 1,  2,  3,  4],\n",
    "     [ 5,  6,  7,  8],\n",
    "     [ 9, 10, 11, 12]],\n",
    "\n",
    "    [[13, 14, 15, 16],\n",
    "     [17, 18, 19, 20],\n",
    "     [21, 22, 23, 24]]\n",
    "])\n",
    "x_indices = np.array([0, 1, 0]) \n",
    "y_indices = np.array([2, 0, 1]) \n",
    "z_indices = np.array([3, 1, 2]) \n",
    "result = extracts_specific_elements(arr,x_indices,y_indices,z_indices)\n",
    "print(result)"
   ]
  },
  {
   "cell_type": "code",
   "execution_count": 23,
   "id": "09aff440-40e7-4b33-8874-b6030f39c1d8",
   "metadata": {},
   "outputs": [],
   "source": [
    "#34. Write a NumPy function that returns elements from an array where both two conditions are satisfied using boolean indexing.\n",
    "import numpy as np\n",
    "def elements_from_an_array(arr,condition_1,condition_2):\n",
    "    return arr[np.logical_and(condition_1(arr),condition_2(arr))]\n",
    "\n",
    "arr = np.array([1,2,34,5,6,7,8,9])\n",
    "condition_1 = lambda x : x>5\n",
    "condition_2 = lambda x :  x % 2 == 1\n",
    "print(elements_from_an_array(arr,condition_1,condition_2))"
   ]
  },
  {
   "cell_type": "code",
   "execution_count": 57,
   "id": "1ff913c5-0cb9-4473-ab04-0e7c22ce4a3b",
   "metadata": {},
   "outputs": [],
   "source": [
    "#35. Create a NumPy function that extracts elements from a 2D array using row and column indices provided in separate arrays.\n",
    "import numpy as np\n",
    "\n",
    "def  extracts_elements(arr,row,col):\n",
    "    return arr[row,col]\n",
    "arr = np.array([[ 1,  2,  3],[ 5,  6,  7],[9, 10, 11]])\n",
    "row = np.array([0,1,2])\n",
    "col = np.array([1,2,0])\n",
    "print(extracts_elements(arr,row,col))"
   ]
  },
  {
   "cell_type": "code",
   "execution_count": 59,
   "id": "bf06b851-6f9a-455d-b521-91e45ae02103",
   "metadata": {},
   "outputs": [],
   "source": [
    "#36. Given an array arr of shape (3, 3), add a scalar value of 5 to each element using NumPy broadcasting.\n",
    "import numpy as np\n",
    "def add_scalar(arr, scalar):\n",
    "    return arr + scalar\n",
    "arr = np.array([[ 1,  2,  3],[ 5,  6,  7],[9, 10, 11]])\n",
    "scalar = 5\n",
    "print(add_scalar(arr, scalar))"
   ]
  },
  {
   "cell_type": "code",
   "execution_count": 64,
   "id": "75c991da-7bcb-4f30-be6e-937d6ee5cf5c",
   "metadata": {},
   "outputs": [],
   "source": [
    "#37.Consider two arrays arr1 of shape (1, 3) and arr2 of shape (3, 4). Multiply each row of arr2 by the corresponding element in arr1 using NumPy broadcasting.\n",
    "import numpy as np\n",
    "arr_1 = np.array([[0,1,2]])\n",
    "arr_2 = np.array([[0,1,2,9],[3,4,5,0],[6,7,8,1]])\n",
    "print(arr_1.T * arr_2)"
   ]
  },
  {
   "cell_type": "code",
   "execution_count": 68,
   "id": "b33d3f69-19e3-407f-bab4-6ae1db745e66",
   "metadata": {},
   "outputs": [],
   "source": [
    "#38. Given a 1D array arr1 of shape (1, 4) and a 2D array arr2 of shape (4, 3), add arr1 to each row of arr2 using NumPy broadcasting.\n",
    "import numpy as np\n",
    "arr_1 = np.array([[0,1,2,3]])\n",
    "arr_2 = np.array([[0,1,2],[3,4,5],[6,7,8],[9,0,4]])\n",
    "print(arr_1.T+ arr_2)"
   ]
  },
  {
   "cell_type": "code",
   "execution_count": 74,
   "id": "a85d7ded-380f-404e-ad8b-d70bee0be4ac",
   "metadata": {},
   "outputs": [],
   "source": [
    "#39. Consider two arrays arr1 of shape (3, 1) and arr2 of shape (1, 3). Add these arrays using NumPy broadcasting.\n",
    "import numpy as np\n",
    "arr_1 = np.array([[0],[1],[3]])\n",
    "arr_2 = np.array([[0,1,2]])\n",
    "print(arr_1+ arr_2)"
   ]
  },
  {
   "cell_type": "code",
   "execution_count": 82,
   "id": "a2aaf23a-bea0-4db8-84ed-722fdb66d28e",
   "metadata": {},
   "outputs": [],
   "source": [
    "#40. Given arrays arr1 of shape (2, 3) and arr2 of shape (2, 2), perform multiplication using NumPy broadcasting. Handle the shape incompatibility.\n",
    "import numpy as np\n",
    "arr_1 = np.random.randint(1,10,(2,3))\n",
    "arr_2 = np.random.randint(1,10,(2,2))\n",
    "try:\n",
    "    arr_1.T * arr_2\n",
    "except Exception as e:\n",
    "    print(e)"
   ]
  },
  {
   "cell_type": "code",
   "execution_count": 86,
   "id": "3273963d-b4d4-4793-ab8d-ec81584da6ff",
   "metadata": {},
   "outputs": [],
   "source": [
    "#41. Calculate column wise mean for the given array:\n",
    "arr = np.array([[1, 2, 3], [4, 5, 6]])\n",
    "arr.mean(axis = 0)"
   ]
  },
  {
   "cell_type": "code",
   "execution_count": 88,
   "id": "69c73e10-847c-442d-b3f9-c337e0c43862",
   "metadata": {},
   "outputs": [],
   "source": [
    "#42. Find maximum value in each row of the given array:\n",
    "arr = np.array([[1, 2, 3], [4, 5, 6]])\n",
    "arr.max(axis = 1)"
   ]
  },
  {
   "cell_type": "code",
   "execution_count": 96,
   "id": "ac535b16-be54-4b4f-a06d-88137f47c9f5",
   "metadata": {},
   "outputs": [],
   "source": [
    "#43. For the given array, find indices of maximum value in each column.\n",
    "arr = np.array([[1, 2, 3], [4, 5, 6]])\n",
    "arr.argmax(axis = 0)"
   ]
  },
  {
   "cell_type": "code",
   "execution_count": 112,
   "id": "b4eeece6-d412-46c0-a88c-6f29a072aadc",
   "metadata": {},
   "outputs": [],
   "source": [
    "#44. For the given array, apply custom function to calculate moving sum along rows.\n",
    "arr = np.array([[1, 2, 3], [4, 5, 6]])\n",
    "number = 5\n",
    "def moving_sum_rows(arr, number):\n",
    "    return np.array([np.convolve(row, np.ones(number, dtype=int)) for row in arr])\n",
    "moving_sum_rows(arr,number)"
   ]
  },
  {
   "cell_type": "code",
   "execution_count": 118,
   "id": "92645567-64e0-473d-a4d2-ea1c6a06333a",
   "metadata": {},
   "outputs": [],
   "source": [
    "#45. In the given array, check if all elements in each column are even.\n",
    "arr = np.array([[2, 4, 6], [3, 5, 7]])\n",
    "result = np.all(arr % 2 == 0, axis=0)\n",
    "print(result)"
   ]
  },
  {
   "cell_type": "code",
   "execution_count": 9,
   "id": "18fe7f16-5c4b-4a69-b5a0-7487e6cf3a91",
   "metadata": {},
   "outputs": [],
   "source": [
    "#46. Given a NumPy array arr, reshape it into a matrix of dimensions `m` rows and `n` columns. Return the reshaped matrix.\n",
    "import numpy as np\n",
    "def reshape_it_into_a_matrix(arr,m,n):\n",
    "    return arr.reshape(m,n)\n",
    "    \n",
    "original_array = np.array([1, 2, 3, 4, 5, 6])\n",
    "print(reshape_it_into_a_matrix(original_array,6,1))"
   ]
  },
  {
   "cell_type": "code",
   "execution_count": 12,
   "id": "ee303c88-68c3-429e-8379-70dfbe6d11b2",
   "metadata": {},
   "outputs": [],
   "source": [
    "#47. Create a function that takes a matrix as input and returns the flattened array.\n",
    "input_matrix = np.array([[1, 2, 3], [4, 5, 6]])\n",
    "import numpy as np\n",
    "\n",
    "def flattened_array(input_matrix):\n",
    "    return input_matrix.flatten()\n",
    "\n",
    "print(flattened_array(input_matrix))"
   ]
  },
  {
   "cell_type": "code",
   "execution_count": 20,
   "id": "a33b311b-4101-4313-9916-9a52de4a63c3",
   "metadata": {},
   "outputs": [],
   "source": [
    "#48. Write a function that concatenates two given arrays along a specified axis.\n",
    "array1 = np.array([[1, 2], [3, 4]])\n",
    "array2 = np.array([[5, 6], [7, 8]])\n",
    "import numpy as np\n",
    "def concatenates(array_1,array_2,axis=0):\n",
    "    return np.concatenate((array_1,array_2),axis=0)\n",
    "print(concatenates(array1,array2,axis=0))"
   ]
  },
  {
   "cell_type": "code",
   "execution_count": 28,
   "id": "25dcb3dc-3a25-48af-82cb-d7c48f71f233",
   "metadata": {},
   "outputs": [],
   "source": [
    "#49.Create a function that splits an array into multiple sub-arrays along a specified axis.\n",
    "original_array = np.array([[1, 2, 3], [4, 5, 6], [7, 8, 9]])\n",
    "import numpy as np\n",
    "def splits_an_array(array,number,axis=1):\n",
    "    return np.split(array,number,axis =1)\n",
    "print(splits_an_array(original_array,3,axis=1))"
   ]
  },
  {
   "cell_type": "code",
   "execution_count": 30,
   "id": "b78c08ec-e6bb-40be-99f9-4e939c7340f4",
   "metadata": {},
   "outputs": [],
   "source": [
    "#50. Write a function that inserts and then deletes elements from a given array at specified indices.\n",
    "original_array = np.array([1, 2, 3, 4, 5])\n",
    "indices_to_insert = [2, 4]\n",
    "values_to_insert = [10, 11]\n",
    "indices_to_delete = [1, 3]\n",
    "import numpy as np\n",
    "def inserts(array,insert_number,insert_indices,deletes_indices):\n",
    "    arr = np.insert(array, insert_indices, insert_number)\n",
    "    arr = np.delete(array,deletes_indices)\n",
    "    return arr\n",
    "print(inserts(original_array,values_to_insert,indices_to_insert,indices_to_delete))"
   ]
  },
  {
   "cell_type": "code",
   "execution_count": 33,
   "id": "ad14412a-8800-402f-b8ae-0e39ea62463e",
   "metadata": {},
   "outputs": [],
   "source": [
    "#51. Create a NumPy array `arr1` with random integers and another array `arr2` with integers from 1 to 10.Perform element-wise addition between `arr1` and `arr2`.\n",
    "import numpy as np\n",
    "arr1 = np.random.randint(1,100,10)\n",
    "arr2 = np.array([1,2,3,4,5,6,7,8,9,10])\n",
    "\n",
    "def element_wise_addition(arr_1,arr_2):\n",
    "    return arr_1 + arr_2\n",
    "print(element_wise_addition(arr1,arr2))"
   ]
  },
  {
   "cell_type": "code",
   "execution_count": 38,
   "id": "49a1bab1-8b0e-46de-8f25-1369f60f8a0b",
   "metadata": {},
   "outputs": [],
   "source": [
    "#52. Generate a NumPy array `arr1` with sequential integers from 10 to 1 and another array `arr2` with integers from 1 to 10. Subtract `arr2` from `arr1` element-wise.\n",
    "import numpy as np\n",
    "\n",
    "arr1 = np.arange(10,0,-1)\n",
    "arr2 = np.array([1,2,3,4,5,6,7,8,9,10])\n",
    "\n",
    "def Subtract(arr_1,arr_2):\n",
    "    return arr_2 - arr_1\n",
    "\n",
    "print(Subtract(arr1,arr2))"
   ]
  },
  {
   "cell_type": "code",
   "execution_count": 50,
   "id": "81f94cf4-cc06-4b70-aa17-f49ca2122933",
   "metadata": {},
   "outputs": [],
   "source": [
    "#53. Create a NumPy array `arr1` with random integers and another array `arr2` with integers from 1 to 5.Perform element-wise multiplication between `arr1` and `arr2`.\n",
    "import numpy as np\n",
    "\n",
    "arr_1 = np.random.randint(1,6,5)\n",
    "arr_2 = np.array([i for i in range(1,6)])\n",
    "def elementwise_multiplication(arr1,arr2):\n",
    "    return arr1 * arr2\n",
    "\n",
    "print(elementwise_multiplication(arr_1,arr_2))"
   ]
  },
  {
   "cell_type": "code",
   "execution_count": 58,
   "id": "bf28e4d9-e80e-4075-97b6-11b5f3457e02",
   "metadata": {},
   "outputs": [],
   "source": [
    "#54. Generate a NumPy array `arr1` with even integers from 2 to 10 and another array `arr2` with integers from 1 to 5. Perform element-wise division of `arr1` by `arr2`.\n",
    "import numpy as np\n",
    "arr_1 = np.array([i for i in range(2,12) if i%2==0])\n",
    "arr_2 = np.array([1,2,3,4,5])\n",
    "\n",
    "def elementwise_division(arr1,arr2):\n",
    "    return arr1 /arr2\n",
    "\n",
    "print(elementwise_division(arr_1,arr_2))"
   ]
  },
  {
   "cell_type": "code",
   "execution_count": 64,
   "id": "50bffe67-9a1d-48ec-a9a0-798473085d75",
   "metadata": {},
   "outputs": [],
   "source": [
    "#55. Create a NumPy array `arr1` with integers from 1 to 5 and another array `arr2` with the same numbers reversed. Calculate the exponentiation of `arr1` raised to the power of `arr2` element-wise.\n",
    "import numpy as np\n",
    "\n",
    "arr1 = np.array([1,2,3,4,5])\n",
    "arr2 = arr1[::-1]\n",
    "\n",
    "def exponentiation(arr1,arr2):\n",
    "    return np.power(arr1,arr2)\n",
    "\n",
    "print(exponentiation(arr1,arr2))"
   ]
  },
  {
   "cell_type": "code",
   "execution_count": 66,
   "id": "d4bb5d6b-62bd-4628-86c8-04bfd7a3f1d8",
   "metadata": {},
   "outputs": [],
   "source": [
    "#56. Write a function that counts the occurrences of a specific substring within a NumPy array of strings.\n",
    "import numpy as np\n",
    "arr = np.array(['hello', 'world', 'hello', 'numpy', 'hello'])\n",
    "def occurrences(array,sub_string):\n",
    "    return  np.char.count(array, sub_string).sum()\n",
    "sub_string = 'hello'\n",
    "print(occurrences(arr,sub_string))"
   ]
  },
  {
   "cell_type": "code",
   "execution_count": 10,
   "id": "7bebfa1d-6c08-41ca-b288-83b61f1d8bb1",
   "metadata": {},
   "outputs": [],
   "source": [
    "#57. Write a function that extracts uppercase characters from a NumPy array of strings.\n",
    "\n",
    "import numpy as np\n",
    "\n",
    "def extracts_uppercase(arr):\n",
    "    result = []\n",
    "    for string in arr:\n",
    "        uppercase_chars = ''.join([char for char in string if char.isupper()])\n",
    "        result.append(uppercase_chars)\n",
    "    return np.array(result)\n",
    "arr = np.array(['Hello', 'World', 'OpenAI', 'GPT'])\n",
    "print(extracts_uppercase(arr))"
   ]
  },
  {
   "cell_type": "code",
   "execution_count": 12,
   "id": "67c8d92e-bc12-4924-8024-b3ecbd124e88",
   "metadata": {},
   "outputs": [],
   "source": [
    "#58. Write a function that replaces occurrences of a substring in a NumPy array of strings with a new string.\n",
    "import numpy as np\n",
    "arr = np.array(['apple', 'banana', 'grape', 'pineapple'])\n",
    "def  occurrences_substring(arr,old_string,new_string):\n",
    "    return np.char.replace(arr,old_string,new_string)\n",
    "print(occurrences_substring(arr,'banana','watermelon'))"
   ]
  },
  {
   "cell_type": "code",
   "execution_count": 3,
   "id": "8c6c824f-f394-4904-988e-8b8be86482cf",
   "metadata": {},
   "outputs": [],
   "source": [
    "#59. Write a function that concatenates strings in a NumPy array element-wise.\n",
    "import numpy as np\n",
    "arr1 = np.array(['Hello', 'World'])\n",
    "arr2 = np.array([' Open', ' AI'])\n",
    "def concatenates_arr(arr_1,arr_2):\n",
    "    return np.char.add(arr_1,arr_2)\n",
    "print(concatenates_arr(arr1,arr2))"
   ]
  },
  {
   "cell_type": "code",
   "execution_count": 5,
   "id": "737d6a6f-9139-4415-bdd6-2fea46bc684c",
   "metadata": {},
   "outputs": [],
   "source": [
    "#60. Write a function that finds the length of the longest string in a NumPy array.\n",
    "import numpy as np\n",
    "arr = np.array(['apple', 'banana', 'grape', 'pineapple'])\n",
    "def length_of_the_longest_string(arr):\n",
    "    return max(len(i) for i in arr)\n",
    "print(length_of_the_longest_string(arr))"
   ]
  },
  {
   "cell_type": "code",
   "execution_count": 21,
   "id": "b2f497ef-dab3-40c9-9585-fff132e14450",
   "metadata": {},
   "outputs": [],
   "source": [
    "#61. Create a dataset of 100 random integers between 1 and 1000. Compute the mean, median, variance, and standard deviation of the dataset using NumPy's functions.\n",
    "import numpy as np\n",
    "arr = np.random.randint(1,1000,100)\n",
    "mean = np.mean(arr)\n",
    "median = np.median(arr)\n",
    "variance = np.var(arr)\n",
    "st_deviation = np.std(arr)\n",
    "\n",
    "print(\"mean : \",mean)\n",
    "print()\n",
    "print(\"median : \",median)\n",
    "print()\n",
    "print(\"variance : \",variance)\n",
    "print()\n",
    "print(\"standard deviation : \",st_deviation)"
   ]
  },
  {
   "cell_type": "code",
   "execution_count": 17,
   "id": "5bf2d5c2-e60e-46c8-8880-ca6cd504dd74",
   "metadata": {},
   "outputs": [],
   "source": [
    "#62. Generate an array of 50 random numbers between 1 and 100. Find the 25th and 75th percentiles of the dataset.\n",
    "import numpy as np\n",
    "arr = np.random.randint(1,100,50)\n",
    "Q1 = np.percentile(arr,25) \n",
    "Q3 = np.percentile(arr,75)\n",
    "\n",
    "print(\"Q3 : \",Q3,\" \",\"Q1 :\",Q1)"
   ]
  },
  {
   "cell_type": "code",
   "execution_count": 25,
   "id": "31dbcbfe-694e-4d38-a810-032bc22371fa",
   "metadata": {},
   "outputs": [],
   "source": [
    "#63. Create two arrays representing two sets of variables. Compute the correlation coefficient between these arrays using NumPy's `corrcoef` function.\n",
    "import numpy as np\n",
    "arr_1 = np.random.rand(10)\n",
    "arr_2 = np.random.rand(10)\n",
    "def correlation_coefficient(arr_1,arr_2):\n",
    "    return np.corrcoef(arr_1,arr_2)\n",
    "print(correlation_coefficient(arr_1,arr_2))"
   ]
  },
  {
   "cell_type": "code",
   "execution_count": 26,
   "id": "9b09d3b4-a6b0-4ee4-a24d-6989dc13a86f",
   "metadata": {},
   "outputs": [],
   "source": [
    "#64. Create two matrices and perform matrix multiplication using NumPy's `dot` function.\n",
    "import numpy as np\n",
    "matrix_1 = np.random.randint(1,10,(3,3))\n",
    "matrix_2 = np.random.randint(1,10,(3,3))\n",
    "\n",
    "multiplication = np.dot(matrix_1,matrix_2)\n",
    "print(multiplication)"
   ]
  },
  {
   "cell_type": "code",
   "execution_count": 31,
   "id": "260beae8-2a6e-474d-a16f-768cdd46edaf",
   "metadata": {},
   "outputs": [],
   "source": [
    "#65. Create an array of 50 integers between 10 and 1000. Calculate the 10th, 50th (median), and 90th percentiles along with the first and third quartiles.\n",
    "import numpy as np\n",
    "arr = np.random.randint(10,1000,50)\n",
    "Q_10 = np.percentile(arr,10)\n",
    "Q_50 = np.percentile(arr,50)\n",
    "Q_90 = np.percentile(arr,90)\n",
    "Q_1 = np.percentile(arr,25)\n",
    "Q_3 = np.percentile(arr,75)\n",
    "print(\"10th percentile : \",Q_10)\n",
    "print(\"50th percentiles: \",Q_50)\n",
    "print(\"90th percentiles: \",Q_90)\n",
    "print(\"first quartiles : \",Q_1)\n",
    "print(\"third quartiles: \",Q_3)"
   ]
  },
  {
   "cell_type": "code",
   "execution_count": 46,
   "id": "99fcf6f6-4b28-4f95-8e86-30c34bea8dff",
   "metadata": {},
   "outputs": [],
   "source": [
    "#66. Create a NumPy array of integers and find the index of a specific element.\n",
    "import numpy as np\n",
    "arr_integer = np.array([i for i in range(0,9)])\n",
    "for i in arr_integer:\n",
    "    index = np.where(arr_integer == arr_integer[i])[0]\n",
    "    print(index)"
   ]
  },
  {
   "cell_type": "code",
   "execution_count": 53,
   "id": "f431f8f1-0fbd-4cce-b7d4-3eedd0f8cd63",
   "metadata": {},
   "outputs": [],
   "source": [
    "#67. Generate a random NumPy array and sort it in ascending order.\n",
    "import numpy as np\n",
    "arr = np.random.randint(1,10,10)\n",
    "print(\"ascending order : \",np.sort(arr))\n",
    "\n",
    "# optional -> sort it in descending order.\n",
    "print(\"descending order : \",np.sort(arr)[::-1])"
   ]
  },
  {
   "cell_type": "code",
   "execution_count": 57,
   "id": "84f65a80-6dcc-431b-9c45-f01c1bcbf867",
   "metadata": {},
   "outputs": [],
   "source": [
    "#68. Filter elements >20 in the given NumPy array.\n",
    "import numpy as np\n",
    "arr = np.array([12, 25, 6, 42, 8, 30])\n",
    "filter_elements = arr[arr>20]\n",
    "print(filter_elements)"
   ]
  },
  {
   "cell_type": "code",
   "execution_count": 64,
   "id": "aed783d9-6f63-4984-bee2-217a38db4cd5",
   "metadata": {},
   "outputs": [],
   "source": [
    "#69. Filter elements which are divisible by 3 from a given NumPy array.\n",
    "import numpy as np\n",
    "arr = np.array([1, 5, 8, 12, 15])\n",
    "divisible_by_3 = arr[arr% 3 ==0]\n",
    "print(\" Filter elements which are divisible by three : \",divisible_by_3)"
   ]
  },
  {
   "cell_type": "code",
   "execution_count": 72,
   "id": "02786aa3-7592-4437-a5bd-698632c83174",
   "metadata": {},
   "outputs": [],
   "source": [
    "#70. Filter elements which are ≥ 20 and ≤ 40 from a given NumPy array.\n",
    "import numpy as np\n",
    "arr = np.array([10, 20, 30, 40, 50])\n",
    "Filter_elements = arr[(arr>=20) & (arr<=40)]\n",
    "print(\"Filter elements :\",Filter_elements)"
   ]
  },
  {
   "cell_type": "code",
   "execution_count": 75,
   "id": "37fcb89f-60c4-4483-a36c-1bfd07b0051c",
   "metadata": {},
   "outputs": [],
   "source": [
    "#71. For the given NumPy array, check its byte order using the `dtype` attribute byteorder.\n",
    "import numpy as np\n",
    "arr = np.array([1, 2, 3])\n",
    "print(arr.dtype.byteorder) "
   ]
  },
  {
   "cell_type": "code",
   "execution_count": 79,
   "id": "29476664-31e1-4e6b-bd66-da43f0197708",
   "metadata": {},
   "outputs": [],
   "source": [
    "#72. For the given NumPy array, perform byte swapping in place using `byteswap()`.\n",
    "import numpy as np\n",
    "arr = np.array([1, 2, 3], dtype=np.int32)\n",
    "arr.byteswap(True) \n",
    "print(arr)"
   ]
  },
  {
   "cell_type": "code",
   "execution_count": 84,
   "id": "58fa5ebd-9fab-49c6-9721-957fb5df851b",
   "metadata": {},
   "outputs": [],
   "source": [
    "#73. For the given NumPy array, swap its byte order without modifying the original array using `newbyteorder()`.\n",
    "import numpy as np\n",
    "arr = np.array([1, 2, 3], dtype=np.int32)\n",
    "arr.view(arr.dtype.newbyteorder())\n",
    "print(arr)"
   ]
  },
  {
   "cell_type": "code",
   "execution_count": 89,
   "id": "5dcc62da-58f3-4a70-ab34-2670c31d0276",
   "metadata": {},
   "outputs": [],
   "source": [
    "#74. For the given NumPy array and swap its byte order conditionally based on system endianness using `newbyteorder()`.\n",
    "import numpy as np\n",
    "arr = np.array([1, 2, 3], dtype=np.int32)\n",
    "if arr.dtype.byteorder == '=' and np.little_endian:\n",
    "    swapped_arr = arr.view(arr.dtype.newbyteorder())\n",
    "else:\n",
    "    swapped_arr = arr\n",
    "print( swapped_arr)"
   ]
  },
  {
   "cell_type": "code",
   "execution_count": 91,
   "id": "3282d87b-9665-4397-bd58-3e7f4e12cf08",
   "metadata": {},
   "outputs": [],
   "source": [
    "#75. For the given NumPy array, check if byte swapping is necessary for the current system using `dtype` attribute `byteorder`.\n",
    "import numpy as np\n",
    "arr = np.array([1, 2, 3], dtype=np.int32)\n",
    "need_swap = (arr.dtype.byteorder != '=' and \n",
    "             arr.dtype.byteorder != ('<' if np.little_endian else '>'))\n",
    "print(need_swap)"
   ]
  },
  {
   "cell_type": "code",
   "execution_count": 97,
   "id": "0efec078-f25a-46d7-a2a5-92060f8493f6",
   "metadata": {},
   "outputs": [],
   "source": [
    "#76. Create a NumPy array `arr1` with values from 1 to 10. Create a copy of `arr1` named `copy_arr` and modify an element in `copy_arr`. Check if modifying `copy_arr` affects `arr1`.\n",
    "import numpy as np \n",
    "arr1 = np.array([i for i in range(1,11)])\n",
    "copy_arr = np.copy(arr1)\n",
    "copy_arr[0] = 15\n",
    "print(\"Original Array : \",arr1)\n",
    "print(\"After Modify Array : \",copy_arr)\n",
    "print(\"Insights : `copy_arr` does not affects `arr1`.\")"
   ]
  },
  {
   "cell_type": "code",
   "execution_count": 108,
   "id": "5908c17c-848e-4100-a167-5c38ad2ad3e3",
   "metadata": {},
   "outputs": [],
   "source": [
    "#77. Create a 2D NumPy array `matrix` of shape (3, 3) with random integers. Extract a slice `view_slice` from the matrix. Modify an element in `view_slice` and observe if it changes the original `matrix`.\n",
    "import numpy as np\n",
    "matrix = np.random.randint(1,10,(3,3))\n",
    "view_slice = matrix[1:,1:]\n",
    "view_slice[1,1] = 100\n",
    "print(\"Original Matrix : \",matrix)\n",
    "print()\n",
    "print(\"After Modify matrix : \",view_slice)\n",
    "print()\n",
    "print(\"Insights : matrix does  affects view slice.\")"
   ]
  },
  {
   "cell_type": "code",
   "execution_count": 123,
   "id": "803d8cbc-f375-4e8b-b28a-e210ad0ae6a7",
   "metadata": {},
   "outputs": [],
   "source": [
    "#78.Create a NumPy array `array_a` of shape (4, 3) with sequential integers from 1 to 12. Extract a slice `view_b` from `array_a` and broadcast the addition of 5 to view_b. Check if it alters the original `array_a`.\n",
    "import numpy as np\n",
    "array_a = np.arange(1,13).reshape(4,3)\n",
    "view_b = array_a[2:,1:]\n",
    "view_b = view_b + 5\n",
    "print(\"Original Matrix : \",array_a)\n",
    "print()\n",
    "print(\"Afterbroadcast the addition of 5 to view_b : \",view_b)\n",
    "print()\n",
    "print(\"Insights : Original matrix does not broadcast the addition of 5 to view_b.\")"
   ]
  },
  {
   "cell_type": "code",
   "execution_count": 132,
   "id": "b2abf69d-5b3b-47f1-82b8-41bbb42388b4",
   "metadata": {},
   "outputs": [],
   "source": [
    "#79. Create a NumPy array `orig_array` of shape (2, 4) with values from 1 to 8. Create a reshaped view `reshaped_view` of shape (4, 2) from orig_array. Modify an element in `reshaped_view` and check if it reflects changes in the original `orig_array`.\n",
    "import numpy as np\n",
    "\n",
    "orig_array = np.arange(1,9).reshape(2,4)\n",
    "reshaped_view = orig_array.reshape(4,2)\n",
    "reshaped_view[0, 0] = 19\n",
    "print(\"Original Matrix : \",orig_array)\n",
    "print()\n",
    "print(\"Modify an element in reshaped_view : \",reshaped_view)\n",
    "print()\n",
    "print(\"Insights : reshaped_view does not reflects changes in the original matrix orig_array. it's only change the shape of matrix\")"
   ]
  },
  {
   "cell_type": "code",
   "execution_count": 10,
   "id": "31a39fec-d674-43a8-900e-06415f727d68",
   "metadata": {},
   "outputs": [],
   "source": [
    "#80. Create a NumPy array `data` of shape (3, 4) with random integers. Extract a copy `data_copy` of elements greater than 5. Modify an element in `data_copy` and verify if it affects the original `data`.\n",
    "import numpy as np\n",
    "arr = np.random.randint(1,100,(3,4))\n",
    "arr_copy = arr[arr>5].copy() \n",
    "arr_copy[0] = 1000\n",
    "\n",
    "print(\"Original data : \",arr)\n",
    "print()\n",
    "print(\"Modify an element in reshaped_view : \",arr_copy)\n",
    "print()\n",
    "print(\" it affects the original data\")"
   ]
  },
  {
   "cell_type": "code",
   "execution_count": 13,
   "id": "1d0633ab-ba8f-4155-b79c-da7b43f6b1ec",
   "metadata": {},
   "outputs": [],
   "source": [
    "#81. Create two matrices A and B of identical shape containing integers and perform addition and subtraction operations between them.\n",
    "import numpy as np\n",
    "A = np.array([[1, 2, 3], [4, 5, 6]])\n",
    "B = np.array([[6, 5, 4], [3, 2, 1]])\n",
    "\n",
    "print(\"Addition :\", A+B)\n",
    "print()\n",
    "print(\"Subtraction : \",A-B)"
   ]
  },
  {
   "cell_type": "code",
   "execution_count": 15,
   "id": "f1368c18-0f3c-4e7d-b701-d86fb337f394",
   "metadata": {},
   "outputs": [],
   "source": [
    "#82. Generate two matrices `C` (3x2) and `D` (2x4) and perform matrix multiplication.\n",
    "import numpy as np\n",
    "C = np.random.randint(1, 10, size=(3, 2))\n",
    "D = np.random.randint(1, 10, size=(2, 4))\n",
    "print(\"matrix multiplication. : \",np.dot(C,D))"
   ]
  },
  {
   "cell_type": "code",
   "execution_count": 17,
   "id": "369c37f6-d3e9-45ec-8de5-74c08bf39aae",
   "metadata": {},
   "outputs": [],
   "source": [
    "#83. Create a matrix `E` and find its transpose.\n",
    "import numpy as np\n",
    "E = np.array([[1, 2, 3], [4, 5, 6]])\n",
    "E_transpose = E.T\n",
    "print(E_transpose)"
   ]
  },
  {
   "cell_type": "code",
   "execution_count": 24,
   "id": "d13f63dd-66b2-4e30-9e1e-924777aaa8ab",
   "metadata": {},
   "outputs": [],
   "source": [
    "#84. Generate a square matrix `F` and compute its determinant.\n",
    "import numpy as np\n",
    "F = np.array([[4, 7], [2, 6]])\n",
    "F_det = np.linalg.det(F)\n",
    "print(F_det)"
   ]
  },
  {
   "cell_type": "code",
   "execution_count": 25,
   "id": "32ed0317-921a-4bca-9bd6-7901cb01a23f",
   "metadata": {},
   "outputs": [],
   "source": [
    "#85. Create a square matrix `G` and find its inverse.\n",
    "G = np.array([[1, 2], [3, 4]])\n",
    "G_inv = np.linalg.inv(G)\n",
    "print(G_inv)"
   ]
  }
 ],
 "metadata": {
  "kernelspec": {
   "display_name": "Python 3 (ipykernel)",
   "language": "python",
   "name": "python3"
  },
  "language_info": {
   "codemirror_mode": {
    "name": "ipython",
    "version": 3
   },
   "file_extension": ".py",
   "mimetype": "text/x-python",
   "name": "python",
   "nbconvert_exporter": "python",
   "pygments_lexer": "ipython3",
   "version": "3.13.5"
  }
 },
 "nbformat": 4,
 "nbformat_minor": 5
}
