{
 "cells": [
  {
   "cell_type": "markdown",
   "metadata": {
    "id": "oqhWX-6DoYPA"
   },
   "source": [
    "## Problem : 1 - CLI Password Manager (Beginner)"
   ]
  },
  {
   "cell_type": "code",
   "execution_count": null,
   "metadata": {
    "id": "G8p7YN5-w_6O"
   },
   "outputs": [],
   "source": [
    "import argparse\n",
    "import json\n",
    "import os\n",
    "\n",
    "Data_file = \"\"\n",
    "\n",
    "def xor_encrypt(text, key=42):\n",
    "    return ''.join(chr(ord(c) ^ key) for c in text)\n",
    "\n",
    "def load_passwords():\n",
    "    if not os.path.exists(Data_file):\n",
    "        return {}\n",
    "    with open(Data_file, \"r\") as f:\n",
    "        data = json.load(f)\n",
    "    decrypted = {KEY: xor_encrypt(text_1) for KEY, text_1 in data.items()}\n",
    "    return decrypted\n",
    "\n",
    "def save_passwords(passwords):\n",
    "  encrypted = {Key: xor_encrypt(text_1) for Key, text_1 in passwords.items()}\n",
    "  with open(Data_file, \"w\") as f:\n",
    "      json.dump(encrypted, f)\n",
    "\n",
    "\n",
    "def add_password(account, password):\n",
    "    passwords = load_passwords()\n",
    "    if account in passwords:\n",
    "        print(f\"Account '{account}' already exists!\")\n",
    "    passwords[account] = password\n",
    "    save_passwords(passwords)\n",
    "    print(f\"Password saved for account '{account}'.\")\n",
    "\n",
    "def get_password(account):\n",
    "    passwords = load_passwords()\n",
    "    if account in passwords:\n",
    "        print(f\"Password for '{account}': {passwords[account]}\")\n",
    "    else:\n",
    "        print(f\"No password found for account '{account}'.\")\n",
    "\n",
    "def list_accounts():\n",
    "    passwords = load_passwords()\n",
    "    if passwords:\n",
    "        print(\"Stored accounts:\")\n",
    "        for acc in passwords.keys():\n",
    "            print(f\"{acc}\")\n",
    "    else:\n",
    "        print(\"No accounts stored yet.\")\n",
    "\n",
    "\n",
    "def main():\n",
    "    parser = argparse.ArgumentParser(description=\"XOR CLI Password Manager\")\n",
    "    subparsers = parser.add_subparsers(dest=\"command\")\n",
    "\n",
    "    add_parser = subparsers.add_parser(\"add\", help=\"Add a new account and password\")\n",
    "    add_parser.add_argument(\"account\", help=\"Account name\")\n",
    "    add_parser.add_argument(\"password\", help=\"Password\")\n",
    "\n",
    "    get_parser = subparsers.add_parser(\"get\", help=\"Retrieve a password\")\n",
    "    get_parser.add_argument(\"account\", help=\"Account name\")\n",
    "\n",
    "    subparsers.add_parser(\"list\", help=\"List all stored accounts\")\n",
    "    args = parser.parse_args()\n",
    "\n",
    "    if args.command == \"add\":\n",
    "        add_password(args.account, args.password)\n",
    "    elif args.command == \"get\":\n",
    "        get_password(args.account)\n",
    "    elif args.command == \"list\":\n",
    "        list_accounts()\n",
    "    else:\n",
    "        parser.print_help()\n",
    "\n",
    "if __name__ == \"__main__\":\n",
    "    main()\n"
   ]
  },
  {
   "cell_type": "code",
   "execution_count": null,
   "metadata": {
    "id": "pgPHIPejyDk1"
   },
   "outputs": [],
   "source": []
  }
 ],
 "metadata": {
  "colab": {
   "provenance": []
  },
  "kernelspec": {
   "display_name": "Python 3 (ipykernel)",
   "language": "python",
   "name": "python3"
  },
  "language_info": {
   "codemirror_mode": {
    "name": "ipython",
    "version": 3
   },
   "file_extension": ".py",
   "mimetype": "text/x-python",
   "name": "python",
   "nbconvert_exporter": "python",
   "pygments_lexer": "ipython3",
   "version": "3.13.5"
  }
 },
 "nbformat": 4,
 "nbformat_minor": 4
}
