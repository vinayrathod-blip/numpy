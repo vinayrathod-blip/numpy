{
 "cells": [
  {
   "cell_type": "markdown",
   "id": "c3790a52-f78d-4d1e-bda7-bf68dfad7aea",
   "metadata": {},
   "source": [
    "1.How many multiplications and additions do you need to perform a matrix multiplication between a (n, k) and (k, m) matrix? Explain."
   ]
  },
  {
   "cell_type": "markdown",
   "id": "e68272a9-14a5-480a-982a-f6ddde16e53c",
   "metadata": {},
   "source": [
    "Let matrix A of size (n x k) and matrix of size B is ( k x m). \n",
    "The resultant matrix C is of size (n x m).\n",
    "To compute one element in C \n",
    " C[i][j] = ∑ A[i][p] B[p][j]\n",
    "\n",
    "we  multiply k pairs of number.\n",
    "the elements in matrix c is n x m\n",
    "\n",
    "thererfore, total multiplication is n x m x k.\n",
    "\n",
    "to sum k term, we need (k-1) addition\n",
    "for each n x m elements in C , we do k-1 addition.\n",
    "\n",
    "so, total addition is n x m x (k - 1) "
   ]
  },
  {
   "cell_type": "markdown",
   "id": "cdddd385-0b15-4b1c-9664-3922da6571e5",
   "metadata": {},
   "source": []
  },
  {
   "cell_type": "markdown",
   "id": "ff9e4a0c-54b7-4bf8-96aa-dc7523049941",
   "metadata": {},
   "source": [
    "2.Write Python code to multiply the above two matrices. Solve using list of lists and then use numpy. Compare the timing of both solutions. Which one is faster? Why?\n"
   ]
  },
  {
   "cell_type": "code",
   "execution_count": 9,
   "id": "77b659de-f3c6-40b4-b828-ccddabe6c0fa",
   "metadata": {},
   "outputs": [
    {
     "name": "stdout",
     "output_type": "stream",
     "text": [
      "List of lists time :  0.8892307281494141\n",
      "NumPy time :  0.010994434356689453\n"
     ]
    }
   ],
   "source": [
    "import random , time\n",
    "import numpy as np\n",
    "\n",
    "n = 100\n",
    "k = 200\n",
    "m = 50\n",
    "\n",
    "import random, time\n",
    "import numpy as np\n",
    "\n",
    "n, k, m = 200, 300, 150\n",
    "\n",
    "# List of lists\n",
    "A = [[random.random() for _ in range(k)] for _ in range(n)]\n",
    "B = [[random.random() for _ in range(m)] for _ in range(k)]\n",
    "\n",
    "start = time.time()\n",
    "C = [[sum(A[i][p] * B[p][j] for p in range(k)) for j in range(m)] for i in range(n)]\n",
    "print(\"List of lists time : \", time.time() - start)\n",
    "\n",
    "# numpy\n",
    "A_np = np.array(A)\n",
    "B_np = np.array(B)\n",
    "\n",
    "start = time.time()\n",
    "C_np = A_np @ B_np\n",
    "print(\"NumPy time : \", time.time() - start)\n"
   ]
  },
  {
   "cell_type": "markdown",
   "id": "e07dc187-3051-4fa7-9ec4-fb517f723937",
   "metadata": {},
   "source": [
    "so numpy is faster than list of lists."
   ]
  },
  {
   "cell_type": "code",
   "execution_count": null,
   "id": "ca75529b-b925-4314-90c0-aef9ffe13d39",
   "metadata": {},
   "outputs": [],
   "source": []
  },
  {
   "cell_type": "markdown",
   "id": "035aeea7-cf7c-4e40-9445-bde89ea213da",
   "metadata": {},
   "source": [
    "3.Finding the highest element in a list requires one pass of the array. Finding the second highest element requires 2 passes of the array. Using this method, what is the time complexity of finding the median of the array? Can you suggest a better method? Can you implement both these methods in Python and compare against numpy.median routine in terms of time?"
   ]
  },
  {
   "cell_type": "code",
   "execution_count": 16,
   "id": "cd43e520-d989-4bb0-ac5b-dc1733e040a8",
   "metadata": {},
   "outputs": [
    {
     "name": "stdout",
     "output_type": "stream",
     "text": [
      "Naive (10000): 0.835027s\n",
      "Sort  (10000): 0.001004s\n",
      "NumPy (10000): 0.000000s\n",
      "\n",
      "Naive (50000): 19.877991s\n",
      "Sort  (50000): 0.009006s\n",
      "NumPy (50000): 0.002002s\n",
      "\n",
      "Naive (100000): 79.904151s\n",
      "Sort  (100000): 0.016001s\n",
      "NumPy (100000): 0.005005s\n",
      "\n"
     ]
    }
   ],
   "source": [
    "import numpy as np, time\n",
    "\n",
    "def median_naive_pass(a):\n",
    "    a = list(a)\n",
    "    n = len(a)\n",
    "    k = n // 2\n",
    "    for _ in range(k + 1):\n",
    "        m = min(a)\n",
    "        a.remove(m)\n",
    "        kth = m\n",
    "    if n % 2: return kth\n",
    "    a = list(a) + [kth]\n",
    "    a.remove(min(a))\n",
    "    return (kth + min(a)) / 2\n",
    "\n",
    "def median_sort(a):\n",
    "    a = sorted(a)\n",
    "    n = len(a)\n",
    "    return a[n//2] if n % 2 else (a[n//2-1] + a[n//2]) / 2\n",
    "\n",
    "for n in [10000, 50000, 100000]:\n",
    "    data = np.random.rand(n).tolist()\n",
    "    for name, func in [(\"Naive\", median_naive_pass), (\"Sort\", median_sort), (\"NumPy\", np.median)]:\n",
    "        t0 = time.time(); func(data); print(f\"{name:5} ({n}): {time.time()-t0:.6f}s\")\n",
    "    print()"
   ]
  },
  {
   "cell_type": "markdown",
   "id": "0f1130c9-89ba-46a0-b18d-6dab3bd8b7bd",
   "metadata": {},
   "source": [
    "so numpy is fastest"
   ]
  },
  {
   "cell_type": "code",
   "execution_count": null,
   "id": "36b82adb-0a67-4c2e-8edd-64f1d2a6f998",
   "metadata": {},
   "outputs": [],
   "source": []
  },
  {
   "cell_type": "markdown",
   "id": "039780a5-38b5-46df-aa4b-42e17d5b282f",
   "metadata": {},
   "source": [
    "4.What is the gradient of the following function with respect to x and y? \n",
    "\n",
    "       x**2y + y**3 sin(x)\n"
   ]
  },
  {
   "cell_type": "markdown",
   "id": "bc15768a-6971-4cd5-92e2-dba54662b020",
   "metadata": {},
   "source": [
    "partial differentiation wrt to x  : 2xy + y**3 cos(x)\n",
    "\n",
    "partial differentiation wrt to y  : x**2 + 3 y**2 sin(x)"
   ]
  },
  {
   "cell_type": "code",
   "execution_count": 31,
   "id": "9cc04450-a03a-44cd-81ca-9760d7245440",
   "metadata": {},
   "outputs": [],
   "source": [
    "import numpy as np\n",
    "import jax.numpy as jnp\n",
    "import jax\n",
    "from scipy.optimize import approx_fprime\n",
    "import sympy as sp\n",
    "\n",
    "# --- Function definitions ---\n",
    "def f_numpy(v):\n",
    "    x, y = v\n",
    "    return x**2 * y + y**3 * np.sin(x)\n",
    "\n",
    "def f_jax(v):\n",
    "    x, y = v\n",
    "    return x**2 * y + y**3 * jnp.sin(x)\n",
    "\n",
    "# Analytical gradient\n",
    "def grad_analytical(v):\n",
    "    x, y = v\n",
    "    return np.array([\n",
    "        2*x*y + y**3 * np.cos(x),\n",
    "        x**2 + 3*y**2 * np.sin(x)\n",
    "    ])\n",
    "\n",
    "# --- SymPy verification ---\n",
    "x, y = sp.symbols('x y')\n",
    "expr = x**2 * y + y**3 * sp.sin(x)\n",
    "sympy_grad = [sp.diff(expr, var) for var in (x, y)]\n",
    "print(\"SymPy Gradient:\", sympy_grad)\n",
    "\n",
    "# --- JAX auto-gradient function ---\n",
    "grad_f_jax = jax.grad(f_jax)\n",
    "\n",
    "# --- Gradient checks ---\n",
    "eps = np.sqrt(np.finfo(float).eps)\n",
    "np.random.seed(42)\n",
    "\n",
    "for i in range(5):\n",
    "    point = np.random.uniform(-5, 5, 2)\n",
    "\n",
    "    g_analytical = grad_analytical(point)\n",
    "    g_scipy = approx_fprime(point, f_numpy, eps)\n",
    "    g_jax = np.array(grad_f_jax(jnp.array(point)))\n",
    "\n",
    "    print(f\"\\nPoint {i+1}: x={point[0]:.4f}, y={point[1]:.4f}\")\n",
    "    print(\"Analytical:\", g_analytical)\n",
    "    print(\"SciPy:     \", g_scipy)\n",
    "    print(\"JAX:       \", g_jax)\n",
    "\n",
    "    assert np.allclose(g_analytical, g_scipy, atol=1e-6)\n",
    "    assert np.allclose(g_analytical, g_jax, atol=1e-6)\n",
    "\n",
    "print(\"\\n All gradients match!\")\n"
   ]
  },
  {
   "cell_type": "code",
   "execution_count": 29,
   "id": "c6fffcb8-35aa-4b4b-bed0-d8fe66781447",
   "metadata": {},
   "outputs": [
    {
     "name": "stdout",
     "output_type": "stream",
     "text": [
      "∂f/∂x = y*(2*x + y**2*cos(x))\n",
      "∂f/∂y = x**2 + 3*y**2*sin(x)\n"
     ]
    }
   ],
   "source": [
    "import sympy as sp\n",
    "\n",
    "# Define variables\n",
    "x, y = sp.symbols('x y')\n",
    "\n",
    "# Define the function\n",
    "f = x**2 * y + y**3 * sp.sin(x)\n",
    "\n",
    "# Compute partial derivatives\n",
    "df_dx = sp.diff(f, x)\n",
    "df_dy = sp.diff(f, y)\n",
    "\n",
    "print(\"∂f/∂x =\", sp.simplify(df_dx))\n",
    "print(\"∂f/∂y =\", sp.simplify(df_dy))\n"
   ]
  },
  {
   "cell_type": "code",
   "execution_count": null,
   "id": "b9b5cacf-002b-4cad-b965-ec0376443745",
   "metadata": {},
   "outputs": [],
   "source": []
  },
  {
   "cell_type": "markdown",
   "id": "5a258425-6fe2-4c52-ba10-b3793535c6db",
   "metadata": {},
   "source": [
    "Create a Python nested dictionary to represent hierarchical information. We want to store record of students and their marks. Something like:"
   ]
  },
  {
   "cell_type": "code",
   "execution_count": 34,
   "id": "c10a6453-2d6d-4b98-a878-7011c9cf1d06",
   "metadata": {},
   "outputs": [
    {
     "name": "stdout",
     "output_type": "stream",
     "text": [
      "100\n"
     ]
    }
   ],
   "source": [
    "students_data = {\n",
    "    2022: {\n",
    "        \"Branch 1\": [\n",
    "            {\n",
    "                \"Roll Number\": 1,\n",
    "                \"Name\": \"N\",\n",
    "                \"Marks\": {\n",
    "                    \"Maths\": 100,\n",
    "                    \"English\": 70,\n",
    "                    \"Science\": 85\n",
    "                }\n",
    "            },\n",
    "            {\n",
    "                \"Roll Number\": 2,\n",
    "                \"Name\": \"M\",\n",
    "                \"Marks\": {\n",
    "                    \"Maths\": 90,\n",
    "                    \"English\": 80,\n",
    "                    \"Science\": 78\n",
    "                }\n",
    "            }\n",
    "        ],\n",
    "        \"Branch 2\": [\n",
    "            {\n",
    "                \"Roll Number\": 3,\n",
    "                \"Name\": \"K\",\n",
    "                \"Marks\": {\n",
    "                    \"Maths\": 88,\n",
    "                    \"English\": 92,\n",
    "                    \"Science\": 84\n",
    "                }\n",
    "            }\n",
    "        ]\n",
    "    },\n",
    "    2023: {\n",
    "        \"Branch 1\": [],\n",
    "        \"Branch 2\": []\n",
    "    },\n",
    "    2024: {\n",
    "        \"Branch 1\": [],\n",
    "        \"Branch 2\": []\n",
    "    },\n",
    "    2025: {\n",
    "        \"Branch 1\": [],\n",
    "        \"Branch 2\": []\n",
    "    }\n",
    "}\n",
    "\n",
    "# Example: Accessing a student's marks\n",
    "print(students_data[2022][\"Branch 1\"][0][\"Marks\"][\"Maths\"])  # Output: 100\n"
   ]
  },
  {
   "cell_type": "code",
   "execution_count": null,
   "id": "7e90887d-d271-42ac-a464-dc797d6456ee",
   "metadata": {},
   "outputs": [],
   "source": []
  },
  {
   "cell_type": "markdown",
   "id": "4426b39a-eff3-4ffe-baf2-4655c3b171fb",
   "metadata": {},
   "source": [
    "8.Store the same information using Python classes. We have an overall database which is a list of year objects. Each year contains a list of branches. Each branch contains a list of students. Each student has some properties like name, roll number and has marks in some subjects."
   ]
  },
  {
   "cell_type": "code",
   "execution_count": 37,
   "id": "2e59eca0-5eae-4e41-b1ed-78824c8d2650",
   "metadata": {},
   "outputs": [
    {
     "name": "stdout",
     "output_type": "stream",
     "text": [
      "Year: 2022, Branches: [Branch: Branch 1, Students: [Roll: 1, Name: N, Marks: {'Maths': 100, 'English': 70, 'Science': 85}, Roll: 2, Name: M, Marks: {'Maths': 90, 'English': 80, 'Science': 78}], Branch: Branch 2, Students: [Roll: 3, Name: K, Marks: {'Maths': 88, 'English': 92, 'Science': 84}]]\n"
     ]
    }
   ],
   "source": [
    "# Class to store marks for subjects\n",
    "class Marks:\n",
    "    def __init__(self, **subjects):\n",
    "        self.subjects = subjects  # Dictionary of subject: marks\n",
    "\n",
    "    def __repr__(self):\n",
    "        return str(self.subjects)\n",
    "\n",
    "\n",
    "# Class to represent a Student\n",
    "class Student:\n",
    "    def __init__(self, roll_number, name, marks):\n",
    "        self.roll_number = roll_number\n",
    "        self.name = name\n",
    "        self.marks = marks  # Marks object\n",
    "\n",
    "    def __repr__(self):\n",
    "        return f\"Roll: {self.roll_number}, Name: {self.name}, Marks: {self.marks}\"\n",
    "\n",
    "\n",
    "# Class to represent a Branch\n",
    "class Branch:\n",
    "    def __init__(self, name):\n",
    "        self.name = name\n",
    "        self.students = []  # list of Student objects\n",
    "\n",
    "    def add_student(self, student):\n",
    "        self.students.append(student)\n",
    "\n",
    "    def __repr__(self):\n",
    "        return f\"Branch: {self.name}, Students: {self.students}\"\n",
    "\n",
    "\n",
    "# Class to represent a Year\n",
    "class Year:\n",
    "    def __init__(self, year):\n",
    "        self.year = year\n",
    "        self.branches = []  # list of Branch objects\n",
    "\n",
    "    def add_branch(self, branch):\n",
    "        self.branches.append(branch)\n",
    "\n",
    "    def __repr__(self):\n",
    "        return f\"Year: {self.year}, Branches: {self.branches}\"\n",
    "\n",
    "\n",
    "# ----- Example Usage -----\n",
    "\n",
    "# Create main database (list of Year objects)\n",
    "database = []\n",
    "\n",
    "# Create a Year\n",
    "year_2022 = Year(2022)\n",
    "\n",
    "# Create Branches\n",
    "branch1 = Branch(\"Branch 1\")\n",
    "branch2 = Branch(\"Branch 2\")\n",
    "\n",
    "# Create Students\n",
    "student1 = Student(1, \"N\", Marks(Maths=100, English=70, Science=85))\n",
    "student2 = Student(2, \"M\", Marks(Maths=90, English=80, Science=78))\n",
    "student3 = Student(3, \"K\", Marks(Maths=88, English=92, Science=84))\n",
    "\n",
    "# Add students to branches\n",
    "branch1.add_student(student1)\n",
    "branch1.add_student(student2)\n",
    "branch2.add_student(student3)\n",
    "\n",
    "# Add branches to year\n",
    "year_2022.add_branch(branch1)\n",
    "year_2022.add_branch(branch2)\n",
    "\n",
    "# Add year to database\n",
    "database.append(year_2022)\n",
    "\n",
    "# Print the database\n",
    "for year in database:\n",
    "    print(year)\n"
   ]
  },
  {
   "cell_type": "code",
   "execution_count": null,
   "id": "b1b7a228-b649-4fec-b8a2-71e41e85e058",
   "metadata": {},
   "outputs": [],
   "source": []
  },
  {
   "cell_type": "markdown",
   "id": "9956ae96-b92f-44f5-99e9-5cadea18bceb",
   "metadata": {},
   "source": [
    "9.Using matplotlib plot the following functions on the domain: x = 0.5 to 100.0 in steps of 0.5.\n",
    "\n"
   ]
  },
  {
   "cell_type": "code",
   "execution_count": 41,
   "id": "f24c1050-5710-404c-874a-c9d7cb2ccc9c",
   "metadata": {},
   "outputs": [
    {
     "data": {
      "image/png": "[encoded data removed]",
      "text/plain": [
       "<Figure size 640x480 with 1 Axes>"
      ]
     },
     "metadata": {},
     "output_type": "display_data"
    }
   ],
   "source": [
    "import matplotlib.pyplot as plt\n",
    "import numpy as np\n",
    "\n",
    "x = np.arange(0.5,100.5,0.5)\n",
    "\n",
    "y = x \n",
    "\n",
    "plt.plot(x,y , color  = 'red')\n",
    "plt.show()"
   ]
  },
  {
   "cell_type": "code",
   "execution_count": null,
   "id": "4e5b4024-ee6d-4cd3-8bfb-2d7c7db6083a",
   "metadata": {},
   "outputs": [],
   "source": [
    "y = x**2\n",
    "\n",
    "plt.plot (x,y, color = 'blue')\n",
    "plt.show()"
   ]
  },
  {
   "cell_type": "code",
   "execution_count": null,
   "id": "c4890641-5a88-4094-9ed8-231ce6078503",
   "metadata": {},
   "outputs": [],
   "source": [
    "y= x**3/100\n",
    "plt.plot(y,x, color = 'green')\n",
    "plt.show()"
   ]
  },
  {
   "cell_type": "code",
   "execution_count": null,
   "id": "28854a68-1718-443a-9305-89920f44ee09",
   "metadata": {},
   "outputs": [],
   "source": [
    "y = np.sin(x)\n",
    "\n",
    "plt.plot(x,y, color = 'red')\n",
    "plt.show()"
   ]
  },
  {
   "cell_type": "code",
   "execution_count": null,
   "id": "14b40776-4110-432a-85a5-a10394120442",
   "metadata": {},
   "outputs": [],
   "source": [
    "y = np.sin(x)/x\n",
    "\n",
    "plt.plot(x,y, color = 'green')\n",
    "plt.show()"
   ]
  },
  {
   "cell_type": "code",
   "execution_count": null,
   "id": "5c3d32ec-9e20-4775-96ff-2198411ef68c",
   "metadata": {},
   "outputs": [],
   "source": [
    "y = np.log(x)\n",
    "\n",
    "plt.plot(x,y, color = 'blue')\n",
    "plt.show()"
   ]
  },
  {
   "cell_type": "code",
   "execution_count": null,
   "id": "2403ee06-e7ba-4d6b-b8ba-2d630d03a596",
   "metadata": {},
   "outputs": [],
   "source": [
    "y = np.exp(x)\n",
    "\n",
    "plt.plot(x,y ,color  = 'red')\n",
    "plt.show()"
   ]
  },
  {
   "cell_type": "code",
   "execution_count": null,
   "id": "a2bb173c-aab7-4694-9706-15fc4824082f",
   "metadata": {},
   "outputs": [],
   "source": []
  },
  {
   "cell_type": "markdown",
   "id": "65427662-8473-4ff4-ad66-e985c21f44cf",
   "metadata": {},
   "source": [
    "Using numpy generate a matrix of size 20X5 containing random numbers drawn uniformly from the range of 1 to 2. Using Pandas create a dataframe out of this matrix. Name the columns of the dataframe as “a”, “b”, “c”, “d”, “e”. Find the column with the highest standard deviation. Find the row with the lowest mean.\n",
    "\n"
   ]
  },
  {
   "cell_type": "code",
   "execution_count": null,
   "id": "10597182-d5c1-45ef-bab2-42068cc21d50",
   "metadata": {},
   "outputs": [],
   "source": [
    "matrix = np.random.uniform(low = 1 ,high = 2 ,size =(20,5) )\n",
    "matrix\n",
    "import pandas as pd\n",
    "\n",
    "df =pd.DataFrame( data = matrix , columns = ['a','b','c','d','e'] )\n",
    "df\n",
    "df.std()\n",
    "print(df.std().idxmax())\n",
    "df.mean(axis = 1)\n",
    "print(df.mean(axis = 1).idxmin())\n",
    "\n",
    "df['g'] = np.where(df['f'] < 8 ,'LT8','GT8')\n",
    "print(df )  \n",
    "\n",
    "std_dev = df.groupby('g')['f'].std()\n",
    "print(std_dev)\n"
   ]
  },
  {
   "cell_type": "code",
   "execution_count": null,
   "id": "9df9f645-4fc1-46e5-b1ba-69e59193936d",
   "metadata": {},
   "outputs": [],
   "source": []
  },
  {
   "cell_type": "markdown",
   "id": "554b751b-e928-4f77-a5ba-25cf0c465682",
   "metadata": {},
   "source": [
    "12.Write a small piece of code to explain broadcasting in numpy."
   ]
  },
  {
   "cell_type": "code",
   "execution_count": 50,
   "id": "275f30c8-f203-427b-bb6d-0ce5475a8dc9",
   "metadata": {},
   "outputs": [
    {
     "name": "stdout",
     "output_type": "stream",
     "text": [
      "[[1]\n",
      " [2]\n",
      " [3]]\n",
      "[10 20 30]\n",
      "[[11 21 31]\n",
      " [12 22 32]\n",
      " [13 23 33]]\n"
     ]
    }
   ],
   "source": [
    "a = np.array([[1], [2], [3]])   # shape (3, 1)\n",
    "print(a)\n",
    "b = np.array([10, 20, 30])     # shape (3,) → (1, 3)\n",
    "print(b)\n",
    "print(a + b)"
   ]
  },
  {
   "cell_type": "code",
   "execution_count": null,
   "id": "5a348225-188c-4612-a94b-d9de3d2e94a3",
   "metadata": {},
   "outputs": [],
   "source": []
  },
  {
   "cell_type": "markdown",
   "id": "7468faf9-bfa5-4086-a053-f870951d4172",
   "metadata": {},
   "source": [
    "13.Write a function to compute the argmin of a numpy array. The function should take a numpy array as input and return the index of the minimum element. You can use the np.argmin function to verify your solution."
   ]
  },
  {
   "cell_type": "code",
   "execution_count": 48,
   "id": "479f5509-620f-47b1-95a2-cb42cc36c2f4",
   "metadata": {},
   "outputs": [
    {
     "name": "stdout",
     "output_type": "stream",
     "text": [
      "My argmin: 1\n",
      "NumPy argmin: 1\n"
     ]
    }
   ],
   "source": [
    "import numpy as np\n",
    "\n",
    "def my_argmin(arr):\n",
    "    # Ensure the array is NumPy type\n",
    "    arr = np.asarray(arr)\n",
    "    \n",
    "    min_index = 0\n",
    "    min_value = arr[0]\n",
    "    \n",
    "    for i in range(1, len(arr)):\n",
    "        if arr[i] < min_value:\n",
    "            min_value = arr[i]\n",
    "            min_index = i\n",
    "    \n",
    "    return min_index\n",
    "\n",
    "# Example\n",
    "arr = np.array([50, 20, 80, 100, 70])\n",
    "print(\"My argmin:\", my_argmin(arr))\n",
    "print(\"NumPy argmin:\", np.argmin(arr))"
   ]
  },
  {
   "cell_type": "code",
   "execution_count": null,
   "id": "8a119229-2f49-4838-afb8-b53ca232a1a5",
   "metadata": {},
   "outputs": [],
   "source": []
  }
 ],
 "metadata": {
  "kernelspec": {
   "display_name": "Python [conda env:base] *",
   "language": "python",
   "name": "conda-base-py"
  },
  "language_info": {
   "codemirror_mode": {
    "name": "ipython",
    "version": 3
   },
   "file_extension": ".py",
   "mimetype": "text/x-python",
   "name": "python",
   "nbconvert_exporter": "python",
   "pygments_lexer": "ipython3",
   "version": "3.12.7"
  }
 },
 "nbformat": 4,
 "nbformat_minor": 5
}
