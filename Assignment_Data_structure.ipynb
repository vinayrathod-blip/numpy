{
 "cells": [
  {
   "cell_type": "code",
   "execution_count": 1,
   "id": "9153957d-3e01-4592-b9ff-7754c2f4be0d",
   "metadata": {},
   "outputs": [],
   "source": [
    "#1. Write a code to reverse a string.\n",
    "def reverse_string(s1):\n",
    "    return s1[::-1]\n",
    "\n",
    "s2 = \"Hello i am vinay\"\n",
    "s3 = reverse_string(s2)\n",
    "print(s3)"
   ]
  },
  {
   "cell_type": "code",
   "execution_count": 2,
   "id": "dffa7b68-8dca-4b5b-b8b7-4cc093cbe127",
   "metadata": {},
   "outputs": [],
   "source": [
    "#2. Write a code to count the number of vowels in a string.\n",
    "def count_number(v):\n",
    "    vowels = \"aeiouAEIOU\"\n",
    "    count = 0\n",
    "    for i in v:\n",
    "        if i in vowels:\n",
    "            count = count + 1 \n",
    "    return count\n",
    "V = \"i am vinay\"\n",
    "X = count_number(V)\n",
    "print(X)"
   ]
  },
  {
   "cell_type": "code",
   "execution_count": 3,
   "id": "9e2630a4-a76f-4ad9-9432-8637dc4062fe",
   "metadata": {},
   "outputs": [],
   "source": [
    "#3. Write a code to check if a given string is palindrome or not\n",
    "def string_1(s):\n",
    "    if s == s[::-1]:\n",
    "        print(\"Given String is palindrome.\")\n",
    "    else:\n",
    "        print( \"Given String is not a palindrome\")\n",
    "    return s\n",
    "v = \"racecar\"\n",
    "x = string_1(v)\n",
    "print(x)"
   ]
  },
  {
   "cell_type": "code",
   "execution_count": 4,
   "id": "e6e390a5-76ae-4ff3-8371-4b11b5f1c0c1",
   "metadata": {},
   "outputs": [],
   "source": [
    "#4. Write a code to check if two given strings are anagrams of each other.\n",
    "A = \"listen\"\n",
    "B = \"silent\" \n",
    "\n",
    "anagrams_words = sorted(A) == sorted(B)\n",
    "\n",
    "if anagrams_words == True :\n",
    "    print(\"It's anagrams words.\")\n",
    "else:\n",
    "    print(\"It's not anagarams words.\")\n"
   ]
  },
  {
   "cell_type": "code",
   "execution_count": 8,
   "id": "fbfa3a4f-6215-426b-bc1b-78f21cb15320",
   "metadata": {},
   "outputs": [],
   "source": [
    "#5. Write a code to find all occurrences of a given substring within another string.\n",
    "def find_occurance(my_string,my_substring):\n",
    "    lst1 = []\n",
    "    my_count = my_string.find(my_substring)\n",
    "    while my_count != -1:\n",
    "        lst1.append(my_count)\n",
    "        my_count = my_string.find(my_substring,my_count + 1)\n",
    "        return lst1"
   ]
  },
  {
   "cell_type": "code",
   "execution_count": 13,
   "id": "c51627c6-c57b-4b1f-8182-066e734ac2d8",
   "metadata": {},
   "outputs": [],
   "source": [
    "#6. Write a code to perform basic string compression using the counts of repeated characters.\n",
    "from itertools import groupby\n",
    "\n",
    "def compress_string_lib(s: str) -> str:\n",
    "    compressed = []\n",
    "    for char, group in groupby(s):\n",
    "        count = len(list(group))\n",
    "        compressed.append(f\"{char}{count}\")\n",
    "    compressed_str = ''.join(compressed)\n",
    "    return compressed_str if len(compressed_str) < len(s) else s\n",
    "\n",
    "\n",
    "print(compress_string_lib(\"aabcccccaaa\")) \n"
   ]
  },
  {
   "cell_type": "code",
   "execution_count": 68,
   "id": "6b30797a-5fcd-41a3-957d-f24ac7514dbc",
   "metadata": {},
   "outputs": [
    {
     "name": "stdout",
     "output_type": "stream",
     "text": [
      "True\n"
     ]
    }
   ],
   "source": [
    "#7. Write a code to determine if a string has all unique characters.\n",
    "def unique_char(s):\n",
    "    set1 = set()\n",
    "    for i in s:\n",
    "        if i in set1:\n",
    "            return False\n",
    "        set1.add(i)\n",
    "    return True\n",
    "s1 = \"iamvny\"\n",
    "result = unique_char(s1)\n",
    "print(result)"
   ]
  },
  {
   "cell_type": "code",
   "execution_count": 77,
   "id": "85bbd8e8-506b-400f-8f1d-f419ea3cf211",
   "metadata": {},
   "outputs": [
    {
     "name": "stdout",
     "output_type": "stream",
     "text": [
      "ABCED\n"
     ]
    }
   ],
   "source": [
    "# 8.Write a code to convert a given string to uppercase or lowercase.\n",
    "def string_1(s,upper_u = True):\n",
    "    if upper_u:\n",
    "        return s.upper()\n",
    "    else:\n",
    "        return s.lower()\n",
    "s = \"abced\"\n",
    "result = string_1(s)\n",
    "print(result)"
   ]
  },
  {
   "cell_type": "code",
   "execution_count": 88,
   "id": "864d0f57-b2ad-4a81-80ed-647ce15e3207",
   "metadata": {},
   "outputs": [
    {
     "name": "stdout",
     "output_type": "stream",
     "text": [
      "3\n"
     ]
    }
   ],
   "source": [
    "# 9. Write a code to count the number of words in a string.\n",
    "def str_2(s):\n",
    "    word = s.split()\n",
    "    return len(word)\n",
    "s = \"i am vinay\"\n",
    "result = str_2(s)\n",
    "print(result)"
   ]
  },
  {
   "cell_type": "code",
   "execution_count": 99,
   "id": "eecf1586-8d24-4d05-a3b9-5956436ff859",
   "metadata": {},
   "outputs": [
    {
     "name": "stdout",
     "output_type": "stream",
     "text": [
      "Helllo HI\n"
     ]
    }
   ],
   "source": [
    "# 10. Write a code to concatenate two strings without using the + operator.\n",
    "def strings_2(str_1,str_2):\n",
    "    return \"{}{}\".format(str_1,str_2)\n",
    "str_1 = \"Helllo\"\n",
    "str_2 = \" HI\"\n",
    "result = strings_2(str_1,str_2)\n",
    "print(result)"
   ]
  },
  {
   "cell_type": "code",
   "execution_count": 56,
   "id": "a691d5e3-6adf-463c-abc8-4e97a5ce5757",
   "metadata": {},
   "outputs": [
    {
     "name": "stdout",
     "output_type": "stream",
     "text": [
      "[1, 3, 4, 58, 8, 5, 6, 9, 10]\n"
     ]
    }
   ],
   "source": [
    "# 11.write code to remove all occurrences of a specific element from a list.\n",
    "\n",
    "def remove_occurrences_element(list1,element):\n",
    "    return [x for x in list1 if x != element]\n",
    "    \n",
    " \n",
    "list1 = [1,2,2,2,2,3,4,58,8,5,6,9,10]\n",
    "list3 = remove_occurrences_element(list1,2)\n",
    "print(list3)"
   ]
  },
  {
   "cell_type": "code",
   "execution_count": 107,
   "id": "1bbaeb2d-2134-4e64-b90d-1a947e1fd540",
   "metadata": {},
   "outputs": [
    {
     "name": "stdout",
     "output_type": "stream",
     "text": [
      "7\n"
     ]
    }
   ],
   "source": [
    "#12. Implement a code to find the second largest number in given list of integers.\n",
    "def second_largest(list1): \n",
    "    list1.sort(reverse = True)\n",
    "    for i in list1:\n",
    "        if i == list1[1]:\n",
    "            return i\n",
    "l = [1,5,6,2,1,4,7,3,2,1,5,8]\n",
    "xy = second_largest(l)\n",
    "print(xy)"
   ]
  },
  {
   "cell_type": "code",
   "execution_count": 25,
   "id": "3df206a5-2e64-4ee2-a273-37cf7a00c2d6",
   "metadata": {},
   "outputs": [
    {
     "name": "stdout",
     "output_type": "stream",
     "text": [
      "{1: 2, 2: 2, 3: 1, 4: 1, 5: 2, 6: 1, 7: 1, 13: 1, 89: 1}\n"
     ]
    }
   ],
   "source": [
    "#13. Create a code to count the occurances of each element in a list and return a dictionary with elements as keys and their counts as values.\n",
    "def list1(element):\n",
    "        return {x:element.count(x) for x in set(element)}\n",
    "        \n",
    "v = [1,2,3,1,2,13,4,5,6,89,7,5]\n",
    "result = list1(v)\n",
    "print(result)"
   ]
  },
  {
   "cell_type": "code",
   "execution_count": 42,
   "id": "368102f5-968e-4ea3-95bd-6076c7e9bbc7",
   "metadata": {},
   "outputs": [
    {
     "name": "stdout",
     "output_type": "stream",
     "text": [
      "[5, 7, 89, 6, 5, 4, 13, 2, 1, 3, 2, 1]\n"
     ]
    }
   ],
   "source": [
    "# 14. write a code to reverse a list in-place without using any built-in reverse functions.\n",
    "def list1(list_1):\n",
    "    return list_1[::-1]\n",
    "v = [1,2,3,1,2,13,4,5,6,89,7,5]\n",
    "print(list1(v))\n"
   ]
  },
  {
   "cell_type": "code",
   "execution_count": 42,
   "id": "1c909abe-0468-4669-88d7-7943a6df139d",
   "metadata": {},
   "outputs": [
    {
     "name": "stdout",
     "output_type": "stream",
     "text": [
      "[5, 7, 89, 6, 5, 4, 13, 2, 1, 3, 2, 1]\n"
     ]
    }
   ],
   "source": [
    "# 14. write a code to reverse a list in-place without using any built-in reverse functions.\n",
    "def list1(list_1):\n",
    "    return list_1[::-1]\n",
    "v = [1,2,3,1,2,13,4,5,6,89,7,5]\n",
    "print(list1(v))\n"
   ]
  },
  {
   "cell_type": "code",
   "execution_count": 61,
   "id": "ff51e63e-b982-4367-9fbd-0008fba5ea2b",
   "metadata": {},
   "outputs": [
    {
     "name": "stdout",
     "output_type": "stream",
     "text": [
      "[1, 2, 3, 4, 5, 6, 7, 8, 9, 10, 36, 21, 25]\n"
     ]
    }
   ],
   "source": [
    "# 15.Implement a code to find and remove duplicates from a list while preserving the original order of elements.\n",
    "list3 = [1,2,3,4,5,6,7,8,9,25,10,2,3,5,9,2,1,5,3,2,1,5,2,6,8,7,9,4,21,36,4,2,25,10,2,3]\n",
    "def revome_elements(list3):\n",
    "    for i in list3:\n",
    "        x = set(list3)\n",
    "        return list(x)\n",
    "\n",
    "\n",
    "list3 = [1,2,3,4,5,6,7,8,9,25,10,2,3,5,9,2,1,5,3,2,1,5,2,6,8,7,9,4,21,36,4,2,25,10,2,3]\n",
    "print(revome_elements(list3))"
   ]
  },
  {
   "cell_type": "code",
   "execution_count": 65,
   "id": "9efff6f7-c454-49d7-8ea0-a7f304c36767",
   "metadata": {},
   "outputs": [
    {
     "name": "stdout",
     "output_type": "stream",
     "text": [
      "Given list is not sorted\n"
     ]
    }
   ],
   "source": [
    "# 16.Created a code to check if a given list is sorted (either in ascending or descending order) or not\n",
    "\n",
    "def list_1(list4):\n",
    "    a = list4.sort()\n",
    "    if list4 == a:\n",
    "        print(\"Given list is sorted.\")\n",
    "    else:\n",
    "        return \"Given list is not sorted\"\n",
    "    \n",
    "list4 = [1,2,3,4,5,6,7,8,9,25,10,2,3,5,9,2,1,5,3,2,1,5,2,6,8,7,9,4,21,36,4,2,25,10,2,3]\n",
    "x1 = list_1(list4)\n",
    "print(x1)"
   ]
  },
  {
   "cell_type": "code",
   "execution_count": 77,
   "id": "6b01c615-1c52-497b-aa01-907d4f6ecad5",
   "metadata": {},
   "outputs": [
    {
     "name": "stdout",
     "output_type": "stream",
     "text": [
      "[1, 2, 3, 4, 5, 6, 7, 8, 9, 10]\n"
     ]
    }
   ],
   "source": [
    "# 17. Write a code to merge two sorted list into single sorted list.\n",
    "def input_list(x,y):\n",
    "    return sorted(x+y)\n",
    "    \n",
    "x = [1,3,5,2,4,6]\n",
    "y = [8,7,9,10]\n",
    "x2 = input_list(x,y)\n",
    "print(x2)"
   ]
  },
  {
   "cell_type": "code",
   "execution_count": 78,
   "id": "703d380d-40e8-43cc-8387-3aee68d2959f",
   "metadata": {},
   "outputs": [
    {
     "name": "stdout",
     "output_type": "stream",
     "text": [
      "[1, 2, 3, 4, 5, 6, 7, 8, 9, 10, 25]\n"
     ]
    }
   ],
   "source": [
    "# 18.Implement a code to find the intersection of two given lists\n",
    "def intersection_list(list7,list8):\n",
    "    s1 =set(list7)\n",
    "    s2 = set(list8)\n",
    "    vinay = s1 & s2 \n",
    "    return list(vinay)\n",
    "\n",
    "list7 = [1,2,3,4,5,6,7,8,9,25,10]\n",
    "list8 = [2,3,5,9,2,1,5,3,2,1,5,2,6,8,7,9,4,21,36,4,2,25,10,2,3]\n",
    "x1 = intersection_list(list7,list8)\n",
    "print(x1)"
   ]
  },
  {
   "cell_type": "code",
   "execution_count": 1,
   "id": "2abe1310-bbd9-4a61-8aea-a480a69e4e3f",
   "metadata": {},
   "outputs": [
    {
     "name": "stdout",
     "output_type": "stream",
     "text": [
      "[1, 2, 3, 4, 5, 6, 7, 8, 9, 10, 21, 25, 36]\n"
     ]
    }
   ],
   "source": [
    "# 19. Create a code to find the union of two lists without duplicates. \n",
    "def list_1(list9,list10):\n",
    "    s1 =set(list9)\n",
    "    s2 = set(list10)\n",
    "    a1 = s1 | s2\n",
    "    return list(a1)\n",
    "\n",
    "list9 = [1,2,3,4,5,6,7,8,9,25,10]\n",
    "list10 = [2,3,5,9,2,1,5,3,2,1,5,2,6,8,7,9,4,21,36,4,2,25,10,2,3]\n",
    "result_1 = list_1(list9,list10)\n",
    "print(result_1)"
   ]
  },
  {
   "cell_type": "code",
   "execution_count": 6,
   "id": "6ab221e5-5e3b-4514-a67f-71f0f708854c",
   "metadata": {},
   "outputs": [
    {
     "name": "stdout",
     "output_type": "stream",
     "text": [
      "[8, 2, 3, 4, 5, 6, 7, 1, 9, 25, 10]\n"
     ]
    }
   ],
   "source": [
    "# 20.Write a code to shuffle a given list randomly without using any buit-in shuffle functions.\n",
    "import random\n",
    "\n",
    "def shuffle_list(list3):\n",
    "    n = len(list3)\n",
    "    for i in range(n-1):\n",
    "        j = random.randint(0,n-1)\n",
    "        list3[i],list3[j] = list3[j],list3[i] \n",
    "        return list3\n",
    "\n",
    "list3 = [1,2,3,4,5,6,7,8,9,25,10]\n",
    "x2 = shuffle_list(list3)\n",
    "print(x2)"
   ]
  },
  {
   "cell_type": "code",
   "execution_count": 60,
   "id": "d5daeb4b-685b-469a-8562-b04a15d5a92e",
   "metadata": {},
   "outputs": [
    {
     "name": "stdin",
     "output_type": "stream",
     "text": [
      "first tuple_1 : 1,2,3\n",
      "second tuple_2 : 2,3,6\n"
     ]
    },
    {
     "name": "stdout",
     "output_type": "stream",
     "text": [
      "common tuple is :  ('2', '3')\n"
     ]
    }
   ],
   "source": [
    "# 21. Write a code that takes two tuples as input and returns a new tuple containing elements that are common to both input tuples.\n",
    "\n",
    "def common_tuple():\n",
    "    tuple_1 = tuple(input(\"first tuple_1 :\" ).split(','))\n",
    "    tuple_2 = tuple(input(\"second tuple_2 :\").split(','))\n",
    "    a1 = set(tuple_1)\n",
    "    a2 = set (tuple_2)\n",
    "    a3 = a1 & a2\n",
    "    return tuple(a3)\n",
    "\n",
    "result = common_tuple()\n",
    "print(\"common tuple is : \",result)\n"
   ]
  },
  {
   "cell_type": "code",
   "execution_count": 59,
   "id": "f2e87f2e-2cd9-4c8c-ad39-bf049904fef4",
   "metadata": {},
   "outputs": [
    {
     "name": "stdin",
     "output_type": "stream",
     "text": [
      "Set1 : 1,2,3\n",
      "Set2 : 3,6,5\n"
     ]
    },
    {
     "name": "stdout",
     "output_type": "stream",
     "text": [
      "{'3'}\n"
     ]
    }
   ],
   "source": [
    "# 22. Create a code that prompts the user to enter two sets of integers separated by commas.Then,Print the intersection of these two sets.\n",
    "\n",
    "def set_1():\n",
    "    s1 = set(input(\"Set1 :\").split(','))\n",
    "    s2 = set(input(\"Set2 :\").split(','))\n",
    "    s3 = s1 & s2\n",
    "    return s3\n",
    "\n",
    "result = set_1()\n",
    "print(result)\n"
   ]
  },
  {
   "cell_type": "code",
   "execution_count": 5,
   "id": "978bc721-81e8-4051-b8a4-3cd200545b62",
   "metadata": {},
   "outputs": [
    {
     "name": "stdin",
     "output_type": "stream",
     "text": [
      "Tuple1 =  1,2,3\n",
      "Tuple2 =  4,5,6\n"
     ]
    },
    {
     "name": "stdout",
     "output_type": "stream",
     "text": [
      "('1', '2', '3', '4', '5', '6')\n"
     ]
    }
   ],
   "source": [
    "# 23.Write code to concatenate two tuples.function should take two tuples as input and return a new tuple containing elements from both input tuples.\n",
    "\n",
    "def tuple_4():\n",
    "    tup1 = tuple(input(\"Tuple1 = \").split(\",\"))\n",
    "    tup2 = tuple(input(\"Tuple2 = \").split(\",\"))\n",
    "    tup3 = tuple(tup1 + tup2)\n",
    "    return tup3\n",
    "\n",
    "result = tuple_4()\n",
    "print(result)"
   ]
  },
  {
   "cell_type": "code",
   "execution_count": 3,
   "id": "abde1b2a-f3c2-4d26-aa96-a86496101c04",
   "metadata": {},
   "outputs": [
    {
     "name": "stdin",
     "output_type": "stream",
     "text": [
      "Enter the first set :  123\n",
      "Enter the second set : 235\n"
     ]
    },
    {
     "name": "stdout",
     "output_type": "stream",
     "text": [
      "1\n"
     ]
    }
   ],
   "source": [
    "#24.Develop code that prompts the user to input two sets of strings.Then,Print the elements that are present in the first set but not in the second set.\n",
    "\n",
    "def strings_sets():\n",
    "    \n",
    "    set1 = input(\"Enter the first set : \")\n",
    "    set2 = input(\"Enter the second set :\")\n",
    "\n",
    "    for i in set1:\n",
    "        if i not in set2:\n",
    "            return i\n",
    "result = strings_sets()\n",
    "print(result)\n"
   ]
  },
  {
   "cell_type": "code",
   "execution_count": 14,
   "id": "31afe916-533b-4571-bbee-821dcfeae73a",
   "metadata": {},
   "outputs": [
    {
     "name": "stdin",
     "output_type": "stream",
     "text": [
      "Enter the tuple : 1235698\n",
      "Enter the start : 1\n",
      "Enter the end :  3\n"
     ]
    },
    {
     "name": "stdout",
     "output_type": "stream",
     "text": [
      "(2, 3, 5, 7, 8, 9)\n"
     ]
    }
   ],
   "source": [
    "# 25.Create a code that takes a tuple and two integers as input. The function should return a new tuple containing elements from the original tuple\n",
    "#within the specified range of indices.\n",
    "\n",
    "def tuple_2(original_tuple,start,end):\n",
    "    original_tuple_1 = tuple(input(\"Enter the tuple :\"))\n",
    "    start_1 = int(input(\"Enter the start :\"))\n",
    "    end_1 = int(input(\"Enter the end : \"))\n",
    "    return original_tuple[start:end]\n",
    "    \n",
    "result = tuple_2(original_tuple,start,end)\n",
    "print(result)"
   ]
  },
  {
   "cell_type": "code",
   "execution_count": 41,
   "id": "f336d81a-496b-4bfb-9030-30ed28247e85",
   "metadata": {},
   "outputs": [
    {
     "name": "stdin",
     "output_type": "stream",
     "text": [
      "Enter the charcters : vinay\n",
      "Enter the characters : kumar\n"
     ]
    },
    {
     "name": "stdout",
     "output_type": "stream",
     "text": [
      "{'v', 'm', 'u', 'r', 'a', 'k', 'y', 'n', 'i'}\n"
     ]
    }
   ],
   "source": [
    "#26. Write a code that promts the user to input two sets of characters. Then,Print the union of these two sets.\n",
    "set_1 = set(input(\"Enter the charcters :\"))\n",
    "set_2 = set(input(\"Enter the characters :\"))\n",
    "\n",
    "set_3 = set_1.union(set_2)\n",
    "print(set_3)"
   ]
  },
  {
   "cell_type": "code",
   "execution_count": 56,
   "id": "69b288d7-27c5-44f2-92cd-f31e8f49db1a",
   "metadata": {},
   "outputs": [
    {
     "name": "stdout",
     "output_type": "stream",
     "text": [
      "(8, ' is maximum number.', 'And', 1, ' is minimum number.')\n"
     ]
    }
   ],
   "source": [
    "#27. Develop a code that takes a tuple of integers as input.The Function should return the maximum and minimum values from the using tuple unpacking.\n",
    "def tuple_1(tup_1):\n",
    "    for i in tup_1:\n",
    "        for k in tup_1:\n",
    "            if i is max(tup_1):\n",
    "                if k is min(tup_1):\n",
    "                    return i,\" is maximum number.\",\"And\", k,\" is minimum number.\"\n",
    "            \n",
    "tup_1 = (1,2,3,5,3,8)\n",
    "result = tuple_1(tup_1)\n",
    "print(result)"
   ]
  },
  {
   "cell_type": "code",
   "execution_count": 60,
   "id": "6dff223f-e8e0-4e80-978f-6d6d68131017",
   "metadata": {},
   "outputs": [
    {
     "name": "stdout",
     "output_type": "stream",
     "text": [
      "({1, 2, 3, 4, 5, 6, 8, 9}, {3, 4, 5, 6, 9}, {1, 2})\n"
     ]
    }
   ],
   "source": [
    "#28.Create a code that defines two sets of integers.Then,Print the union,intersection,and difference of these two sets.\n",
    "def sets_1 (set_1,set_2):\n",
    "    set_3 = set_1.union(set_2)\n",
    "    set_4 = set_1.intersection(set_2)\n",
    "    set_5 = set_1 - set_2\n",
    "    return set_3,set_4,set_5\n",
    "\n",
    "set_1 = {1,2,3,6,5,9,3,4}\n",
    "set_2 = {5,6,9,8,5,9,4,5,3,8}\n",
    "result = sets_1 (set_1,set_2)\n",
    "print(result)"
   ]
  },
  {
   "cell_type": "code",
   "execution_count": 11,
   "id": "17a4f577-672f-4003-ad99-72823410d3e6",
   "metadata": {},
   "outputs": [
    {
     "name": "stdout",
     "output_type": "stream",
     "text": [
      "2\n"
     ]
    }
   ],
   "source": [
    "#29. Write a code that takes a tuple and an elements as input.The function should return the count of occurrences of the given elements in the tuple.\n",
    "def tuple_1(tuple_2,element):\n",
    "    for i in tuple_2:\n",
    "        if i == element:\n",
    "            return tuple_2.count(i)\n",
    "\n",
    "tuple_2 = (1,2,2,3,2,6,4,5,2,0,2,3,2,5,6,8,6,7,8,9,1)\n",
    "result = tuple_1(tuple_2,1)\n",
    "print(result)"
   ]
  },
  {
   "cell_type": "code",
   "execution_count": 11,
   "id": "d0afdd57-f6db-4fc1-9455-b8ea45ee4455",
   "metadata": {},
   "outputs": [],
   "source": [
    "#30.Develop a code that promts the user to input two sets of strings.Then, print the symmetric difference of these two sets.\n",
    "def symmetric_difference():\n",
    "    set_1 = set(input(\"Enter the First set : \").split(\",\"))\n",
    "    set_2 = set(input(\"Enter the second set :\").split(\",\"))\n",
    "    return set_1 ^ set_2\n",
    "\n",
    "result = symmetric_difference()\n",
    "print(result)       "
   ]
  },
  {
   "cell_type": "code",
   "execution_count": 10,
   "id": "4def9ee1-71f5-4f90-a62f-69e841194687",
   "metadata": {},
   "outputs": [],
   "source": [
    "# 31. Write a code that takes a list of words as input and return a dictionary where the keys are unique words and the values are the frequencies\n",
    "#   of those words in the input list.\n",
    "def list_1(list_2):\n",
    "        return {word : list_2.count(word) for word in list_2}\n",
    "list_2 = [\"vinay\",\"kumar\",\"vinay\",\"sanjay\",\"sanjeev\",\"chintan\"]\n",
    "result = list_1(list_2)\n",
    "print(result)"
   ]
  },
  {
   "cell_type": "code",
   "execution_count": 9,
   "id": "f899f3a9-2dbb-4794-857b-0cfb00c43b1e",
   "metadata": {},
   "outputs": [],
   "source": [
    "# 32. Write a code that takes two dictionaries as input and merges them into a single dictionary.if there are common keys, the values should be\n",
    "#  added together.\n",
    "def dict_3(dict_1,dict_2):\n",
    "    dict_6 = {}\n",
    "    for key,value in dict_1.items():\n",
    "         dict_6[key] = value\n",
    "\n",
    "    for key,value in dict_2.items():\n",
    "        if key in dict_6:\n",
    "            dict_6[key] = dict_6[key] + value\n",
    "        else:\n",
    "            dict_6[key] = value\n",
    "    return dict_6    \n",
    "   \n",
    "dict_1 = {'kumar': 1, 'sanjay': 1, 'sanjeev': 1,'kinjal': 8}\n",
    "dict_2 = {'kinjal': 4,'chintan': 1,'vinay': 2}\n",
    "result = dict_3(dict_1,dict_2)\n",
    "print(result)"
   ]
  },
  {
   "cell_type": "code",
   "execution_count": 19,
   "id": "35408d0c-7230-4a64-9ac6-b0a432a1b22a",
   "metadata": {},
   "outputs": [],
   "source": [
    "# 33. Write a code to access a value in a nestesd dictionary.the function should take the dictionary and a list of keys as input,and return the \n",
    "#  corresponding value.if any of the keys do not exist in the dictionary,the function should return none.\n",
    "\n",
    "def nested_dict(dictionary,keys):\n",
    "    value = dictionary\n",
    "    for key in keys:\n",
    "        if key in value:\n",
    "            value = value[key]\n",
    "        else:\n",
    "            return None\n",
    "        return value\n",
    "\n",
    "dic_1 = {\"a\":{\"b\":{\"c\":12}}}\n",
    "keys = [\"a\",\"b\",\"c\"]\n",
    "print(nested_dict(dic_1,keys))\n"
   ]
  },
  {
   "cell_type": "code",
   "execution_count": 20,
   "id": "7e7d6301-ad1b-4e9c-87ba-5ff273dca332",
   "metadata": {},
   "outputs": [],
   "source": [
    "#34.Write a code that takes a dictionary as input and returns a sorted version of it based on the values.You can choose whether to sort in ascending \n",
    "# order.\n",
    "def sort_dict(dictionary,ascending=True):\n",
    "    sorted_dict1 = dict(sorted(dictionary.items(),keys=lambda x:x[1],reverse= not ascending))\n",
    "    return sorted_dict1"
   ]
  },
  {
   "cell_type": "code",
   "execution_count": 21,
   "id": "3ef01497-29fa-4400-baca-e63263493fcd",
   "metadata": {},
   "outputs": [],
   "source": [
    "# 35. Write a code that inverts a dictionary,swapping keys and values.Ensure that the inverted dictionary correctly handles cases where multiple keys \n",
    "#  have the same value by storing the keys as a list in the inverted dictionary.\n",
    "def inverted_dict (dictionary):\n",
    "    inverted ={}\n",
    "    for key,value in dictionary.items():\n",
    "        if value in inverted:\n",
    "            inverted[value].append(key)\n",
    "        else:\n",
    "            inverted[value] = [key]\n",
    "    return inverted"
   ]
  }
 ],
 "metadata": {
  "kernelspec": {
   "display_name": "Python 3 (ipykernel)",
   "language": "python",
   "name": "python3"
  },
  "language_info": {
   "codemirror_mode": {
    "name": "ipython",
    "version": 3
   },
   "file_extension": ".py",
   "mimetype": "text/x-python",
   "name": "python",
   "nbconvert_exporter": "python",
   "pygments_lexer": "ipython3",
   "version": "3.13.5"
  }
 },
 "nbformat": 4,
 "nbformat_minor": 5
}
