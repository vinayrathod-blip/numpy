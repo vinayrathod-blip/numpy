{
 "cells": [
  {
   "cell_type": "markdown",
   "id": "5b836747",
   "metadata": {},
   "source": [
    "# CNN Architecture Assignment Solutions"
   ]
  },
  {
   "cell_type": "markdown",
   "id": "5ee69024",
   "metadata": {},
   "source": [
    "### What is a Convolutional Neural Network (CNN), and why is it used for image processing?\n",
    "\n",
    "\n",
    "A CNN is a deep learning model designed to handle data with spatial structures like images.\n",
    "It automatically extracts features (edges, textures, shapes, objects) using convolution operations.\n",
    "CNNs are used for image processing because they:\n",
    "\n",
    "Reduce the need for manual feature extraction.\n",
    "\n",
    "Learn hierarchical patterns.\n"
   ]
  },
  {
   "cell_type": "markdown",
   "id": "b92e3ff9",
   "metadata": {},
   "source": [
    "### What are the key components of a CNN architecture?\n",
    "\n",
    "\n",
    "\n",
    "Input layer – receives image data.\n",
    "\n",
    "Convolutional layer – applies filters to detect features.\n",
    "\n",
    "Activation function (e.g., ReLU) – introduces non-linearity.\n",
    "\n",
    "Pooling layer – reduces feature map size.\n",
    "\n",
    "Fully connected layer (FC) – combines features for classification.\n",
    "\n",
    "Output layer – gives final prediction (e.g., softmax for classes)."
   ]
  },
  {
   "cell_type": "markdown",
   "id": "c55f4190",
   "metadata": {},
   "source": [
    "### What is the role of the convolutional layer in CNNs?\n",
    "It extracts local features by sliding filters (kernels) across the image.\n",
    "Each filter detects a specific pattern, such as vertical edges, curves, or textures."
   ]
  },
  {
   "cell_type": "markdown",
   "id": "7b341898",
   "metadata": {},
   "source": [
    "### What is a filter (kernel) in CNNs?\n",
    "A filter (kernel) is a small matrix (e.g., 3×3, 5×5) that moves over the image.\n",
    "It performs element-wise multiplication and addition, producing a feature map that highlights certain patterns."
   ]
  },
  {
   "cell_type": "markdown",
   "id": "55cc8c0f",
   "metadata": {},
   "source": [
    "### What is pooling in CNNs, and why is it important?\n",
    "Pooling is a down-sampling technique that reduces the size of feature maps.\n",
    "Importance:\n",
    "\n",
    "Makes the model computationally efficient.\n",
    "\n",
    "Prevents overfitting.\n"
   ]
  },
  {
   "cell_type": "markdown",
   "id": "d48b60fe",
   "metadata": {},
   "source": [
    "### What are the common types of pooling used in CNNs?\n",
    "Max pooling → takes maximum value in a region.\n",
    "\n",
    "Average pooling → takes average value.\n",
    "\n",
    "Global average pooling → averages entire feature map to a single number."
   ]
  },
  {
   "cell_type": "markdown",
   "id": "5edebc95",
   "metadata": {},
   "source": [
    "### How does the backpropagation algorithm work in CNNs?\n",
    "Perform forward pass → compute output.\n",
    "\n",
    "Calculate loss (difference between prediction and true label).\n",
    "\n",
    "Backpropagate error through layers:\n",
    "\n",
    "Gradients w.r.t. weights and filters are computed.\n",
    "\n",
    "Use chain rule for convolution and pooling layers.\n",
    "\n",
    "Update weights using optimizer (SGD, Adam)."
   ]
  },
  {
   "cell_type": "markdown",
   "id": "11dd91be",
   "metadata": {},
   "source": [
    "### What is the role of activation functions in CNNs?\n",
    "\n",
    "They add non-linearity, allowing CNNs to learn complex features.\n",
    "Common ones:\n",
    "\n",
    "ReLU → sets negatives to 0 (fast & popular).\n",
    "\n",
    "Sigmoid → outputs between 0–1 (good for probability).\n",
    "\n",
    "Tanh → outputs between -1 and 1."
   ]
  },
  {
   "cell_type": "markdown",
   "id": "14ae7f21",
   "metadata": {},
   "source": [
    "### What is the concept of receptive fields in CNNs?\n",
    "The receptive field is the region of the input image that affects a particular neuron in a feature map.\n",
    "\n",
    "Small receptive fields in early layers → detect edges.\n",
    "\n",
    "Larger receptive fields in deeper layers → detect objects."
   ]
  },
  {
   "cell_type": "markdown",
   "id": "7c0af275",
   "metadata": {},
   "source": [
    "### Explain the concept of tensor space in CNNs?\n",
    "\n",
    "Images and feature maps are stored as tensors (multi-dimensional arrays).\n",
    "\n",
    "Example: (height × width × channels).\n",
    "\n",
    "Operations like convolution, pooling, and activation transform these tensors into new feature tensors."
   ]
  },
  {
   "cell_type": "markdown",
   "id": "685f412e",
   "metadata": {},
   "source": [
    "### What is LeNet-5, and how does it contribute to the development of CNNs?\n",
    "Proposed by Yann LeCun (1998) for digit recognition (MNIST).\n",
    "\n",
    "Architecture: Conv → Pool → Conv → Pool → FC → Output.\n",
    "\n",
    "Contribution: First successful CNN, showed how convolution + pooling can outperform traditional ML."
   ]
  },
  {
   "cell_type": "markdown",
   "id": "f0b4fb47",
   "metadata": {},
   "source": [
    "### What is AlexNet, and why was it a breakthrough in deep learning?\n",
    "AlexNet (2012) won ImageNet competition.\n",
    "\n",
    "Innovations:\n",
    "\n",
    "Used ReLU.\n",
    "\n",
    "Used dropout for regularization.\n",
    "\n",
    "Trained with GPUs for speed.\n",
    "\n",
    "Breakthrough: Proved deep CNNs can outperform humans in some vision tasks."
   ]
  },
  {
   "cell_type": "markdown",
   "id": "c23f10c6",
   "metadata": {},
   "source": [
    "### What is VGGNet, and how does it differ from AlexNet?\n",
    "VGGNet (2014) → very deep CNN (16–19 layers).\n",
    "\n",
    "Used 3×3 filters stacked together instead of large filters.\n",
    "\n",
    "Difference: AlexNet had fewer, larger filters; VGGNet showed depth improves accuracy."
   ]
  },
  {
   "cell_type": "markdown",
   "id": "cf344f0b",
   "metadata": {},
   "source": [
    "### What is GoogLeNet, and what is its main innovation?\n",
    "GoogLeNet (2014) introduced the Inception module.\n",
    "\n",
    "Runs multiple filters (1×1, 3×3, 5×5) in parallel, concatenates results.\n",
    "\n",
    "Innovation: Reduced parameters compared to VGG, more efficient."
   ]
  },
  {
   "cell_type": "markdown",
   "id": "841d84de",
   "metadata": {},
   "source": [
    "### What is ResNet, and what problem does it solve?\n",
    "ResNet (2015) introduced residual (skip) connections.\n",
    "\n",
    "Solved problem: training very deep networks (vanishing gradient).\n",
    "\n",
    "Allowed 100+ layer networks to be trained successfully."
   ]
  },
  {
   "cell_type": "markdown",
   "id": "f4fbbd49",
   "metadata": {},
   "source": [
    "### What is DenseNet, and how does it differ from ResNet?\n",
    "DenseNet (2016) → each layer connects to all previous layers.\n",
    "\n",
    "ResNet → adds outputs (shortcut).\n",
    "\n",
    "DenseNet → concatenates outputs (better feature reuse, fewer parameters)."
   ]
  },
  {
   "cell_type": "markdown",
   "id": "4ef3a231",
   "metadata": {},
   "source": [
    "### What are the main steps involved in training a CNN from scratch?\n",
    "Initialize weights.\n",
    "\n",
    "Forward pass: Input → Conv → Activation → Pool → FC → Output.\n",
    "\n",
    "Compute loss (e.g., cross-entropy).\n",
    "\n",
    "Backpropagate errors to compute gradients.\n",
    "\n",
    "Update weights using optimizer.\n",
    "\n",
    "Repeat for multiple epochs until convergence."
   ]
  },
  {
   "cell_type": "markdown",
   "id": "c2bf1ef3",
   "metadata": {},
   "source": [
    "\n",
    "# Pratical\n",
    "\n",
    "\n",
    "\n",
    "### Implement a basic convolution operation using a filter and a 5x5 image (matrix)"
   ]
  },
  {
   "cell_type": "code",
   "execution_count": null,
   "id": "5eaf0a4f",
   "metadata": {},
   "outputs": [],
   "source": [
    "import numpy as np\n",
    "\n",
    "\n",
    "image = np.array([[1,2,3,4,5],\n",
    "                  [5,6,7,8,9],\n",
    "                  [9,8,7,6,5],\n",
    "                  [4,3,2,1,0],\n",
    "                  [1,0,1,0,1]])\n",
    "\n",
    "\n",
    "kernel = np.array([[1,0,-1],\n",
    "                   [1,0,-1],\n",
    "                   [1,0,-1]])\n",
    "\n",
    "\n",
    "output = np.zeros((image.shape[0]-2, image.shape[1]-2))\n",
    "for i in range(output.shape[0]):\n",
    "    for j in range(output.shape[1]):\n",
    "        region = image[i:i+3, j:j+3]\n",
    "        output[i, j] = np.sum(region * kernel)\n",
    "\n",
    "print(\"Convolution Result:\\n\", output)"
   ]
  },
  {
   "cell_type": "markdown",
   "id": "be883b8b",
   "metadata": {},
   "source": [
    "### Implement max pooling on a 4x4 feature map with a 2x2 window"
   ]
  },
  {
   "cell_type": "code",
   "execution_count": 2,
   "id": "e2d0a473",
   "metadata": {},
   "outputs": [],
   "source": [
    "import numpy as np\n",
    "feature_map = np.array([[1,2,3,4],\n",
    "                        [5,6,7,8],\n",
    "                        [9,10,11,12],\n",
    "                        [13,14,15,16]])\n",
    "\n",
    "pooled = np.zeros((2,2))\n",
    "for i in range(2):\n",
    "    for j in range(2):\n",
    "        region = feature_map[i*2:(i+1)*2, j*2:(j+1)*2]\n",
    "        pooled[i, j] = np.max(region)\n",
    "\n",
    "print(\"Max Pooled Feature Map:\\n\", pooled)"
   ]
  },
  {
   "cell_type": "markdown",
   "id": "d41172e6",
   "metadata": {},
   "source": [
    "### Implement the ReLU activation function on a feature map"
   ]
  },
  {
   "cell_type": "code",
   "execution_count": null,
   "id": "6de31e8f",
   "metadata": {},
   "outputs": [],
   "source": [
    "relu_map = np.maximum(0, output)\n",
    "print(\"ReLU Activation Applied:\\n\", relu_map)"
   ]
  },
  {
   "cell_type": "markdown",
   "id": "36544152",
   "metadata": {},
   "source": [
    "### Create a simple CNN model with one convolutional layer and a fully connected layer, using random data"
   ]
  },
  {
   "cell_type": "code",
   "execution_count": null,
   "id": "65f5e75e",
   "metadata": {},
   "outputs": [],
   "source": [
    "import tensorflow as tf\n",
    "from tensorflow.keras import layers, models\n",
    "\n",
    "# Random data\n",
    "X = np.random.rand(100, 28, 28, 1)\n",
    "y = np.random.randint(0, 10, size=(100,))\n",
    "\n",
    "model = models.Sequential([\n",
    "    layers.Conv2D(16, (3,3), activation='relu', input_shape=(28,28,1)),\n",
    "    layers.Flatten(),\n",
    "    layers.Dense(10, activation='softmax')\n",
    "])\n",
    "\n",
    "model.compile(optimizer='adam', loss='sparse_categorical_crossentropy', metrics=['accuracy'])\n",
    "history = model.fit(X, y, epochs=3, verbose=1)"
   ]
  },
  {
   "cell_type": "markdown",
   "id": "869af007",
   "metadata": {},
   "source": [
    "### Generate a synthetic dataset using random noise and train a simple CNN model on it"
   ]
  },
  {
   "cell_type": "code",
   "execution_count": null,
   "id": "512b6194",
   "metadata": {},
   "outputs": [],
   "source": [
    "X_train = np.random.rand(500, 28, 28, 1)\n",
    "y_train = np.random.randint(0, 10, size=(500,))\n",
    "\n",
    "model = models.Sequential([\n",
    "    layers.Conv2D(8, (3,3), activation='relu', input_shape=(28,28,1)),\n",
    "    layers.MaxPooling2D((2,2)),\n",
    "    layers.Flatten(),\n",
    "    layers.Dense(10, activation='softmax')\n",
    "])\n",
    "\n",
    "model.compile(optimizer='adam', loss='sparse_categorical_crossentropy', metrics=['accuracy'])\n",
    "model.fit(X_train, y_train, epochs=2, verbose=1)"
   ]
  },
  {
   "cell_type": "markdown",
   "id": "45fa7187",
   "metadata": {},
   "source": [
    "### Create a simple CNN using Keras with one convolution layer and a max-pooling layer"
   ]
  },
  {
   "cell_type": "code",
   "execution_count": null,
   "id": "f3e77202",
   "metadata": {},
   "outputs": [],
   "source": [
    "cnn_model = models.Sequential([\n",
    "    layers.Conv2D(16, (3,3), activation='relu', input_shape=(28,28,1)),\n",
    "    layers.MaxPooling2D((2,2)),\n",
    "    layers.Flatten(),\n",
    "    layers.Dense(10, activation='softmax')\n",
    "])\n",
    "\n",
    "cnn_model.summary()"
   ]
  },
  {
   "cell_type": "markdown",
   "id": "3463e880",
   "metadata": {},
   "source": [
    "### Write a code to add a fully connected layer after the convolution and max-pooling layers in a CNN"
   ]
  },
  {
   "cell_type": "code",
   "execution_count": null,
   "id": "fd7a7f24",
   "metadata": {},
   "outputs": [],
   "source": [
    "cnn_model = models.Sequential([\n",
    "    layers.Conv2D(16, (3,3), activation='relu', input_shape=(28,28,1)),\n",
    "    layers.MaxPooling2D((2,2)),\n",
    "    layers.Flatten(),\n",
    "    layers.Dense(64, activation='relu'),  # Fully connected layer\n",
    "    layers.Dense(10, activation='softmax')\n",
    "])\n",
    "\n",
    "cnn_model.summary()"
   ]
  },
  {
   "cell_type": "markdown",
   "id": "86a76e27",
   "metadata": {},
   "source": [
    "### Write a code to add batch normalization to a simple CNN model"
   ]
  },
  {
   "cell_type": "code",
   "execution_count": null,
   "id": "27640c51",
   "metadata": {},
   "outputs": [],
   "source": [
    "cnn_model = models.Sequential([\n",
    "    layers.Conv2D(16, (3,3), activation='relu', input_shape=(28,28,1)),\n",
    "    layers.BatchNormalization(),\n",
    "    layers.MaxPooling2D((2,2)),\n",
    "    layers.Flatten(),\n",
    "    layers.Dense(10, activation='softmax')\n",
    "])\n",
    "\n",
    "cnn_model.summary()"
   ]
  },
  {
   "cell_type": "markdown",
   "id": "4fe4ec42",
   "metadata": {},
   "source": [
    "### Write a code to add dropout regularization to a simple CNN model"
   ]
  },
  {
   "cell_type": "code",
   "execution_count": null,
   "id": "4ac110a6",
   "metadata": {},
   "outputs": [],
   "source": [
    "cnn_model = models.Sequential([\n",
    "    layers.Conv2D(16, (3,3), activation='relu', input_shape=(28,28,1)),\n",
    "    layers.MaxPooling2D((2,2)),\n",
    "    layers.Dropout(0.5),\n",
    "    layers.Flatten(),\n",
    "    layers.Dense(10, activation='softmax')\n",
    "])\n",
    "\n",
    "cnn_model.summary()"
   ]
  },
  {
   "cell_type": "markdown",
   "id": "8215684f",
   "metadata": {},
   "source": [
    "### Write a code to print the architecture of the VGG16 model in Keras"
   ]
  },
  {
   "cell_type": "code",
   "execution_count": null,
   "id": "21dba140",
   "metadata": {},
   "outputs": [],
   "source": [
    "from tensorflow.keras.applications import VGG16\n",
    "\n",
    "vgg = VGG16()\n",
    "vgg.summary()"
   ]
  },
  {
   "cell_type": "markdown",
   "id": "88737f16",
   "metadata": {},
   "source": [
    "### Write a code to plot the accuracy and loss graphs after training a CNN model"
   ]
  },
  {
   "cell_type": "code",
   "execution_count": null,
   "id": "f20bd4a2",
   "metadata": {},
   "outputs": [],
   "source": [
    "import matplotlib.pyplot as plt\n",
    "\n",
    "plt.plot(history.history['accuracy'], label='accuracy')\n",
    "plt.plot(history.history['loss'], label='loss')\n",
    "plt.xlabel('Epoch')\n",
    "plt.ylabel('Value')\n",
    "plt.legend()\n",
    "plt.show()"
   ]
  },
  {
   "cell_type": "markdown",
   "id": "bd0fa9d4",
   "metadata": {},
   "source": [
    "### Write a code to print the architecture of the ResNet50 model in Keras"
   ]
  },
  {
   "cell_type": "code",
   "execution_count": null,
   "id": "e1d6d016",
   "metadata": {},
   "outputs": [],
   "source": [
    "from tensorflow.keras.applications import ResNet50\n",
    "\n",
    "resnet = ResNet50()\n",
    "resnet.summary()"
   ]
  },
  {
   "cell_type": "markdown",
   "id": "134308a1",
   "metadata": {},
   "source": [
    "### Write a code to train a basic CNN model and print the training loss and accuracy after each epoch"
   ]
  },
  {
   "cell_type": "code",
   "execution_count": null,
   "id": "b703b8b2",
   "metadata": {},
   "outputs": [],
   "source": [
    "model = models.Sequential([\n",
    "    layers.Conv2D(8, (3,3), activation='relu', input_shape=(28,28,1)),\n",
    "    layers.MaxPooling2D((2,2)),\n",
    "    layers.Flatten(),\n",
    "    layers.Dense(10, activation='softmax')\n",
    "])\n",
    "\n",
    "model.compile(optimizer='adam', loss='sparse_categorical_crossentropy', metrics=['accuracy'])\n",
    "history = model.fit(X_train, y_train, epochs=3, verbose=1)"
   ]
  }
 ],
 "metadata": {
  "kernelspec": {
   "display_name": "Python 3 (ipykernel)",
   "language": "python",
   "name": "python3"
  },
  "language_info": {
   "codemirror_mode": {
    "name": "ipython",
    "version": 3
   },
   "file_extension": ".py",
   "mimetype": "text/x-python",
   "name": "python",
   "nbconvert_exporter": "python",
   "pygments_lexer": "ipython3",
   "version": "3.9.13"
  }
 },
 "nbformat": 4,
 "nbformat_minor": 5
}
