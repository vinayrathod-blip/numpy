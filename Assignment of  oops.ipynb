{
 "cells": [
  {
   "cell_type": "code",
   "execution_count": null,
   "id": "5a1aefca-6500-4b0a-ac0f-238bf5063fb7",
   "metadata": {},
   "outputs": [],
   "source": [
    "#1. Explain the importance of function.\n",
    "\n",
    "function Break down to Complex task to smaller.\n",
    "Function reduse the size of program.\n",
    "functions allowing code to be reused instead of rewritten."
   ]
  },
  {
   "cell_type": "code",
   "execution_count": 1,
   "id": "f24dd651-d1b9-4ca6-9a08-b7dd214f61b4",
   "metadata": {},
   "outputs": [],
   "source": [
    "#2. Write the basic function to greet students.\n",
    "def greet_student():\n",
    "    print(\"Good morning students!\")"
   ]
  },
  {
   "cell_type": "code",
   "execution_count": 3,
   "id": "df9355f3-4e57-4e1b-99c2-9a2e4b1a7415",
   "metadata": {},
   "outputs": [],
   "source": [
    "#3. What is difference between print and return statements?\n",
    "\n",
    "print does not break a code while return break a code of program."
   ]
  },
  {
   "cell_type": "code",
   "execution_count": null,
   "id": "9b00fb2b-27d9-4508-97bf-a371e1420194",
   "metadata": {},
   "outputs": [],
   "source": [
    "#4. What are the *args and *kwargs?\n",
    "\n",
    "*args means any arguments which we given in function.\n",
    "**kwargs means function should accept any numbers of arguments and it's treated as key and value pairs."
   ]
  },
  {
   "cell_type": "code",
   "execution_count": 4,
   "id": "37904358-adfe-4c78-bba0-640512a78839",
   "metadata": {},
   "outputs": [],
   "source": [
    "#5. Explain the iterator function.\n",
    "iterator is an object that used to iterate over iterable objects"
   ]
  },
  {
   "cell_type": "code",
   "execution_count": 2,
   "id": "b665ade3-932e-4039-a9da-481d6c2e365d",
   "metadata": {},
   "outputs": [],
   "source": [
    "#6.Write a code that generates the squares of numbers from 1 to n using a generator.\n",
    "def squares_of_numbers(n):\n",
    "    for i in range(1,n):\n",
    "        print(n**2)"
   ]
  },
  {
   "cell_type": "code",
   "execution_count": null,
   "id": "f50ce864-a613-4056-b0e1-9286ecab155b",
   "metadata": {},
   "outputs": [],
   "source": [
    "#7. Write a code that generates palindromic numbers up to n using a generator.\n",
    "def palindromes(n):\n",
    "    for i in range(1, n+1):\n",
    "        if str(i) == str(i)[::-1]:\n",
    "            yield i"
   ]
  },
  {
   "cell_type": "code",
   "execution_count": null,
   "id": "38d98402-faab-403e-afcd-6fe368bddbdf",
   "metadata": {},
   "outputs": [],
   "source": [
    "#8 Write a code that generates even numbers from 2 to n using a generator.\n",
    "def generates(n):\n",
    "    for i in range(2, n+1, 2):\n",
    "        yield i "
   ]
  },
  {
   "cell_type": "code",
   "execution_count": null,
   "id": "fb61fd2f-df7d-43c8-b673-80337e17c93f",
   "metadata": {},
   "outputs": [],
   "source": [
    "#9. Write a code that generates powers of two up to n using a generator.\n",
    "def generates(n):\n",
    "    for i in range(n):\n",
    "        yield i ** 2"
   ]
  },
  {
   "cell_type": "code",
   "execution_count": null,
   "id": "bc6a6862-87e0-4e4f-9f17-324c1b77e093",
   "metadata": {},
   "outputs": [],
   "source": [
    "#10. Write a code that generates prime numbers up to n using a generator.\n",
    "def is_prime(num):\n",
    "    if num < 2:\n",
    "        return False\n",
    "    for i in range(2, int(num**0.5)+1):\n",
    "        if num % i == 0:\n",
    "            return False\n",
    "    return True\n",
    "\n",
    "def prime_generator(n):\n",
    "    for i in range(2, n+1):\n",
    "        if is_prime(i):\n",
    "            yield i"
   ]
  },
  {
   "cell_type": "code",
   "execution_count": 3,
   "id": "e353b148-5e69-4391-b790-f55dbd167c0c",
   "metadata": {},
   "outputs": [],
   "source": [
    "#11. Write a code that uses a lambda function to calculate the sum of two numbers.\n",
    "\n",
    "a = lambda x,y : x+y "
   ]
  },
  {
   "cell_type": "code",
   "execution_count": 5,
   "id": "12d6a2ef-baab-4fd1-bb38-b387c8c5a11e",
   "metadata": {},
   "outputs": [],
   "source": [
    "#12. Write a code that uses a lambda function to calculate the square of a given number.\n",
    "a = lambda x : x**2"
   ]
  },
  {
   "cell_type": "code",
   "execution_count": 9,
   "id": "df09b2bf-4925-4aad-9ae1-f968fd6305e8",
   "metadata": {},
   "outputs": [],
   "source": [
    "#13. Write a code that uses a lambda function to check whether a given number is even or odd.\n",
    "a = lambda x : \"even\" if x%2==0 else \"odd\""
   ]
  },
  {
   "cell_type": "code",
   "execution_count": 12,
   "id": "238b605c-7657-4bda-b5f3-d09a0c193b42",
   "metadata": {},
   "outputs": [],
   "source": [
    "#15. Write a code that uses a lambda function to concatenate two strings.\n",
    "a = lambda x,y : x+y"
   ]
  },
  {
   "cell_type": "code",
   "execution_count": 19,
   "id": "8e2d497f-a4f4-43dd-8770-01da2488e54c",
   "metadata": {},
   "outputs": [],
   "source": [
    "#16. Write a code that uses a lambda function to find the maximum of three given numbers.\n",
    "a = lambda x,y,z : max(x,y,z)"
   ]
  },
  {
   "cell_type": "code",
   "execution_count": 35,
   "id": "e90b25b9-61bb-4d6b-8d2b-b3423198d6a0",
   "metadata": {},
   "outputs": [],
   "source": [
    "#17. Write a code that generate the squares of even numbers from given list.\n",
    "def list_1(list_2):\n",
    "    for i in list_2:\n",
    "        if i%2==0:\n",
    "            print(i**2)"
   ]
  },
  {
   "cell_type": "code",
   "execution_count": 5,
   "id": "4b634e33-0939-4a0e-90e4-d31890da5aa5",
   "metadata": {},
   "outputs": [],
   "source": [
    "#18. Write a code that calculates the product of positive numbers from given list.\n",
    "def vinay(numbers_1):\n",
    "    product = 1\n",
    "    for i in numbers_1:\n",
    "        if i>0:\n",
    "            product = product * i\n",
    "    return product"
   ]
  },
  {
   "cell_type": "code",
   "execution_count": 20,
   "id": "f05f886a-2404-4fd9-8a89-d27032c26916",
   "metadata": {},
   "outputs": [],
   "source": [
    "#19. Write a code that doubles the values odd numbers from given lists.\n",
    "def double_value(value_1):\n",
    "    for i in value_1:\n",
    "        if i%2!=0 :\n",
    "            print(i*2)"
   ]
  },
  {
   "cell_type": "code",
   "execution_count": 27,
   "id": "dd999ec3-3137-4235-a816-0f2c1d73d258",
   "metadata": {},
   "outputs": [],
   "source": [
    "#20. Write a code that calculate the sum of cubes of numbers from a given list.\n",
    "def cube_number(number_1):\n",
    "    sum_1 = 0\n",
    "    for i in number_1:\n",
    "        a = i**3\n",
    "        sum_1 += a\n",
    "    return sum_1"
   ]
  },
  {
   "cell_type": "code",
   "execution_count": 5,
   "id": "02078fda-954c-4e9d-a689-e078c35025b6",
   "metadata": {},
   "outputs": [],
   "source": [
    "#21. Write a code that filter out prime numbers from given list.\n",
    "def is_prime(n):\n",
    "    if n < 2:\n",
    "        return False\n",
    "    return all(n % i != 0 for i in range(2, int(n**0.5) + 1))\n",
    "\n",
    "numbers = [2, 3, 4, 5, 6, 7, 8, 9, 10, 11]\n",
    "primes = list(filter(is_prime, numbers))\n",
    "print(primes) "
   ]
  },
  {
   "cell_type": "code",
   "execution_count": 7,
   "id": "b4d86915-4dba-4e23-b1c4-71712da8bb03",
   "metadata": {},
   "outputs": [],
   "source": [
    "#22. Write a code that uses a lambda function to calculate the sum of two numbers.\n",
    "sum_numbers = lambda a,b : a+b\n",
    "print(sum_numbers(5,11))"
   ]
  },
  {
   "cell_type": "code",
   "execution_count": 9,
   "id": "e166784b-b36e-46b0-bb94-4ab924ccd0a1",
   "metadata": {},
   "outputs": [],
   "source": [
    "#23. Write a code that uses a lambda function to calculate the square of a given number.\n",
    "square = lambda a : a**2\n",
    "print(square(2))"
   ]
  },
  {
   "cell_type": "code",
   "execution_count": 13,
   "id": "e05c12ae-7693-47a2-990f-e4fade9c1225",
   "metadata": {},
   "outputs": [],
   "source": [
    "#24.Write a code that uses a lambda function to check whether a given number is even or odd.\n",
    "number = lambda a : \"Even\" if a%2 ==0 else \"odd\""
   ]
  },
  {
   "cell_type": "code",
   "execution_count": 16,
   "id": "2414060d-7397-433c-a59c-6fe9c5297d8f",
   "metadata": {},
   "outputs": [],
   "source": [
    "#25.Write a code that uses a lambda function to concatenate two strings.\n",
    "concat = lambda a,b : a+b\n",
    "print(concat(\"Hello\",\" World\"))"
   ]
  },
  {
   "cell_type": "code",
   "execution_count": 18,
   "id": "cb8c2e30-146f-40a9-94a5-e73011697bf4",
   "metadata": {},
   "outputs": [],
   "source": [
    "#26. Write a code that uses a lambda function to find the maximum of three given numbers.\n",
    "maximum_number = lambda a,b,c : max(a,b,c)\n",
    "maximum_number(1,2,3)"
   ]
  },
  {
   "cell_type": "code",
   "execution_count": null,
   "id": "cb77b6a0-218e-49ef-875c-5c9326522a67",
   "metadata": {},
   "outputs": [],
   "source": [
    "#27.What is encapsulation in OOP?\n",
    "Encapsulation isfundamental principles of object-oriented programming (OOP).\n",
    "It refers to bundling data (variables) and methods (functions) that operate on that data into a single unit.\n",
    "i.e., a class. It also involves restricting direct access to some of an object components, which helps in data hiding."
   ]
  },
  {
   "cell_type": "code",
   "execution_count": null,
   "id": "9a5d2d24-922e-4004-adfa-7a8f921c30b4",
   "metadata": {},
   "outputs": [],
   "source": [
    "#28. Explain the use of access modifiers in Python classes.\n",
    "public: Accessible from anywhere (e.g., self.name)\n",
    "_protected: Conventionally meant for internal use (e.g., self._name)\n",
    "__private: Name mangled to prevent access from outside (e.g., self.__name)"
   ]
  },
  {
   "cell_type": "code",
   "execution_count": null,
   "id": "55db3836-8146-4d5e-ad50-fa6d0a3bddb2",
   "metadata": {},
   "outputs": [],
   "source": [
    "#29. What is inheritance in OOP?\n",
    "Inheritance allows one class (child) to acquire the attributes and methods of another class (parent), promoting code reuse."
   ]
  },
  {
   "cell_type": "code",
   "execution_count": null,
   "id": "6ac755b6-621e-4a62-9009-e4f6b828568b",
   "metadata": {},
   "outputs": [],
   "source": [
    "#30.Define polymorphism in OOP\n",
    "Polymorphism means many forms.It allows objects of different classes to be treated as instances of the same class through a common interface."
   ]
  },
  {
   "cell_type": "code",
   "execution_count": null,
   "id": "d188e430-b205-4ecd-97b4-9d2a523fa67f",
   "metadata": {},
   "outputs": [],
   "source": [
    "#31.Explain method overriding in Python\n",
    "Method overriding occurs when a subclass provides a specific implementation of a method already defined in its parent class."
   ]
  },
  {
   "cell_type": "code",
   "execution_count": 19,
   "id": "b3147530-9b51-4048-8c14-d5d7edf89763",
   "metadata": {},
   "outputs": [],
   "source": [
    "#32.Define a parent class Animal with a method make_sound that prints \"Generic animal sound\". Create a child class Dog inheriting from Animal with a method make_sound that prints \"Woof!\"\n",
    "class Animal:\n",
    "    def make_sound(self):\n",
    "        print(\"Generic animal sound\")\n",
    "\n",
    "class Dog(Animal):\n",
    "    def make_sound(self):\n",
    "        print(\"Woof!\")"
   ]
  },
  {
   "cell_type": "code",
   "execution_count": 20,
   "id": "2109bea4-56a1-48c1-b090-c329ade29df4",
   "metadata": {},
   "outputs": [],
   "source": [
    "#33.Define a method move in the Animal class that prints \"Animal moves\". Override the move method in the Dog class to print \"Dog runs\".\n",
    "class Animal:\n",
    "    def move(self):\n",
    "        print(\"Animal moves\")\n",
    "\n",
    "class Dog(Animal):\n",
    "    def move(self):\n",
    "        print(\"Dog runs.\")"
   ]
  },
  {
   "cell_type": "code",
   "execution_count": 21,
   "id": "ff968918-3c5a-4032-bb59-60f6f14140ac",
   "metadata": {},
   "outputs": [],
   "source": [
    "#34.Create a class Mammal with a method reproduce that prints \"Giving birth to live young.\" Create a class DogMammal inheriting from both Dog and Mammal\n",
    "class Mammal:\n",
    "    def method(self):\n",
    "        print(\"Giving birth to live young.\")\n",
    "class Dog:\n",
    "    def key(self):\n",
    "        print(\"Woof!\")\n",
    "class DogMammal(Mammal,Dog):\n",
    "    pass"
   ]
  },
  {
   "cell_type": "code",
   "execution_count": null,
   "id": "8f47b81f-b670-41b7-902d-1e23e8c3966c",
   "metadata": {},
   "outputs": [],
   "source": [
    "#35.Create a class GermanShepherd inheriting from Dog and override the make_sound method to print \"Bark!.\n",
    "class GermanShepherd(Dog):\n",
    "    def make_sound(self):\n",
    "        print(\"Bark!\")\n"
   ]
  },
  {
   "cell_type": "code",
   "execution_count": null,
   "id": "a19a66da-dcae-4d3d-8316-b4d91e5d72b4",
   "metadata": {},
   "outputs": [],
   "source": [
    "#36.Define constructors in both the Animal and Dog classes with different initialization parameters.\n",
    "class Animal:\n",
    "    def __init__(self, species):\n",
    "        self.species = species\n",
    "\n",
    "class Dog(Animal):\n",
    "    def __init__(self, breed, species=\"Dog\"):\n",
    "        super().__init__(species)\n",
    "        self.breed = breed\n"
   ]
  },
  {
   "cell_type": "code",
   "execution_count": null,
   "id": "fa1f604d-8c90-49bc-9a21-e334512039b1",
   "metadata": {},
   "outputs": [],
   "source": [
    "#37.What is abstraction in Python? How is it implemented?\n",
    "Abstraction hides the internal implementation and only exposes essential details. It is used to reduce complexity and improve readability.\n",
    "implementation:\n",
    "from abc import ABC, abstractmethod\n",
    "\n",
    "class Animal(ABC):\n",
    "    @abstractmethod\n",
    "    def make_sound(self):\n",
    "        pass\n",
    "\n",
    "class Dog(Animal):\n",
    "    def make_sound(self):\n",
    "        return \"Bark\"\n",
    "\n",
    "d = Dog()\n",
    "print(d.make_sound())\n"
   ]
  },
  {
   "cell_type": "code",
   "execution_count": null,
   "id": "1b6e6973-fbaa-4c01-bd41-2b398c83fe5d",
   "metadata": {},
   "outputs": [],
   "source": [
    "#38 Explain the importance of abstraction in object-oriented programming.\n",
    "Importance of Abstraction in OOP -->\n",
    "Hides complexity.\n",
    "Helps with scalability and maintainability.\n",
    "Allows focusing on \"what\" the object does, not \"how\"."
   ]
  },
  {
   "cell_type": "code",
   "execution_count": null,
   "id": "cbbfe512-82ad-4a4d-a98f-3e55d536f49c",
   "metadata": {},
   "outputs": [],
   "source": [
    "#39. How are abstract methods different from regular methods in Python?\n",
    "Regular Methods : \n",
    "\n",
    "-Defined normally\n",
    "-Optional to override\n",
    "\n",
    "\n",
    "Abstract Methods :\n",
    "\n",
    "-Declared using @abstractmethod\t\n",
    "-Must be implemented by subclasses"
   ]
  },
  {
   "cell_type": "code",
   "execution_count": null,
   "id": "a1a4a9a0-f6de-4bd6-8633-6f10d5962699",
   "metadata": {},
   "outputs": [],
   "source": [
    "#40. How can you achieve abstraction using interfaces in Python?\n",
    "from abc import ABC, abstractmethod\n",
    "\n",
    "class Fly(ABC):\n",
    "    @abstractmethod\n",
    "    def fly(self):\n",
    "        pass\n",
    "\n",
    "class Bird(Flyable):\n",
    "    def fly(self):\n",
    "        print(\"Bird is flying\")\n"
   ]
  },
  {
   "cell_type": "code",
   "execution_count": 2,
   "id": "f97b16d1-a888-4662-8f7c-6071e63d6187",
   "metadata": {},
   "outputs": [],
   "source": [
    "#41.How Can you provide an example of how abstraction can be utilized to create a common interface for a group of related classes in Python?\n",
    "from abc import ABC, abstractmethod\n",
    "\n",
    "class Shape(ABC):\n",
    "    @abstractmethod\n",
    "    def area(self):\n",
    "        pass\n",
    "\n",
    "class Circle(Shape):\n",
    "    def __init__(self, radius):\n",
    "        self.radius = radius\n",
    "        \n",
    "    def area(self):\n",
    "        return 3.14 * self.radius * self.radius\n",
    "\n",
    "class Square(Shape):\n",
    "    def __init__(self, side):\n",
    "        self.side = side\n",
    "        \n",
    "    def area(self):\n",
    "        return self.side * self.side\n",
    "\n",
    "shapes = [Circle(5), Square(4)]\n",
    "for shape in shapes:\n",
    "    print(shape.area()) \n"
   ]
  },
  {
   "cell_type": "code",
   "execution_count": null,
   "id": "e383681b-dc0d-45d8-afdd-f8cc35445830",
   "metadata": {},
   "outputs": [],
   "source": [
    "#42.How does Python achieve polymorphism through method overriding?\n",
    "Polymorphism allows using a unified interface while calling methods from different subclasses. It’s achieved by overriding methods.\n",
    "class Animal:\n",
    "    def speak(self):\n",
    "        return \"sound\"\n",
    "\n",
    "class Cat(Animal):\n",
    "    def speak(self):\n",
    "        return \"Meow\"\n"
   ]
  },
  {
   "cell_type": "code",
   "execution_count": 6,
   "id": "fc421c2d-eb81-42dd-bd82-b93fcf35bafa",
   "metadata": {},
   "outputs": [],
   "source": [
    "#43. Define a base class with a method and a subclass that overrides the method?\n",
    "class Vehicle:\n",
    "    def move(self):\n",
    "        print(\"Moving...\")\n",
    "\n",
    "class Car(Vehicle):\n",
    "    def move(self):\n",
    "        print(\"Car is moving\")\n",
    "\n",
    "c = Car()\n",
    "c.move()"
   ]
  },
  {
   "cell_type": "code",
   "execution_count": 10,
   "id": "05e6f0d2-f253-4d77-b13e-47a772621930",
   "metadata": {},
   "outputs": [],
   "source": [
    "#44. Define a base class and multiple subclasses with overridden methods.\n",
    "class Animal:\n",
    "    def speak(self):\n",
    "        return \"some sound\"\n",
    "\n",
    "class Dog(Animal):\n",
    "    def speak(self):\n",
    "        return \"Bark\"\n",
    "\n",
    "class Cat(Animal):\n",
    "    def speak(self):\n",
    "        return \"Meow\"\n",
    "\n",
    "for animal in [Dog(), Cat()]:\n",
    "    print(animal.speak())\n"
   ]
  },
  {
   "cell_type": "code",
   "execution_count": null,
   "id": "f712e538-8c36-43f4-8fb4-0f10e4f1cd85",
   "metadata": {},
   "outputs": [],
   "source": [
    "#45.How does polymorphism improve code readability and reusability?\n",
    "- Simplifies code \n",
    "- Improves reusability.\n",
    "- Reduces code duplication.\n",
    "- Makes code more extensible."
   ]
  },
  {
   "cell_type": "code",
   "execution_count": 11,
   "id": "6349e0bb-cf14-47f0-8168-f1abc4db41f9",
   "metadata": {},
   "outputs": [],
   "source": [
    "#46.Describe how Python supports polymorphism with duck typing.\n",
    "class Duck:\n",
    "    def sound(self):\n",
    "        print(\"Quack\")\n",
    "\n",
    "class Person:\n",
    "    def sound(self):\n",
    "        print(\"Hello\")\n",
    "\n",
    "def make_sound(entity):\n",
    "    entity.sound()\n",
    "\n",
    "make_sound(Duck())    \n",
    "make_sound(Person())  "
   ]
  },
  {
   "cell_type": "code",
   "execution_count": 12,
   "id": "7756f87f-832b-410a-a851-82af6c588191",
   "metadata": {},
   "outputs": [],
   "source": [
    "#47.How do you achieve encapsulation in Python?\n",
    "Encapsulation is hiding internal state and requiring all interaction to be performed through methods.\n",
    "class Employee:\n",
    "    def __init__(self, name):\n",
    "        self.__name = name \n",
    "    \n",
    "    def get_name(self):\n",
    "        return self.__name"
   ]
  },
  {
   "cell_type": "code",
   "execution_count": 46,
   "id": "17129314-c9c2-4a44-aa89-e222b8fc5e65",
   "metadata": {},
   "outputs": [],
   "source": [
    "#48.Can encapsulation be bypassed in Python? If so, how.\n",
    "class Employee:\n",
    "    def __init__(self, name):\n",
    "        self.__name = name \n",
    "    \n",
    "    def get_name(self):\n",
    "        return self.__name\n",
    "e = Employee(\"vinay\")\n",
    "print(e._Employee__name)"
   ]
  },
  {
   "cell_type": "code",
   "execution_count": 14,
   "id": "326871bb-ca5f-408c-96db-0e11667db6a4",
   "metadata": {},
   "outputs": [],
   "source": [
    "#49.Implement a class BankAccount with a private balance attribute. Include methods to deposit, withdraw,and check the balance\n",
    "class BankAccount:\n",
    "    def __init__(self):\n",
    "        self.__balance = 0\n",
    "\n",
    "    def deposit(self, amount):\n",
    "        self.__balance += amount\n",
    "\n",
    "    def withdraw(self, amount):\n",
    "        if amount <= self.__balance:\n",
    "            self.__balance -= amount\n",
    "\n",
    "    def check_balance(self):\n",
    "        return self.__balance"
   ]
  },
  {
   "cell_type": "code",
   "execution_count": 15,
   "id": "8a76058c-89b9-47e0-a4ca-962ef7c402ec",
   "metadata": {},
   "outputs": [],
   "source": [
    "#50.Develop a Person class with private attributes name and email, and methods to set and get the email.\n",
    "class Person:\n",
    "    def __init__(self, name, email):\n",
    "        self.__name = name\n",
    "        self.__email = email\n",
    "\n",
    "    def set_email(self, email):\n",
    "        self.__email = email\n",
    "\n",
    "    def get_email(self):\n",
    "        return self.__email"
   ]
  },
  {
   "cell_type": "code",
   "execution_count": 16,
   "id": "c7710923-3f6f-4faf-ac58-46f813bfef4d",
   "metadata": {},
   "outputs": [],
   "source": [
    "#51. Why is encapsulation considered a pillar of object-oriented programming (OOP)?\n",
    "-Ensures data protection.\n",
    "-Prevents direct access to internal attributes.\n",
    "-Makes code more maintainable."
   ]
  },
  {
   "cell_type": "code",
   "execution_count": 17,
   "id": "a010515d-0d55-47be-b2f1-b0a983ee3e26",
   "metadata": {},
   "outputs": [],
   "source": [
    "#52.Create a decorator in Python that adds functionality to a simple function by printing a message before and after the function execution.\n",
    "def my_decorator(func):\n",
    "    def wrapper():\n",
    "        print(\"Before function\")\n",
    "        func()\n",
    "        print(\"After function\")\n",
    "    return wrapper\n",
    "\n",
    "@my_decorator\n",
    "def greet():\n",
    "    print(\"Hello!\")\n",
    "\n",
    "greet()"
   ]
  },
  {
   "cell_type": "code",
   "execution_count": 48,
   "id": "56690c10-417b-4927-9050-a2edefb3640b",
   "metadata": {},
   "outputs": [],
   "source": [
    "#53.Modify the decorator to accept arguments and print the function name along with the message.\n",
    "def my_decorator(func):\n",
    "    def wrapper(*args, **kwargs):\n",
    "        print(f\"Calling {func.__name__}\")\n",
    "        return func(*args, **kwargs)\n",
    "    return wrapper\n",
    "\n",
    "@my_decorator\n",
    "def greet(name):\n",
    "    print(f\"Hello {name}\")\n",
    "\n",
    "greet(\"vinay\")"
   ]
  },
  {
   "cell_type": "code",
   "execution_count": 50,
   "id": "8f6ff122-8dd7-4133-ae0f-b97ae46c83a3",
   "metadata": {},
   "outputs": [],
   "source": [
    "#54. Create two decorators, and apply them to a single function. Ensure that they execute in the order they are applied.\n",
    "def decorator1(func):\n",
    "    def wrapper(*args, **kwargs):\n",
    "        print(\"Decorator 1\")\n",
    "        return func(*args, **kwargs)\n",
    "    return wrapper\n",
    "\n",
    "def decorator2(func):\n",
    "    def wrapper(*args, **kwargs):\n",
    "        print(\"Decorator 2\")\n",
    "        return func(*args, **kwargs)\n",
    "    return wrapper\n",
    "\n",
    "@decorator1\n",
    "@decorator2\n",
    "def say_hello():\n",
    "    print(\"Hello!\")\n",
    "\n",
    "say_hello()\n"
   ]
  },
  {
   "cell_type": "code",
   "execution_count": 52,
   "id": "2f791138-5f77-491a-9186-84ef8033d17e",
   "metadata": {},
   "outputs": [],
   "source": [
    "#55.Modify the decorator to accept and pass function arguments to the wrapped function.\n",
    "def my_decorator(func):\n",
    "    def wrapper(*args, **kwargs):\n",
    "        print(\"Before the function call\")\n",
    "        result = func(*args, **kwargs)\n",
    "        print(\"After the function call\")\n",
    "        return result\n",
    "    return wrapper\n",
    "\n",
    "@my_decorator\n",
    "def greet(name, greeting=\"Hello\"):\n",
    "    print(f\"{greeting}, {name}!\")\n",
    "greet(\"vinay\")\n",
    "greet(\"hello\", greeting=\"Hi\")\n"
   ]
  },
  {
   "cell_type": "code",
   "execution_count": 21,
   "id": "e1a46129-ee9a-47da-8a77-9a7ee91a0f36",
   "metadata": {},
   "outputs": [],
   "source": [
    "#56.Create a decorator that preserves the metadata of the original function.\n",
    "from functools import wraps\n",
    "\n",
    "def my_decorator(func):\n",
    "    @wraps(func)\n",
    "    def wrapper(*args, **kwargs):\n",
    "        print(\"Before\")\n",
    "        return func(*args, **kwargs)\n",
    "    return wrapper"
   ]
  },
  {
   "cell_type": "code",
   "execution_count": 23,
   "id": "376e0f15-a6ee-4db0-bcbf-d4b84206f2ea",
   "metadata": {},
   "outputs": [],
   "source": [
    "#57.Create a Python class `Calculator` with a static method `add` that takes in two numbers and returns their sum\n",
    "class Calculator:\n",
    "    @staticmethod\n",
    "    def add(a, b):\n",
    "        return a + b"
   ]
  },
  {
   "cell_type": "code",
   "execution_count": 53,
   "id": "911941a3-6dff-40b7-aaa1-01f15ea2687f",
   "metadata": {},
   "outputs": [],
   "source": [
    "#58.Create a Python class `Employee` with a class `method get_employee_count` that returns the total number of employees created.\n",
    "class Employee:\n",
    "    count = 0\n",
    "    def __init__(self):\n",
    "        Employee.count += 1\n",
    "\n",
    "    @classmethod\n",
    "    def get_employee_count(cls):\n",
    "        return cls.count"
   ]
  },
  {
   "cell_type": "code",
   "execution_count": 25,
   "id": "5da8b890-d03c-41bf-985c-1acd60e0f54e",
   "metadata": {},
   "outputs": [],
   "source": [
    "#59.Create a Python class `StringFormatter` with a static method `reverse_string` that takes a string as input and returns its reverse.\n",
    "class StringFormatter:\n",
    "    @staticmethod\n",
    "    def reverse_string(s):\n",
    "        return s[::-1]"
   ]
  },
  {
   "cell_type": "code",
   "execution_count": 26,
   "id": "f96eb45b-08f7-42b6-9d81-e78301cfeaeb",
   "metadata": {},
   "outputs": [],
   "source": [
    "#60.Create a Python class `Circle` with a class method `calculate_area` that calculates the area of a circle given its radius.\n",
    "class Circle:\n",
    "    @classmethod\n",
    "    def calculate_area(cls, radius):\n",
    "        return 3.14 * radius * radius"
   ]
  },
  {
   "cell_type": "code",
   "execution_count": 27,
   "id": "1fcbba80-3665-4ce8-a859-2331856d0242",
   "metadata": {},
   "outputs": [],
   "source": [
    "#61.Create a Python class `TemperatureConverter` with a static method `celsius_to_fahrenheit` that converts Celsius to Fahrenheit\n",
    "class TemperatureConverter:\n",
    "    @staticmethod\n",
    "    def celsius_to_fahrenheit(c):\n",
    "        return (c * 9/5) + 32"
   ]
  },
  {
   "cell_type": "code",
   "execution_count": 28,
   "id": "135b3258-2698-4019-b9cd-e56544162e6c",
   "metadata": {},
   "outputs": [],
   "source": [
    "#62.What is the purpose of the __str__() method in Python classes? Provide an example.\n",
    "The __str__() method in a Python class is used to provide a human-readable string representation of an object. It defines what should be returned when you call str(object) or print the object directly.\n",
    "\n",
    "class Person:\n",
    "    def __init__(self, name):\n",
    "        self.name = name\n",
    "\n",
    "    def __str__(self):\n",
    "        return f\"Person(name={self.name})\"\n"
   ]
  },
  {
   "cell_type": "code",
   "execution_count": 29,
   "id": "ef940836-a985-4da7-af51-dca73f06bf3c",
   "metadata": {},
   "outputs": [],
   "source": [
    "#63.How does the __len__() method work in Python? Provide an example.\n",
    "The __len__() method allows an object to define its length or size, enabling the use of the built-in len() function on instances of that class.\n",
    "When you call len(obj), Python internally calls obj.__len__().\n",
    "It must return an integer representing the number of items or size of the object.\n",
    "\n",
    "\n",
    "class MyList:\n",
    "    def __init__(self, items):\n",
    "        self.items = items\n",
    "\n",
    "    def __len__(self):\n",
    "        return len(self.items)"
   ]
  },
  {
   "cell_type": "code",
   "execution_count": 30,
   "id": "767e00fd-1419-4d8d-ba15-20de059c587d",
   "metadata": {},
   "outputs": [],
   "source": [
    "#64.Explain the usage of the __add__() method in Python classes. Provide an example.\n",
    "The __add__() method lets you define custom behavior for the + operator when used between instances of your class.\n",
    "When you write obj1 + obj2, Python internally calls obj1.__add__(obj2).\n",
    "\n",
    "class Number:\n",
    "    def __init__(self, value):\n",
    "        self.value = value\n",
    "\n",
    "    def __add__(self, other):\n",
    "        return Number(self.value + other.value)\n",
    "\n",
    "n1 = Number(5)\n",
    "n2 = Number(10)\n",
    "n3 = n1 + n2\n",
    "print(n3.value)  \n"
   ]
  },
  {
   "cell_type": "code",
   "execution_count": 31,
   "id": "e9296b32-6b6b-4d51-8aed-aa776ede358e",
   "metadata": {},
   "outputs": [],
   "source": [
    "#65.What is the purpose of the __getitem__() method in Python? Provide an example.\n",
    "The __getitem__() method allows an object to support indexing and slicing using square brackets [], just like lists or dictionaries.\n",
    "When you do obj[key], Python internally calls obj.__getitem__(key).\n",
    "class MyList:\n",
    "    def __init__(self, items):\n",
    "        self.items = items\n",
    "    \n",
    "    def __getitem__(self, index):\n",
    "        return self.items[index]\n",
    "\n",
    "my_list = MyList([10, 20, 30, 40])\n",
    "print(my_list[2])\n",
    "print(my_list[1:3]) \n",
    "\n"
   ]
  },
  {
   "cell_type": "code",
   "execution_count": 32,
   "id": "cae1e4cd-b83a-4bad-83c7-e588c804d896",
   "metadata": {},
   "outputs": [],
   "source": [
    "#66.Explain the usage of the __iter__() and __next__() methods in Python. Provide an example using iterators.\n",
    "__iter__(): Returns the iterator object itself. It is called when an iteration over an object is initialized.\n",
    "__next__(): Returns the next item from the container. If there are no more items, it raises a StopIteration exception to signal the end of iteration.\n",
    "class CountDown:\n",
    "    def __init__(self, start):\n",
    "        self.current = start\n",
    "\n",
    "    def __iter__(self):\n",
    "        return self  \n",
    "        \n",
    "    def __next__(self):\n",
    "        if self.current <= 0:\n",
    "            raise StopIteration\n",
    "        else:\n",
    "            val = self.current\n",
    "            self.current -= 1\n",
    "            return val\n",
    "\n",
    "countdown = CountDown(5)\n",
    "\n",
    "for num in countdown:\n",
    "    print(num)\n"
   ]
  },
  {
   "cell_type": "code",
   "execution_count": 55,
   "id": "58bdbc27-c723-4eeb-8898-98e58fa6ff2c",
   "metadata": {},
   "outputs": [
    {
     "name": "stdout",
     "output_type": "stream",
     "text": [
      "Vinay\n"
     ]
    }
   ],
   "source": [
    "#67.What is the purpose of a getter method in Python? Provide an example demonstrating the use of a getter method using property decorators.\n",
    "A getter method is used to read the value of a private or protected attribute of a class. \n",
    "It provides controlled access to the attribute, allowing validation, logging, or other processing before returning the value.\n",
    "class Person:\n",
    "    def __init__(self, name):\n",
    "        self._name = name \n",
    "\n",
    "    @property\n",
    "    def name(self):\n",
    "        return self._name\n",
    "\n",
    "p = Person(\"Vinay\")\n",
    "print(p.name)  "
   ]
  },
  {
   "cell_type": "code",
   "execution_count": 57,
   "id": "308077b5-20d1-427c-a1e4-063d88b7d18c",
   "metadata": {},
   "outputs": [],
   "source": [
    "#68.Explain the role of setter methods in Python. Demonstrate how to use a setter method to modify a class attribute using property decorators\n",
    "Setter methods allow you to control how a class attribute is modified.\n",
    "They provide a way to add validation, logging, or other logic whenever the attribute value changes.\n",
    "class Person:\n",
    "    def __init__(self, name):\n",
    "        self._name = name \n",
    "    @property\n",
    "    def name(self):\n",
    "        return self._name\n",
    "\n",
    "    @name.setter\n",
    "    def name(self, value):\n",
    "        if not isinstance(value, str):\n",
    "            raise ValueError(\"Name must be a string\")\n",
    "        if len(value) == 0:\n",
    "            raise ValueError(\"Name cannot be empty\")\n",
    "        self._name = value\n",
    "\n",
    "p = Person(\"vinay\")\n",
    "print(p.name) \n",
    "\n",
    "p.name = \"hi\" \n",
    "print(p.name)  \n"
   ]
  },
  {
   "cell_type": "code",
   "execution_count": 36,
   "id": "72ed3892-3ba4-42f3-96e8-9fdf183a86a0",
   "metadata": {},
   "outputs": [],
   "source": [
    "#69.What is the purpose of the @property decorator in Python? Provide an example illustrating its usage.\n",
    "-Use getter methods without changing the syntax of accessing attributes.\n",
    "-Encapsulate instance variables with controlled access.\n",
    "-Easily add validation or computed properties without changing the interface.\n",
    "\n",
    "class Circle:\n",
    "    def __init__(self, radius):\n",
    "        self._radius = radius \n",
    "    @property\n",
    "    def radius(self):\n",
    "        return self._radius\n",
    "\n",
    "    @property\n",
    "    def area(self):\n",
    "        return 3.1416 * (self._radius ** 2)\n",
    "\n",
    "c = Circle(5)\n",
    "print(c.radius)  \n",
    "print(c.area)  \n"
   ]
  },
  {
   "cell_type": "code",
   "execution_count": 38,
   "id": "cd374bff-04a7-4988-a41e-b76da72620e6",
   "metadata": {},
   "outputs": [],
   "source": [
    "#70.Explain the use of the @deleter decorator in Python property decorators. Provide a code example demonstrating its application\n",
    "The @deleter decorator is used to define a method that is called when a property is deleted using the del keyword.\n",
    "It works together with @property  and @<property>.setter (setter) to manage attribute access and deletion in a controlled way.\n",
    "\n",
    "class Person:\n",
    "    def __init__(self, name):\n",
    "        self._name = name\n",
    "\n",
    "    @property\n",
    "    def name(self):\n",
    "        return self._name\n",
    "\n",
    "    @name.setter\n",
    "    def name(self, value):\n",
    "        if not isinstance(value, str):\n",
    "            raise ValueError(\"Name must be a string\")\n",
    "        self._name = value\n",
    "\n",
    "    @name.deleter\n",
    "    def name(self):\n",
    "        print(\"Deleting name...\")\n",
    "        del self._name\n",
    "\n",
    "p = Person(\"vinay\")\n",
    "print(p.name)  \n",
    "\n",
    "p.name = \"hi\"\n",
    "print(p.name)  \n",
    "\n",
    "del p.name    "
   ]
  },
  {
   "cell_type": "code",
   "execution_count": 39,
   "id": "10f6b1ad-c436-4aa4-904a-6050356adede",
   "metadata": {},
   "outputs": [],
   "source": [
    "#71.How does encapsulation relate to property decorators in Python? Provide an example showcasing encapsulation using property decorators.\n",
    "capsulation is one of the core principles of Object-Oriented Programming (OOP) that restricts direct access to some of an object components, usually its attributes, to prevent accidental modification and to control how data is accessed or modified.\n",
    "class BankAccount:\n",
    "    def __init__(self, balance=0):\n",
    "        self._balance = balance \n",
    "\n",
    "    @property\n",
    "    def balance(self):\n",
    "        return self._balance\n",
    "\n",
    "    @balance.setter\n",
    "    def balance(self, amount):\n",
    "        if amount < 0:\n",
    "            raise ValueError(\"Balance cannot be negative\")\n",
    "        self._balance = amount\n",
    "\n",
    "    @balance.deleter\n",
    "    def balance(self):\n",
    "        print(\"Deleting balance...\")\n",
    "        del self._balance\n",
    "\n",
    "\n",
    "account = BankAccount(100)\n",
    "print(account.balance)  \n",
    "account.balance = 200\n",
    "print(account.balance) \n",
    "del account.balance     "
   ]
  },
  {
   "cell_type": "code",
   "execution_count": null,
   "id": "af9a473d-7e37-49db-bc9e-2f5766f7f672",
   "metadata": {},
   "outputs": [],
   "source": []
  }
 ],
 "metadata": {
  "kernelspec": {
   "display_name": "Python 3 (ipykernel)",
   "language": "python",
   "name": "python3"
  },
  "language_info": {
   "codemirror_mode": {
    "name": "ipython",
    "version": 3
   },
   "file_extension": ".py",
   "mimetype": "text/x-python",
   "name": "python",
   "nbconvert_exporter": "python",
   "pygments_lexer": "ipython3",
   "version": "3.13.5"
  }
 },
 "nbformat": 4,
 "nbformat_minor": 5
}
