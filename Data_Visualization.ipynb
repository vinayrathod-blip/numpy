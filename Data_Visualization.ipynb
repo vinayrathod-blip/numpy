{
 "cells": [
  {
   "cell_type": "markdown",
   "id": "58927f57-4059-4bc7-9d68-e46ff998d391",
   "metadata": {},
   "source": [
    "## Maplotlib"
   ]
  },
  {
   "cell_type": "code",
   "execution_count": 112,
   "id": "add7d826-baee-475c-be86-b66486814fde",
   "metadata": {},
   "outputs": [],
   "source": [
    "#1. Create a scatter plot using Matplotlib to visualize the relationship between two arrays, x and y for the given data.\n",
    "import matplotlib.pyplot as plt\n",
    "x = [1, 2, 3, 4, 5, 6, 7, 8, 9, 10]\n",
    "y = [2, 4, 5, 7, 6, 8, 9, 10, 12, 13]\n",
    "plt.scatter(x,y,c=\"b\")\n",
    "plt.title(\"visualize the relationship between two arrays\")\n",
    "plt.xlabel(\"X-axis\")\n",
    "plt.ylabel(\"Y-axis\")\n",
    "plt.show()"
   ]
  },
  {
   "cell_type": "code",
   "execution_count": 113,
   "id": "1aa5a99f-f768-4473-9ca4-8d9df6f01a50",
   "metadata": {},
   "outputs": [],
   "source": [
    "# 2.Generate a line plot to visualize the trend of values for the given data.\n",
    "import numpy as np\n",
    "import matplotlib.pyplot as plt\n",
    "import warnings\n",
    "warnings.filterwarnings('ignore')\n",
    "data = np.array([3, 7, 9, 15, 22, 29, 35])\n",
    "plt.plot(data,label = \"Line A\")\n",
    "plt.title(\"visualize the trend of values for the given data\")\n",
    "plt.xlabel(\"X-axis\")\n",
    "plt.ylabel(\"Y-axis\")\n",
    "plt.legend()\n",
    "plt.show()"
   ]
  },
  {
   "cell_type": "code",
   "execution_count": 114,
   "id": "cc5d76d8-c195-4738-b2c9-cfa97be3e63e",
   "metadata": {},
   "outputs": [],
   "source": [
    "#3. Display a bar chart to represent the frequency of each item in the given array categories.\n",
    "import matplotlib.pyplot as plt\n",
    "categories = ['A', 'B', 'C', 'D', 'E']\n",
    "values = [25, 40, 30, 35, 20]\n",
    "plt.bar(categories,values)\n",
    "plt.xlabel(\"categories\")\n",
    "plt.ylabel('values')\n",
    "plt.show()"
   ]
  },
  {
   "cell_type": "code",
   "execution_count": 115,
   "id": "33d2259f-9f00-4619-9416-3396172169bb",
   "metadata": {},
   "outputs": [],
   "source": [
    "#4. Create a histogram to visualize the distribution of values in the array data.\n",
    "import numpy as np\n",
    "import matplotlib.pyplot as plt\n",
    "data = np.random.normal(0, 1, 1000)\n",
    "plt.hist(data,bins = 10,edgecolor='black')\n",
    "plt.xlabel(\"data\")\n",
    "plt.ylabel(\"Frequency\")\n",
    "plt.show()"
   ]
  },
  {
   "cell_type": "code",
   "execution_count": 116,
   "id": "d44ec42c-5522-49ac-8a4b-5e95062e3460",
   "metadata": {},
   "outputs": [],
   "source": [
    "# 5. Show a pie chart to represent the percentage distribution of different sections in the array `sections`.\n",
    "import matplotlib.pyplot as plt\n",
    "sections = ['Section A', 'Section B', 'Section C', 'Section D']\n",
    "sizes = [25, 30, 15, 30]\n",
    "plt.pie(sizes,labels=sections,autopct = '%1.1f%%')\n",
    "plt.title('distribution of different sections')\n",
    "plt.axis('equal')\n",
    "plt.show()"
   ]
  },
  {
   "cell_type": "markdown",
   "id": "d2f7527c-cf83-43b1-8995-301cab62dcc6",
   "metadata": {},
   "source": [
    "## Seaborn"
   ]
  },
  {
   "cell_type": "code",
   "execution_count": 117,
   "id": "7b777c13-b5ee-4179-9e48-95f1a0ec1ffc",
   "metadata": {},
   "outputs": [],
   "source": [
    "#1. Create a scatter plot to visualize the relationship between two variables, by generating a synthetic dataset.\n",
    "import numpy as np\n",
    "import seaborn as sns\n",
    "import pandas as pd\n",
    "import matplotlib.pyplot as plt\n",
    "x = np.random.rand(100)\n",
    "y = np.random.rand(100)\n",
    "sns.scatterplot(x=x,y=y)\n",
    "plt.title(\"Scatter Plot: Relationship Between X and Y\")\n",
    "plt.show()"
   ]
  },
  {
   "cell_type": "code",
   "execution_count": 118,
   "id": "bd698c45-7fec-408f-88f7-b0435c4145fe",
   "metadata": {},
   "outputs": [],
   "source": [
    "#2.Generate a dataset of random numbers. Visualize the distribution of a numerical variable.\n",
    "import numpy as np\n",
    "import seaborn as sns\n",
    "import matplotlib.pyplot as plt\n",
    "data = np.random.rand(100)\n",
    "sns.displot(data,kde=True)\n",
    "plt.show()"
   ]
  },
  {
   "cell_type": "code",
   "execution_count": 119,
   "id": "33aa7f8b-a91f-4b55-8c75-6ffae501a73d",
   "metadata": {},
   "outputs": [],
   "source": [
    "#3. Create a dataset representing categories and their corresponding values. Compare different categories based on numerical values.\n",
    "import pandas as pd\n",
    "import numpy as np\n",
    "import matplotlib.pyplot as plt\n",
    "import seaborn as sns\n",
    "import warnings\n",
    "warnings.filterwarnings('ignore')\n",
    "key = ['A', 'B', 'C', 'D']\n",
    "values = [23, 45, 12, 34]\n",
    "sns.barplot(x=key,y=values,palette='viridis')\n",
    "plt.title('Compare different categories based on numerical values.')\n",
    "plt.xlabel('key')\n",
    "plt.ylabel('values')\n",
    "plt.show()"
   ]
  },
  {
   "cell_type": "code",
   "execution_count": 120,
   "id": "cd9a9e6d-7279-47a8-8923-1061b5093981",
   "metadata": {},
   "outputs": [],
   "source": [
    "#4. Generate a dataset with categories and numerical values. Visualize the distribution of a numerical variable across different categories.\n",
    "import pandas as pd\n",
    "import numpy as np\n",
    "import matplotlib.pyplot as plt\n",
    "import seaborn as sns\n",
    "import warnings\n",
    "warnings.filterwarnings('ignore')\n",
    "X= np.random.choice(['X', 'Y', 'Z'], size=100)\n",
    "Y=np.random.rand(100)\n",
    "sns.boxplot(x=X,y=Y,palette='viridis')\n",
    "plt.show()"
   ]
  },
  {
   "cell_type": "code",
   "execution_count": 121,
   "id": "37134117-3b60-4fd1-bac9-92a87c7f010d",
   "metadata": {},
   "outputs": [],
   "source": [
    "#5. Generate a synthetic dataset with correlated features. Visualize the correlation matrix of a dataset using a heatmap.\n",
    "import pandas as pd\n",
    "import numpy as np\n",
    "import matplotlib.pyplot as plt\n",
    "import seaborn as sns\n",
    "import warnings\n",
    "warnings.filterwarnings('ignore')\n",
    "mean = [0, 0, 0]\n",
    "cov = [[1, 0.9, 0.7], [0.9, 1, 0.4], [0.7, 0.4, 1]]\n",
    "data= np.random.multivariate_normal(mean,cov,size=100)\n",
    "df= pd.DataFrame(data, columns=['column 1', 'column 2', 'column 3'])\n",
    "correlation_matrix =  df.corr()\n",
    "sns.heatmap(correlation_matrix,annot=True,cmap='coolwarm')\n",
    "plt.title(\"Correlation Matrix\")\n",
    "plt.show()"
   ]
  },
  {
   "cell_type": "markdown",
   "id": "32ab9d2e-9ed4-4331-85d1-e3a48b130d0f",
   "metadata": {},
   "source": [
    "## plotly"
   ]
  },
  {
   "cell_type": "code",
   "execution_count": 130,
   "id": "74b01922-fc1c-43fb-842c-cbbf346e779a",
   "metadata": {},
   "outputs": [],
   "source": [
    "#1. Using the given dataset, to generate a 3D scatter plot to visualize the distribution of data points in a three-dimensional space.\n",
    "import numpy as np\n",
    "import pandas as pd\n",
    "import plotly.express as px\n",
    "import plotly.graph_objects as go\n",
    "df_3d = pd.DataFrame({\n",
    "    'X': np.random.uniform(-10, 10, 300),\n",
    "    'Y': np.random.uniform(-10, 10, 300),\n",
    "    'Z': np.random.uniform(-10, 10, 300)\n",
    "})\n",
    "\n",
    "figure_1 = px.scatter_3d(df_3d, x='X', y='Y', z='Z', title='3D Scatter Plot')\n",
    "figure_1.show()"
   ]
  },
  {
   "cell_type": "code",
   "execution_count": 151,
   "id": "741f589b-ee16-46d8-bead-52f2ba2b3760",
   "metadata": {},
   "outputs": [],
   "source": [
    "#2. Using the Student Grades, create a violin plot to display the distribution of scores across different grade categories.\n",
    "import numpy as np\n",
    "import pandas as pd\n",
    "import plotly.express as px\n",
    "np.random.seed(15)\n",
    "data = {\n",
    "'Grade': np.random.choice(['A', 'B', 'C', 'D', 'F'], 200),\n",
    "'Score': np.random.randint(50, 100, 200)\n",
    "}\n",
    "df_1 = pd.DataFrame(data)\n",
    "\n",
    "figure_1 = px.violin(df_1, points='all', x='Grade', y='Score')\n",
    "figure_1.show()\n",
    "#  Using the sales data, generate a heatmap to visualize the variation in sales across\n",
    "# different months and days.\n",
    "np.random.seed(20)\n",
    "data = {\n",
    "'Month': np.random.choice(['Jan', 'Feb', 'Mar', 'Apr', 'May'], 100),\n",
    "'Day': np.random.choice(range(1, 31), 100),\n",
    "'Sales': np.random.randint(1000, 5000, 100)\n",
    "}\n",
    "df_2 = pd.DataFrame(data)\n",
    "\n",
    "figure_2 =px.imshow(df_2,labels=dict(x=\"Month\", y=\"Day\", color=\"Sales\"))\n",
    "figure_2.show()"
   ]
  },
  {
   "cell_type": "code",
   "execution_count": 158,
   "id": "102ef372-8fab-4e08-82bb-c4fc143897c7",
   "metadata": {},
   "outputs": [],
   "source": [
    "# 3. Using the sales data, generate a heatmap to visualize the variation in sales across different months and days.\n",
    "import numpy as np\n",
    "import pandas as pd\n",
    "import plotly.graph_objects as go\n",
    "\n",
    "np.random.seed(20)\n",
    "data = {\n",
    "    'Month': np.random.choice(['Jan', 'Feb', 'Mar', 'Apr', 'May'], 100),\n",
    "    'Day': np.random.choice(range(1, 31), 100),\n",
    "    'Sales': np.random.randint(1000, 5000, 100)\n",
    "}\n",
    "df = pd.DataFrame(data)\n",
    "\n",
    "pivot_table = df.pivot_table(index='Month', columns='Day', values='Sales', aggfunc='mean')\n",
    "\n",
    "fig = go.Figure(data=go.Heatmap(\n",
    "    z=pivot_table.values,\n",
    "    x=pivot_table.columns,\n",
    "    y=pivot_table.index,\n",
    "    colorscale='Viridis'\n",
    "))\n",
    "\n",
    "fig.update_layout(\n",
    "    title='Sales Heatmap by Month and Day',\n",
    "    xaxis_title='Day',\n",
    "    yaxis_title='Month'\n",
    ")\n",
    "\n",
    "fig.show()\n"
   ]
  },
  {
   "cell_type": "code",
   "execution_count": 167,
   "id": "225b251e-b4a2-4500-a739-748648df9045",
   "metadata": {},
   "outputs": [],
   "source": [
    "#4. Using the given x and y data, generate a 3D surface plot to visualize the function z= under_root(x^2+y^2)\n",
    "import numpy as np\n",
    "import pandas as pd\n",
    "import plotly.graph_objects as go\n",
    "\n",
    "x = np.linspace(-5, 5, 100)\n",
    "y = np.linspace(-5, 5, 100)\n",
    "x, y = np.meshgrid(x, y)\n",
    "\n",
    "z = np.sin(np.sqrt(x**2 + y**2))\n",
    "\n",
    "fig = go.Figure(data=go.Surface(z=z,y=y,x=x))\n",
    "fig.update_layout(\n",
    "    title='3D Surface Plot of z = sin(sqrt(x² + y²))',\n",
    "    scene=dict(\n",
    "        xaxis_title='X',\n",
    "        yaxis_title='Y',\n",
    "        zaxis_title='Z'\n",
    "    )\n",
    ")\n",
    "\n",
    "fig.show()\n"
   ]
  },
  {
   "cell_type": "code",
   "execution_count": 175,
   "id": "01a839de-d9c1-4279-a01f-464959baaacd",
   "metadata": {},
   "outputs": [],
   "source": [
    "#5. Using the given dataset, create a bubble chart to represent each country's population (y-axis), GDP (x-axis), and bubble size proportional to the population.\n",
    "import numpy as np\n",
    "import pandas as pd\n",
    "import plotly.graph_objects as go\n",
    "\n",
    "np.random.seed(25)\n",
    "data = {\n",
    "'Country': ['USA', 'Canada', 'UK','Germany', 'France'],\n",
    "'Population':np.random.randint(100, 1000, 5),\n",
    "'GDP': np.random.randint(500, 2000,5)\n",
    "}\n",
    "df = pd.DataFrame(data)\n",
    "\n",
    "fig = go.Figure(data=go.Scatter(x=df['GDP'],y=df['Population'],text=df['Country'],mode='markers'))\n",
    "figure_1.show()"
   ]
  },
  {
   "cell_type": "markdown",
   "id": "eefae89a-c7d4-4c92-b2e3-c0bac002738e",
   "metadata": {},
   "source": [
    "## Bokeh"
   ]
  },
  {
   "cell_type": "code",
   "execution_count": 177,
   "id": "85f2d6cb-d51d-4930-a830-fed2c4c782c6",
   "metadata": {},
   "outputs": [],
   "source": [
    "#1. Using the given dataset, to generate a 3D scatter plot to visualize the distribution of data points in a three-dimensional space.\n",
    "import numpy as np\n",
    "from bokeh.plotting import figure, show\n",
    "\n",
    "x = np.linspace(0, 10, 200)\n",
    "y = np.sin(x)\n",
    "\n",
    "p1 = figure(title=\"Sine Wave\", x_axis_label='x', y_axis_label='sin(x)', width=600, height=400)\n",
    "p1.line(x, y, line_width=2, color='navy')\n",
    "\n",
    "show(p1)\n"
   ]
  },
  {
   "cell_type": "code",
   "execution_count": 180,
   "id": "dd8c70da-41b6-433d-a2bc-869cf70f9bf5",
   "metadata": {},
   "outputs": [],
   "source": [
    "#2.Create a Bokeh scatter plot using randomly generated x and y values. Use different sizes and colors for the markers based on the 'sizes' and 'colors' columns.\n",
    "import numpy as np\n",
    "import pandas as pd\n",
    "from bokeh.plotting import figure, show\n",
    "from bokeh.models import ColumnDataSource\n",
    "\n",
    "np.random.seed(42)\n",
    "data = {\n",
    "    'x': np.random.rand(50) * 10,\n",
    "    'y': np.random.rand(50) * 10,\n",
    "    'sizes': np.random.randint(10, 50, 50),\n",
    "    'colors': np.random.choice(['red', 'green', 'blue', 'orange', 'purple'], 50)\n",
    "}\n",
    "\n",
    "df = pd.DataFrame(data)\n",
    "source = ColumnDataSource(df)\n",
    "\n",
    "p2 = figure(title=\"Scatter Plot with Varying Sizes and Colors\", width=600, height=400)\n",
    "p2.scatter('x', 'y', size='sizes', color='colors', alpha=0.6, source=source)\n",
    "\n",
    "show(p2)\n"
   ]
  },
  {
   "cell_type": "code",
   "execution_count": 181,
   "id": "78591c30-efe1-47d3-a2fd-a00b92ed922d",
   "metadata": {},
   "outputs": [],
   "source": [
    "#3. Generate a Bokeh bar chart representing the counts of different fruits using the following dataset.\n",
    "from bokeh.plotting import figure, show\n",
    "from bokeh.models import ColumnDataSource\n",
    "\n",
    "fruits = ['Apples', 'Oranges', 'Bananas', 'Pears']\n",
    "counts = [20, 25, 30, 35]\n",
    "\n",
    "source = ColumnDataSource(data=dict(fruits=fruits, counts=counts))\n",
    "\n",
    "p3 = figure(x_range=fruits, title=\"Fruit Counts\", y_axis_label='Counts', width=600, height=400)\n",
    "p3.vbar(x='fruits', top='counts', width=0.6, source=source, color=\"skyblue\")\n",
    "\n",
    "show(p3)\n"
   ]
  },
  {
   "cell_type": "code",
   "execution_count": 182,
   "id": "8da586e7-a942-4284-9148-b1e629562b07",
   "metadata": {},
   "outputs": [],
   "source": [
    "#4. Create a Bokeh histogram to visualize the distribution of the given data.\n",
    "import numpy as np\n",
    "from bokeh.plotting import figure, show\n",
    "\n",
    "data_hist = np.random.randn(1000)\n",
    "hist, edges = np.histogram(data_hist, bins=30)\n",
    "\n",
    "p4 = figure(title=\"Histogram\", width=600, height=400)\n",
    "p4.quad(top=hist, bottom=0, left=edges[:-1], right=edges[1:], fill_color=\"navy\", line_color=\"white\", alpha=0.7)\n",
    "\n",
    "show(p4)\n"
   ]
  }
 ],
 "metadata": {
  "kernelspec": {
   "display_name": "Python 3 (ipykernel)",
   "language": "python",
   "name": "python3"
  },
  "language_info": {
   "codemirror_mode": {
    "name": "ipython",
    "version": 3
   },
   "file_extension": ".py",
   "mimetype": "text/x-python",
   "name": "python",
   "nbconvert_exporter": "python",
   "pygments_lexer": "ipython3",
   "version": "3.13.5"
  }
 },
 "nbformat": 4,
 "nbformat_minor": 5
}
