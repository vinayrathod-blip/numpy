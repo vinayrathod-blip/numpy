{
 "cells": [
  {
   "cell_type": "code",
   "execution_count": null,
   "id": "3fe7948b",
   "metadata": {},
   "outputs": [],
   "source": [
    "#1. What is TensorFlow 2.0, and how is it different from TensorFlow 1.x?\n",
    "\n",
    "\n",
    "TensorFlow 2.0 emphasizes eager execution by default, making it more user-friendly and Pythonic.\n",
    "\n",
    "TensorFlow 1.x is graph-centric, requiring sessions and complex boilerplate.\n",
    "\n",
    "TensorFlow 2.0 promotes using tf.keras for building neural networks, making the code cleaner and more maintainable.\n",
    "\n",
    "You can still convert eager code to performant graphs using tf.function if needed.\n",
    "\n",
    "Overall, TensorFlow 2.0 is much easier to learn and faster to prototype with compared to 1.x."
   ]
  },
  {
   "cell_type": "code",
   "execution_count": null,
   "id": "bdf5e100",
   "metadata": {},
   "outputs": [],
   "source": [
    "# 2. How do you install TensorFlow 2.0?\n",
    "\n",
    "\n",
    "pip install tensorflow==2.0.0\n"
   ]
  },
  {
   "cell_type": "code",
   "execution_count": null,
   "id": "cdb14a7b",
   "metadata": {},
   "outputs": [],
   "source": [
    "#3. What is the primary function of the tf.function in TensorFlow 2.0?\n",
    "\n",
    "It allows TensorFlow to run your code faster by compiling it.\n",
    "tf.function converts a Python function into a computational graph for performance optimization."
   ]
  },
  {
   "cell_type": "code",
   "execution_count": null,
   "id": "250b5c6c",
   "metadata": {},
   "outputs": [],
   "source": [
    "# 4. What is the purpose of the Model class in TensorFlow 2.0?\n",
    "\n",
    "\n",
    "The tf.keras.Model class is used to define, train, evaluate, and save deep learning models.\n",
    "It’s the core API for building neural networks in TensorFlow 2."
   ]
  },
  {
   "cell_type": "code",
   "execution_count": 3,
   "id": "95f3238a",
   "metadata": {},
   "outputs": [],
   "source": [
    "# 5.How do you create a neural network using TensorFlow 2.0?\n",
    "\n",
    "import tensorflow as tf\n",
    "\n",
    "model = tf.keras.Sequential([\n",
    "    tf.keras.layers.Dense(128, activation='relu', input_shape=(784,)),\n",
    "    tf.keras.layers.Dense(10, activation='softmax')\n",
    "])\n",
    "\n",
    "model.compile(optimizer='adam', loss='sparse_categorical_crossentropy', metrics=['accuracy'])\n",
    "\n"
   ]
  },
  {
   "cell_type": "code",
   "execution_count": null,
   "id": "1a211400",
   "metadata": {},
   "outputs": [],
   "source": [
    "# 6.What is the importance of Tensor Space in TensorFlow?\n",
    "\n",
    "TensorSpace is a visualization tool to visualize neural networks and tensors in 3D,helping understand model architecture\n",
    "and activation spaces.\n"
   ]
  },
  {
   "cell_type": "code",
   "execution_count": null,
   "id": "aed6144a",
   "metadata": {},
   "outputs": [],
   "source": [
    "# 7. How can TensorBoard be integrated with TensorFlow 2.0?\n",
    "\n",
    "tensorboard_callback = tf.keras.callbacks.TensorBoard(log_dir='./logs')\n",
    "model.fit(x_train, y_train, epochs=5, callbacks=[tensorboard_callback])\n",
    "\n",
    "Then Run in Terminal :\n",
    "    \n",
    "tensorboard --logdir=./logs\n"
   ]
  },
  {
   "cell_type": "code",
   "execution_count": null,
   "id": "66b9be11",
   "metadata": {},
   "outputs": [],
   "source": [
    "#8.What is the purpose of TensorFlow Playground?\n",
    "\n",
    "TensorFlow Playground is an interactive web tool to experiment with simple neural networks visually without coding,\n",
    "great for learning concepts."
   ]
  },
  {
   "cell_type": "code",
   "execution_count": null,
   "id": "fcd29ada",
   "metadata": {},
   "outputs": [],
   "source": [
    "# 9.What is Netron, and how is it useful for deep learning models?\n",
    "\n",
    "Netron is a viewer for neural network model files. It lets you visualize model architectures (layers, shapes)\n",
    "from various frameworks (TensorFlow, PyTorch),helping with debugging and understanding models."
   ]
  },
  {
   "cell_type": "code",
   "execution_count": null,
   "id": "add1335d",
   "metadata": {},
   "outputs": [],
   "source": [
    "# 10. What is the difference between TensorFlow and PyTorch?\n",
    "\n",
    "TensorFlow: More production-ready, graph-based, with strong deployment tools, supports static and eager modes.\n",
    "\n",
    "PyTorch: More Pythonic and dynamic, uses eager execution by default, very popular for research and prototyping."
   ]
  },
  {
   "cell_type": "code",
   "execution_count": null,
   "id": "72dbf99e",
   "metadata": {},
   "outputs": [],
   "source": [
    "# 11. How do you install PyTorch?\n",
    "\n",
    "pip install torch torchvision  # torch vision basically use for computer vision like see the image etc.\n"
   ]
  },
  {
   "cell_type": "code",
   "execution_count": null,
   "id": "446dda67",
   "metadata": {},
   "outputs": [],
   "source": [
    "# 12.What is the basic structure of a PyTorch neural network?\n",
    "\n",
    "import torch.nn as nn\n",
    "\n",
    "class Net(nn.Module):\n",
    "    def __init__(self):\n",
    "        super(Net, self).__init__()\n",
    "        self.fc1 = nn.Linear(784, 128)\n",
    "        self.fc2 = nn.Linear(128, 10)\n",
    "\n",
    "    def forward(self, x):\n",
    "        x = torch.relu(self.fc1(x))\n",
    "        x = self.fc2(x)\n",
    "        return x\n"
   ]
  },
  {
   "cell_type": "code",
   "execution_count": null,
   "id": "012ab095",
   "metadata": {},
   "outputs": [],
   "source": [
    "# 13. What is the significance of tensors in PyTorch?\n",
    "\n",
    "Tensors are the fundamental data structures in PyTorch, representing multidimensional arrays. \n",
    "They support GPU acceleration and automatic differentiation."
   ]
  },
  {
   "cell_type": "code",
   "execution_count": null,
   "id": "03cbdf6e",
   "metadata": {},
   "outputs": [],
   "source": [
    "#14. What is the difference between torch.Tensor and torch.cuda.Tensor in PyTorch?\n",
    "\n",
    "torch.Tensor: Stored on CPU.\n",
    "\n",
    "torch.cuda.Tensor: Stored on GPU for faster computation."
   ]
  },
  {
   "cell_type": "code",
   "execution_count": null,
   "id": "7016702f",
   "metadata": {},
   "outputs": [],
   "source": [
    "# 15.What is the purpose of the torch.optim module in PyTorch?\n",
    "\n",
    "torch.optim contains optimization algorithms (like SGD, Adam) for updating model weights during training."
   ]
  },
  {
   "cell_type": "code",
   "execution_count": 5,
   "id": "db173e30",
   "metadata": {},
   "outputs": [],
   "source": [
    "# 16. What are some common activation functions used in neural networks2\n",
    "\n",
    "ReLU\n",
    "\n",
    "Sigmoid\n",
    "\n",
    "Tanh\n",
    "\n",
    "Softmax"
   ]
  },
  {
   "cell_type": "code",
   "execution_count": null,
   "id": "8fec5c2f",
   "metadata": {},
   "outputs": [],
   "source": [
    "# 17. What is the difference between torch.nn.Module and torch.nn.Sequential in PyTorch?\n",
    "\n",
    "nn.Module: Base class for all models, allows custom architectures.\n",
    "\n",
    "nn.Sequential: Container for stacking layers sequentially in order."
   ]
  },
  {
   "cell_type": "code",
   "execution_count": null,
   "id": "a65c7e90",
   "metadata": {},
   "outputs": [],
   "source": [
    "# 18. How can you monitor training progress in TensorFlow 2.0?\n",
    "\n",
    "printing metrics during model.fit()."
   ]
  },
  {
   "cell_type": "code",
   "execution_count": null,
   "id": "fd9069be",
   "metadata": {},
   "outputs": [],
   "source": [
    "# 19. How does the Keras API fit into TensorFlow 2.0?\n",
    "\n",
    "Keras is the official high-level API of TensorFlow 2.0 for building and training models, making it easier and more intuitive."
   ]
  },
  {
   "cell_type": "code",
   "execution_count": null,
   "id": "b0105f85",
   "metadata": {},
   "outputs": [],
   "source": [
    "# 20. What is an example of a deep learning project that can be implemented using TensorFlow 2.0?\n",
    "Image classification with CNN."
   ]
  },
  {
   "cell_type": "code",
   "execution_count": null,
   "id": "4a55f612",
   "metadata": {},
   "outputs": [],
   "source": [
    "# 21. What is the main advantage of using pre-trained models in TensorFlow and PyTorch?\n",
    "They save training time and resources by leveraging models trained on large datasets\n",
    "and allow transfer learning to improve performance on new tasks with less data."
   ]
  },
  {
   "cell_type": "markdown",
   "id": "587b8629",
   "metadata": {},
   "source": [
    "### Practical"
   ]
  },
  {
   "cell_type": "code",
   "execution_count": null,
   "id": "9601c1fc",
   "metadata": {},
   "outputs": [],
   "source": [
    "# 1.How do you install and verify that TensorFlow 2.0 was installed successfully?\n",
    "\n",
    "pip install tensorflow\n",
    "\n",
    "\n",
    "pimport tensorflow as tf\n",
    "print(tf.__version__)\n"
   ]
  },
  {
   "cell_type": "code",
   "execution_count": null,
   "id": "7b6ffeba",
   "metadata": {},
   "outputs": [],
   "source": [
    "# 2. How can you define a simple function in TensorFlow 2.0 to perform addition?\n",
    "\n",
    "import tensorflow as tf\n",
    "\n",
    "@tf.function \n",
    "def add_tensors(a, b):\n",
    "    return a + b\n",
    "\n",
    "\n",
    "x = tf.constant(5)\n",
    "y = tf.constant(3)\n",
    "result = add_tensors(x, y)\n",
    "print(result.numpy())  \n"
   ]
  },
  {
   "cell_type": "code",
   "execution_count": null,
   "id": "64e4400f",
   "metadata": {},
   "outputs": [],
   "source": [
    "# 3.How can you create a simple neural network in TensorFlow 2.0 with one hidden layer?\n",
    "\n",
    "from tensorflow.keras.models import Sequential\n",
    "from tensorflow.keras.layers import Dense\n",
    "\n",
    "model = Sequential([\n",
    "    Dense(64,input_shape=(5,),activation = 'relu')\n",
    "    Dense(1)   \n",
    "])\n",
    "\n"
   ]
  },
  {
   "cell_type": "code",
   "execution_count": null,
   "id": "8f9176fe",
   "metadata": {},
   "outputs": [],
   "source": [
    "# 4. How can you visualize the training progress using TensorFlow and Matplotlib?\n",
    "\n",
    "import matplotlib.pyplot as plt\n",
    "\n",
    "# Assume you have a trained model and history from model.fit\n",
    "history = model.fit(x_train, y_train, epochs=10, validation_data=(x_val, y_val))\n",
    "\n",
    "\n",
    "plt.plot(history.history['loss'], label='Train Loss')\n",
    "plt.plot(history.history['val_loss'], label='Validation Loss')\n",
    "plt.xlabel('Epoch')\n",
    "plt.ylabel('Loss')\n",
    "plt.legend()\n",
    "plt.show()\n"
   ]
  },
  {
   "cell_type": "code",
   "execution_count": null,
   "id": "74e933a4",
   "metadata": {},
   "outputs": [],
   "source": [
    "# 5.How do you install PyTorch and verify the PyTorch installation?\n",
    "\n",
    "\n",
    "pip install torch torchvision\n",
    "\n",
    "# Verify installation in Python\n",
    "import torch\n",
    "print(torch.__version__)\n"
   ]
  },
  {
   "cell_type": "code",
   "execution_count": null,
   "id": "ebd6b505",
   "metadata": {},
   "outputs": [],
   "source": [
    "# 6. How do you create a simple neural network in PyTorch?\n",
    "import torch\n",
    "import torch.nn as nn\n",
    "import torch.nn.functional as F\n",
    "\n",
    "class SimpleNN(nn.Module):\n",
    "    def __init__(self):\n",
    "        super(SimpleNN, self).__init__()\n",
    "        self.hidden = nn.Linear(5, 10)\n",
    "        self.output = nn.Linear(10, 1)\n",
    "\n",
    "    def forward(self, x):\n",
    "        x = F.relu(self.hidden(x))\n",
    "        x = self.output(x)\n",
    "        return x\n",
    "\n",
    "model = SimpleNN()\n",
    "print(model)\n"
   ]
  },
  {
   "cell_type": "code",
   "execution_count": null,
   "id": "6ca560a7",
   "metadata": {},
   "outputs": [],
   "source": [
    "#7.How do you define a loss function and optimizer in PyTorch?\n",
    "\n",
    "import torch.optim as optim\n",
    "\n",
    "criterion = nn.MSELoss()  # Mean Squared Error loss for regression\n",
    "optimizer = optim.SGD(model.parameters(), lr=0.01)\n"
   ]
  },
  {
   "cell_type": "code",
   "execution_count": null,
   "id": "d445dbf4",
   "metadata": {},
   "outputs": [],
   "source": [
    "#8. How do you implement a custom loss function in PyTorch?\n",
    "\n",
    "class CustomLoss(nn.Module):\n",
    "    def __init__(self):\n",
    "        super(CustomLoss, self).__init__()\n",
    "\n",
    "    def forward(self, outputs, targets):\n",
    "        loss = torch.mean((outputs - targets) ** 2) \n",
    "        return loss\n",
    "\n",
    "criterion = CustomLoss()\n"
   ]
  },
  {
   "cell_type": "code",
   "execution_count": null,
   "id": "426fca7d",
   "metadata": {},
   "outputs": [],
   "source": [
    "# 9. How do you save and load a TensorFlow model?\n",
    "\n",
    "# Save the model\n",
    "model.save('model.h5')\n",
    "\n",
    "# Load the model\n",
    "new_model = tf.keras.models.load_model('model.h5')\n",
    "\n",
    "new_model.summary()\n"
   ]
  }
 ],
 "metadata": {
  "kernelspec": {
   "display_name": "Python 3 (ipykernel)",
   "language": "python",
   "name": "python3"
  },
  "language_info": {
   "codemirror_mode": {
    "name": "ipython",
    "version": 3
   },
   "file_extension": ".py",
   "mimetype": "text/x-python",
   "name": "python",
   "nbconvert_exporter": "python",
   "pygments_lexer": "ipython3",
   "version": "3.9.13"
  }
 },
 "nbformat": 4,
 "nbformat_minor": 5
}
